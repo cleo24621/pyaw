{
 "cells": [
  {
   "cell_type": "code",
   "id": "initial_id",
   "metadata": {
    "collapsed": true,
    "ExecuteTime": {
     "end_time": "2024-12-24T06:48:07.383638Z",
     "start_time": "2024-12-24T06:48:07.293111Z"
    }
   },
   "source": "import numpy as np",
   "outputs": [],
   "execution_count": 2
  },
  {
   "metadata": {},
   "cell_type": "markdown",
   "source": "# version",
   "id": "ff01c690ce4872e6"
  },
  {
   "metadata": {
    "ExecuteTime": {
     "end_time": "2024-12-17T12:34:46.609795Z",
     "start_time": "2024-12-17T12:34:46.605582Z"
    }
   },
   "cell_type": "code",
   "source": "np.__version__",
   "id": "8efc22b7d73ce503",
   "outputs": [
    {
     "data": {
      "text/plain": [
       "'1.25.2'"
      ]
     },
     "execution_count": 4,
     "metadata": {},
     "output_type": "execute_result"
    }
   ],
   "execution_count": 4
  },
  {
   "metadata": {},
   "cell_type": "code",
   "outputs": [],
   "execution_count": null,
   "source": "",
   "id": "4c96297fdfee4a47"
  },
  {
   "metadata": {},
   "cell_type": "markdown",
   "source": "# basic construction",
   "id": "de95b613c129d652"
  },
  {
   "metadata": {
    "ExecuteTime": {
     "end_time": "2024-12-17T12:35:12.679153Z",
     "start_time": "2024-12-17T12:35:12.675150Z"
    }
   },
   "cell_type": "code",
   "source": [
    "a = np.array([[1, 2], [3, 4]])\n",
    "a"
   ],
   "id": "454d6d260949babf",
   "outputs": [
    {
     "data": {
      "text/plain": [
       "array([[1, 2],\n",
       "       [3, 4]])"
      ]
     },
     "execution_count": 6,
     "metadata": {},
     "output_type": "execute_result"
    }
   ],
   "execution_count": 6
  },
  {
   "metadata": {},
   "cell_type": "markdown",
   "source": "# basic operations",
   "id": "3f599c3dfbc43d3"
  },
  {
   "metadata": {
    "ExecuteTime": {
     "end_time": "2024-12-17T12:35:25.075068Z",
     "start_time": "2024-12-17T12:35:25.071032Z"
    }
   },
   "cell_type": "code",
   "source": [
    "b = np.array([[5, 6], [7, 8]])\n",
    "a+b\n"
   ],
   "id": "c4f3b796d9f936b3",
   "outputs": [
    {
     "data": {
      "text/plain": [
       "array([[ 6,  8],\n",
       "       [10, 12]])"
      ]
     },
     "execution_count": 7,
     "metadata": {},
     "output_type": "execute_result"
    }
   ],
   "execution_count": 7
  },
  {
   "metadata": {},
   "cell_type": "markdown",
   "source": "# basic statistics",
   "id": "a236a336784bfdad"
  },
  {
   "metadata": {
    "ExecuteTime": {
     "end_time": "2024-12-24T06:49:05.267220Z",
     "start_time": "2024-12-24T06:49:05.262273Z"
    }
   },
   "cell_type": "code",
   "source": "np.random.randint(1,10,10)",
   "id": "2f1443c7d213dd39",
   "outputs": [
    {
     "data": {
      "text/plain": [
       "array([6, 8, 7, 8, 9, 5, 1, 9, 9, 8])"
      ]
     },
     "execution_count": 6,
     "metadata": {},
     "output_type": "execute_result"
    }
   ],
   "execution_count": 6
  }
 ],
 "metadata": {
  "kernelspec": {
   "display_name": "Python 3",
   "language": "python",
   "name": "python3"
  },
  "language_info": {
   "codemirror_mode": {
    "name": "ipython",
    "version": 2
   },
   "file_extension": ".py",
   "mimetype": "text/x-python",
   "name": "python",
   "nbconvert_exporter": "python",
   "pygments_lexer": "ipython2",
   "version": "2.7.6"
  }
 },
 "nbformat": 4,
 "nbformat_minor": 5
}
