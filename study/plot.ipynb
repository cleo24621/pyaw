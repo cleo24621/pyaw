{
 "cells": [
  {
   "cell_type": "code",
   "execution_count": null,
   "id": "initial_id",
   "metadata": {
    "collapsed": true
   },
   "outputs": [],
   "source": [
    "# 3维信息，色条\n",
    "# plt.pcolormesh()\n",
    "# plt.colorbar()\n",
    "# or\n",
    "# plt.imshow()\n",
    "# plt.colorbar()"
   ]
  },
  {
   "metadata": {},
   "cell_type": "code",
   "outputs": [],
   "execution_count": null,
   "source": [
    "# grid\n",
    "# plt.grid(which='both', linestyle='--', linewidth=0.5)\n",
    "# scale\n",
    "# plt.yscale('log')  # 幅值对数刻度"
   ],
   "id": "8df335b99fcab703"
  }
 ],
 "metadata": {
  "kernelspec": {
   "display_name": "Python 3",
   "language": "python",
   "name": "python3"
  },
  "language_info": {
   "codemirror_mode": {
    "name": "ipython",
    "version": 2
   },
   "file_extension": ".py",
   "mimetype": "text/x-python",
   "name": "python",
   "nbconvert_exporter": "python",
   "pygments_lexer": "ipython2",
   "version": "2.7.6"
  }
 },
 "nbformat": 4,
 "nbformat_minor": 5
}
