{
 "cells": [
  {
   "metadata": {
    "ExecuteTime": {
     "end_time": "2024-10-19T01:38:54.167839Z",
     "start_time": "2024-10-19T01:38:53.989703Z"
    }
   },
   "cell_type": "code",
   "source": "import numpy as np",
   "id": "fc3e3effbedb47a1",
   "outputs": [],
   "execution_count": 1
  },
  {
   "cell_type": "code",
   "id": "initial_id",
   "metadata": {
    "collapsed": true,
    "ExecuteTime": {
     "end_time": "2024-10-19T01:38:54.173897Z",
     "start_time": "2024-10-19T01:38:54.170844Z"
    }
   },
   "source": "rho_i = 8.4",
   "outputs": [],
   "execution_count": 2
  },
  {
   "metadata": {
    "ExecuteTime": {
     "end_time": "2024-10-19T01:38:54.230029Z",
     "start_time": "2024-10-19T01:38:54.227768Z"
    }
   },
   "cell_type": "code",
   "source": "k_transverse = 1/rho_i",
   "id": "e1b02b9bd9d8b29b",
   "outputs": [],
   "execution_count": 3
  },
  {
   "metadata": {
    "ExecuteTime": {
     "end_time": "2024-10-19T01:46:55.802219Z",
     "start_time": "2024-10-19T01:46:55.799572Z"
    }
   },
   "cell_type": "code",
   "source": "va = 20",
   "id": "18717882c02c68c6",
   "outputs": [],
   "execution_count": 10
  },
  {
   "metadata": {
    "ExecuteTime": {
     "end_time": "2024-10-19T01:46:56.551760Z",
     "start_time": "2024-10-19T01:46:56.548576Z"
    }
   },
   "cell_type": "code",
   "source": "(k_transverse * va) / (2 * np.pi)",
   "id": "642d0bc336a9530b",
   "outputs": [
    {
     "data": {
      "text/plain": [
       "0.3789403406949889"
      ]
     },
     "execution_count": 11,
     "metadata": {},
     "output_type": "execute_result"
    }
   ],
   "execution_count": 11
  }
 ],
 "metadata": {
  "kernelspec": {
   "display_name": "Python 3",
   "language": "python",
   "name": "python3"
  },
  "language_info": {
   "codemirror_mode": {
    "name": "ipython",
    "version": 2
   },
   "file_extension": ".py",
   "mimetype": "text/x-python",
   "name": "python",
   "nbconvert_exporter": "python",
   "pygments_lexer": "ipython2",
   "version": "2.7.6"
  }
 },
 "nbformat": 4,
 "nbformat_minor": 5
}
