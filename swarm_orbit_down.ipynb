{
 "cells": [
  {
   "cell_type": "code",
   "id": "10b834535a9f2122",
   "metadata": {
    "ExecuteTime": {
     "end_time": "2025-01-11T03:18:07.580132Z",
     "start_time": "2025-01-11T03:18:06.540830Z"
    }
   },
   "source": [
    "import os\n",
    "import pickle\n",
    "import time\n",
    "from pathlib import Path\n",
    "\n",
    "from viresclient import SwarmRequest\n",
    "import logging"
   ],
   "outputs": [],
   "execution_count": 1
  },
  {
   "metadata": {},
   "cell_type": "code",
   "outputs": [],
   "execution_count": null,
   "source": [
    "def download_orbit_collection(request,spacecraft,orbit_number,collection):\n",
    "    \"\"\"\n",
    "    下载单轨数据产品，并保存到指定路径\n",
    "    :return:\n",
    "    \"\"\"\n",
    "    st,et = request.get_times_for_orbits(orbit_number, orbit_number, spacecraft=spacecraft, mission='Swarm')\n",
    "    sdir = Path(f\"V:/aw/swarm/vires/{collection}\")\n",
    "    sdir = Path(f\"V:/aw/swarm/vires/aux/{collection}\")\n",
    "    # sfn = Path(f\"{collection}_{orbit_number}_{st.strftime('%Y%m%dT%H%M%S')}_{et.strftime('%Y%m%dT%H%M%S')}.pkl\")\n",
    "    sfn = Path(f\"aux_{collection}_{orbit_number}_{st.strftime('%Y%m%dT%H%M%S')}_{et.strftime('%Y%m%dT%H%M%S')}.pkl\")\n",
    "    if not sdir.exists():\n",
    "        sdir.mkdir(parents=True, exist_ok=True)\n",
    "        print(f\"目录已创建: {sdir}\")\n",
    "    if Path(sdir/sfn).exists():\n",
    "        print(f\"文件已存在，跳过下载: {Path(sdir/sfn)}\")\n",
    "        return\n",
    "    download_st = time.time()\n",
    "    data = request.get_between(st,et)\n",
    "    df = data.as_dataframe()\n",
    "    df.to_pickle(sdir/sfn)\n",
    "    download_et = time.time()\n",
    "    # 记录下载信息\n",
    "    logging.info(\n",
    "        f\"Downloaded: {sfn}, \"\n",
    "        f\"Size: {os.path.getsize(Path(sdir/sfn))} bytes, \"\n",
    "        f\"Path: {sdir}, \"\n",
    "        f\"Time: {download_et-download_st}\"\n",
    "    )\n",
    "    print(f\"download {sdir/sfn}\")"
   ],
   "id": "8d9c79490b4facd5"
  },
  {
   "metadata": {},
   "cell_type": "markdown",
   "source": "# TCT16",
   "id": "f4f748cbf808bf01"
  },
  {
   "metadata": {
    "collapsed": true
   },
   "cell_type": "code",
   "outputs": [],
   "execution_count": null,
   "source": [
    "# 配置日志\n",
    "logging.basicConfig(\n",
    "    level=logging.INFO,\n",
    "    format='%(asctime)s - %(message)s',\n",
    "    filename='tct16_download.log',\n",
    "    filemode='w'\n",
    ")\n",
    "logging.basicConfig(\n",
    "    level=logging.ERROR,  # 设置日志级别为 ERROR\n",
    "    format='%(asctime)s - %(levelname)s - %(message)s',  # 设置日志格式\n",
    "    filename='tct16_error.log',  # 将日志写入文件\n",
    "    filemode='w'  # 追加模式\n",
    ")\n",
    "\n",
    "request = SwarmRequest()\n",
    "\n",
    "st = '20140219T023100'\n",
    "et = '20170101T000000'\n",
    "\n",
    "satellite = 'B'\n",
    "\n",
    "orbit_numer_s =\n",
    "\n",
    "# 要循环的列表\n",
    "# 保存为pkl文件，不重复获取\n",
    "# orbit_number_s_e = {'A':(request.get_orbit_number('A', '20160101T000000', mission='Swarm'),\n",
    "#                          request.get_orbit_number('A','20170101T000000',mission='Swarm')),\n",
    "#                 'B': (request.get_orbit_number('B', '20160101T000000', mission='Swarm'),\n",
    "#                       request.get_orbit_number('B', '20170101T000000', mission='Swarm')),\n",
    "#                 'C': (request.get_orbit_number('C', '20160101T000000', mission='Swarm'),\n",
    "#                       request.get_orbit_number('C', '20170101T000000', mission='Swarm')),\n",
    "#                     }\n",
    "# # 保存字典到文件\n",
    "# with open(\"./data/vires/orbit_number_s_e_2016.pkl\", \"wb\") as f:\n",
    "#     pickle.dump(orbit_number_s_e, f)\n",
    "# 加载pkl文件\n",
    "with open(\"./data/vires/orbit_number_s_e_2016.pkl\", \"rb\") as f:\n",
    "    orbit_number_s_e = pickle.load(f)\n",
    "\n",
    "collections_dic = {'TCT16':[\"SW_EXPT_EFIA_TCT16\", \"SW_EXPT_EFIB_TCT16\", \"SW_EXPT_EFIC_TCT16\"],\n",
    "               'MAG_HR':[\"SW_OPER_MAGA_HR_1B\",\"SW_OPER_MAGB_HR_1B\",\"SW_OPER_MAGC_HR_1B\"],\n",
    "               'MAG_LR':[\"SW_OPER_MAGA_LR_1B\",\"SW_OPER_MAGB_LR_1B\",\"SW_OPER_MAGC_LR_1B\"],\n",
    "               'LP_1B':[\"SW_OPER_EFIA_LP_1B\",\"SW_OPER_EFIB_LP_1B\",\"SW_OPER_EFIC_LP_1B\"]}\n",
    "collections_dic_tempo = {'MAG_HR':[\"SW_OPER_MAGA_HR_1B\",\"SW_OPER_MAGB_HR_1B\",\"SW_OPER_MAGC_HR_1B\"]}\n",
    "\n",
    "# for collection_key,collection_value_ls in collections_dic.items():\n",
    "for collection_key,collection_value_ls in collections_dic_tempo.items():\n",
    "    # if collection_key == 'TCT16':·\n",
    "    #     continue\n",
    "    print(collection_key)\n",
    "    print(collection_value_ls)\n",
    "    for collection,(spacecraft, orbit_number_st_et_value) in zip(collection_value_ls, orbit_number_s_e.items()):\n",
    "        print(collection)\n",
    "        print(spacecraft)\n",
    "        print(orbit_number_st_et_value)\n",
    "        request.set_collection(collection)\n",
    "        # measurements = request.available_measurements(collection)\n",
    "        # request.set_products(measurements=measurements)\n",
    "        request.set_products(auxiliaries=['AscendingNodeLongitude','QDLat', 'QDLon','QDBasis', 'MLT','SunDeclination'])\n",
    "        for orbit_number in range(orbit_number_st_et_value[0],orbit_number_st_et_value[1]+1):\n",
    "            print(orbit_number)\n",
    "            try:\n",
    "                download_st = time.time()\n",
    "                download_orbit_collection(request, spacecraft, orbit_number, collection)\n",
    "                time.sleep(1)\n",
    "                download_et = time.time()\n",
    "                print(f\"download cost: {download_et-download_st} s\")\n",
    "            except Exception as e:\n",
    "                # 记录错误信息\n",
    "                logging.error(f\"Error occurred while downloading orbit collection: {e}\", exc_info=True)\n",
    "\n",
    "\n",
    "# def geomagnetic_coordinates():\n",
    "#     \"\"\"\n",
    "#     下载MAGx_HR相应的地磁坐标\n",
    "#     :param request:\n",
    "#     :return:\n",
    "#     \"\"\"\n",
    "#     collections = [\"SW_OPER_MAGA_HR_1B\", \"SW_OPER_MAGB_HR_1B\", \"SW_OPER_MAGC_HR_1B\"]\n",
    "#     for collection in collections:\n",
    "#\n",
    "#\n",
    "# geomagnetic_coordinates()\n",
    "\n",
    "# 一轨数据下载\n",
    "# 极光带 普遍现象？ Wu 2020研究结论 是普遍现象"
   ],
   "id": "initial_id"
  },
  {
   "metadata": {},
   "cell_type": "markdown",
   "source": "# IGRF mag hr 1b",
   "id": "60a10f383271cf9e"
  },
  {
   "metadata": {
    "ExecuteTime": {
     "end_time": "2025-01-11T03:21:56.972512Z",
     "start_time": "2025-01-11T03:20:54.809926Z"
    }
   },
   "cell_type": "code",
   "source": [
    "# 配置日志\n",
    "logging.basicConfig(\n",
    "    level=logging.INFO,\n",
    "    format='%(asctime)s - %(message)s',\n",
    "    filename='IGRF_download.log',\n",
    "    filemode='w'\n",
    ")\n",
    "logging.basicConfig(\n",
    "    level=logging.ERROR,  # 设置日志级别为 ERROR\n",
    "    format='%(asctime)s - %(levelname)s - %(message)s',  # 设置日志格式\n",
    "    filename='IGRF_error.log',  # 将日志写入文件\n",
    "    filemode='w'  # 追加模式\n",
    ")\n",
    "\n",
    "request = SwarmRequest()\n",
    "\n",
    "spacecraft = 'A'  #modify\n",
    "\n",
    "orbit_number = 12885  #modify\n",
    "\n",
    "collection = 'SW_OPER_MAGA_HR_1B'  #modify\n",
    "\n",
    "request.set_collection(collection)\n",
    "request.set_products(models=['IGRF'])\n",
    "\n",
    "try:\n",
    "    st,et = request.get_times_for_orbits(orbit_number, orbit_number, spacecraft=spacecraft, mission='Swarm')\n",
    "    sdir = Path(f\"V:/aw/swarm/vires/IGRF/{collection}\")\n",
    "    sfn = Path(f\"IGRF_{collection}_{orbit_number}_{st.strftime('%Y%m%dT%H%M%S')}_{et.strftime('%Y%m%dT%H%M%S')}.pkl\")\n",
    "    if not sdir.exists():\n",
    "        sdir.mkdir(parents=True, exist_ok=True)\n",
    "        print(f\"目录已创建: {sdir}\")\n",
    "    if Path(sdir/sfn).exists():\n",
    "        print(f\"文件已存在，跳过下载: {Path(sdir/sfn)}\")\n",
    "    else:\n",
    "        download_st = time.time()\n",
    "        data = request.get_between(st,et)\n",
    "        df = data.as_dataframe()\n",
    "        df.to_pickle(sdir/sfn)\n",
    "        download_et = time.time()\n",
    "        # 记录下载信息\n",
    "        logging.info(\n",
    "            f\"Downloaded: {sfn}, \"\n",
    "            f\"Size: {os.path.getsize(Path(sdir/sfn))} bytes, \"\n",
    "            f\"Path: {sdir}, \"\n",
    "            f\"Time: {download_et-download_st}\"\n",
    "        )\n",
    "        print(f\"download {sdir/sfn}\")\n",
    "        time.sleep(1)\n",
    "        download_et = time.time()\n",
    "        print(f\"download cost: {download_et-download_st} s\")\n",
    "except Exception as e:\n",
    "    # 记录错误信息\n",
    "    logging.error(f\"Error occurred while downloading orbit collection: {e}\", exc_info=True)"
   ],
   "id": "923b19326eb21778",
   "outputs": [
    {
     "data": {
      "text/plain": [
       "Processing:    0%|          |  [ Elapsed: 00:00, Remaining: ? ] [1/1] "
      ],
      "application/vnd.jupyter.widget-view+json": {
       "version_major": 2,
       "version_minor": 0,
       "model_id": "ea329134bf2f461996f7ba4394ab4ca4"
      }
     },
     "metadata": {},
     "output_type": "display_data"
    },
    {
     "data": {
      "text/plain": [
       "Downloading:   0%|          |  [ Elapsed: 00:00, Remaining: ? ] (16.003MB)"
      ],
      "application/vnd.jupyter.widget-view+json": {
       "version_major": 2,
       "version_minor": 0,
       "model_id": "7a0e8ddc8a9f4acf964861b04c06a62f"
      }
     },
     "metadata": {},
     "output_type": "display_data"
    },
    {
     "name": "stdout",
     "output_type": "stream",
     "text": [
      "download V:\\aw\\swarm\\vires\\IGRF\\SW_OPER_MAGA_HR_1B\\IGRF_SW_OPER_MAGA_HR_1B_12885_20160311T061733_20160311T075106.pkl\n",
      "download cost: 46.82233500480652 s\n"
     ]
    }
   ],
   "execution_count": 3
  }
 ],
 "metadata": {
  "kernelspec": {
   "display_name": "Python 3",
   "language": "python",
   "name": "python3"
  },
  "language_info": {
   "codemirror_mode": {
    "name": "ipython",
    "version": 2
   },
   "file_extension": ".py",
   "mimetype": "text/x-python",
   "name": "python",
   "nbconvert_exporter": "python",
   "pygments_lexer": "ipython2",
   "version": "2.7.6"
  }
 },
 "nbformat": 4,
 "nbformat_minor": 5
}
