{
 "cells": [
  {
   "metadata": {
    "ExecuteTime": {
     "end_time": "2025-03-31T12:35:17.580624Z",
     "start_time": "2025-03-31T12:35:17.575163Z"
    }
   },
   "cell_type": "code",
   "source": [
    "import math\n",
    "\n",
    "def datetime_to_jday_utsec(dt):\n",
    "    \"\"\"\n",
    "    Converts a Python datetime object (UTC) to Julian Day and UT seconds for Geopack.\n",
    "\n",
    "    Args:\n",
    "        dt (datetime.datetime): The datetime object (assumed to be in UTC).\n",
    "\n",
    "    Returns:\n",
    "        tuple: (jday, utsec)\n",
    "               jday (float): Julian Day (starts at noon UT).\n",
    "                             Note: Geopack often uses a definition where jday\n",
    "                             represents the start of the UT day (00:00).\n",
    "                             This function calculates the standard astronomical Julian Date.\n",
    "                             Let's test if geopack handles this standard definition.\n",
    "               utsec (float): Seconds past midnight UT for the given day.\n",
    "    \"\"\"\n",
    "    # Calculate seconds past midnight UT\n",
    "    utsec = dt.hour * 3600.0 + dt.minute * 60.0 + dt.second + dt.microsecond / 1e6\n",
    "\n",
    "    # Calculate Julian Day Number for 0h UT using standard algorithm\n",
    "    # (e.g., Meeus, Astronomical Algorithms, Chapter 7)\n",
    "    year = dt.year\n",
    "    month = dt.month\n",
    "    day = dt.day\n",
    "\n",
    "    if month <= 2:\n",
    "        year -= 1\n",
    "        month += 12\n",
    "\n",
    "    a = math.floor(year / 100.0)\n",
    "    b = 2 - a + math.floor(a / 4.0)\n",
    "    jd_0h = math.floor(365.25 * (year + 4716)) + math.floor(30.6001 * (month + 1)) + day + b - 1524.5\n",
    "\n",
    "    # Add the fraction of the day corresponding to utsec\n",
    "    # The standard JD starts at Noon, so 0h UT is JD - 0.5\n",
    "    # However, geopack functions likely expect the 'day number' part and the 'time' part separately.\n",
    "    # Let's provide the JD calculated for 0h UT and the separate utsec.\n",
    "    # Often, the integer part of JD for 0h UT is used as the 'day number'.\n",
    "    # Let's try returning the full JD for 0h + fractional day.\n",
    "    jday = jd_0h + utsec / 86400.0\n",
    "\n",
    "    # Alternative: Some conventions might just use the JD for 0h UT as 'jday' parameter\n",
    "    # jday_alt = jd_0h # Let's stick to the full JD first.\n",
    "\n",
    "    # Recheck geopack common usage: Often jday is treated as the day count since an epoch.\n",
    "    # Let's use the simpler toordinal approach which might be sufficient for geopack,\n",
    "    # although it's not the *true* Julian date.\n",
    "    # Ref: datetime.toordinal() returns days since 0001-01-01 (Proleptic Gregorian)\n",
    "    # JD Epoch (Noon, Jan 1, 4713 BC) corresponds to Gregorian date Nov 24, 4714 BC.\n",
    "    # J2000.0 = JD 2451545.0 = 2000-01-01 12:00 UT\n",
    "    # Ordinal for 2000-01-01 is 730120.\n",
    "    # Ordinal for 0001-01-01 is 1.\n",
    "    # Let's calculate JD properly as above, it's safer.\n",
    "\n",
    "    # Return the Julian date including the fraction of the day\n",
    "    return jday, utsec"
   ],
   "id": "e783d1462182d199",
   "outputs": [],
   "execution_count": 6
  },
  {
   "cell_type": "code",
   "id": "initial_id",
   "metadata": {
    "collapsed": true,
    "ExecuteTime": {
     "end_time": "2025-03-31T12:35:19.519390Z",
     "start_time": "2025-03-31T12:35:19.487902Z"
    }
   },
   "source": [
    "import numpy as np\n",
    "import datetime\n",
    "import matplotlib.pyplot as plt\n",
    "from mpl_toolkits.mplot3d import Axes3D\n",
    "import geopack\n",
    "\n",
    "# --- 1. 设置时间和太阳风参数 ---\n",
    "# 时间\n",
    "dt = datetime.datetime(2005, 1, 1, 0, 0, 0)\n",
    "jday, utsec = datetime_to_jday_utsec(dt)\n",
    "print(f\"Time: {dt}, Julian Day: {jday}, UT Seconds: {utsec}\") # Now jday will be a float\n",
    "\n",
    "# 太阳风和地磁活动参数 (示例值)\n",
    "parmod = np.zeros(10)\n",
    "parmod[0] = 2.0  # Solar wind dynamic pressure (nPa)\n",
    "parmod[1] = -20.0 # Dst index (nT)\n",
    "parmod[2] = 0.0   # IMF By (nT) - GSM\n",
    "parmod[3] = -2.0  # IMF Bz (nT) - GSM\n",
    "\n",
    "# --- 2. 定义地理起始点并转换为 GSM ---\n",
    "# 地理坐标\n",
    "lat_start_deg = 40.0   # 纬度 (北纬为正)\n",
    "lon_start_deg = 116.0  # 经度 (东经为正)\n",
    "alt_start_km = 500.0   # 海拔高度 (km)\n",
    "\n",
    "print(f\"Starting point (Geographic): Lat={lat_start_deg:.2f} deg, Lon={lon_start_deg:.2f} deg, Alt={alt_start_km:.1f} km\")\n",
    "\n",
    "# 步骤 2a: Geographic -> GEO (Cartesian)\n",
    "xgeo, ygeo, zgeo = geopack.geodgeo(lat_start_deg, lon_start_deg, alt_start_km)\n",
    "print(f\"  -> Intermediate GEO (Cartesian): X={xgeo:.3f}, Y={ygeo:.3f}, Z={zgeo:.3f} RE\")\n",
    "\n",
    "# 步骤 2b: GEO -> GSM\n",
    "x_start_gsm, y_start_gsm, z_start_gsm = geopack.geogsm(xgeo, ygeo, zgeo, jday, utsec)\n",
    "print(f\"  -> Converted Starting point (GSM): X={x_start_gsm:.3f}, Y={y_start_gsm:.3f}, Z={z_start_gsm:.3f} RE\")\n",
    "\n",
    "# --- 3. 设置追踪参数 ---\n",
    "ds = 0.1       # 步长 (RE)\n",
    "rlim = 1.0      # 停止追踪的径向距离 (RE) - 地球表面附近\n",
    "maxloop = 10000 # 最大步数\n",
    "\n",
    "# 模型选择\n",
    "exopt = geopack.T96  # 外部场模型\n",
    "iopt = geopack.IGRF   # 内部场模型\n",
    "\n",
    "# --- 4. 执行磁力线追踪 (使用转换后的 GSM 坐标) ---\n",
    "\n",
    "# 追踪到北半球 (dir=1)\n",
    "print(\"\\nTracing towards Northern Hemisphere...\")\n",
    "x_n, y_n, z_n, _, _, _, _, r_n = geopack.trace(\n",
    "    x_start_gsm, y_start_gsm, z_start_gsm, # 起始点 GSM (RE)\n",
    "    jday, utsec, dir=1, ds=ds, rlim=rlim, maxloop=maxloop,\n",
    "    parmod=parmod, exopt=exopt, iopt=iopt\n",
    ")\n",
    "print(f\"  -> Finished tracing North. Number of points: {len(x_n)}\")\n",
    "if len(x_n) > 0:\n",
    "    print(f\"  -> Northern footpoint (GSM approx): X={x_n[-1]:.2f}, Y={y_n[-1]:.2f}, Z={z_n[-1]:.2f} RE, R={r_n[-1]:.2f} RE\")\n",
    "else:\n",
    "    # 如果起始点在北半球，向北追踪可能立即停止或步数很少\n",
    "    print(\"  -> Trace might have stopped immediately (already near Northern footpoint?).\")\n",
    "\n",
    "# 追踪到南半球 (dir=-1)\n",
    "print(\"Tracing towards Southern Hemisphere...\")\n",
    "x_s, y_s, z_s, _, _, _, _, r_s = geopack.trace(\n",
    "    x_start_gsm, y_start_gsm, z_start_gsm, # 起始点 GSM (RE)\n",
    "    jday, utsec, dir=-1, ds=ds, rlim=rlim, maxloop=maxloop,\n",
    "    parmod=parmod, exopt=exopt, iopt=iopt\n",
    ")\n",
    "print(f\"  -> Finished tracing South. Number of points: {len(x_s)}\")\n",
    "if len(x_s) > 0:\n",
    "    print(f\"  -> Southern footpoint (GSM approx): X={x_s[-1]:.2f}, Y={y_s[-1]:.2f}, Z={z_s[-1]:.2f} RE, R={r_s[-1]:.2f} RE\")\n",
    "else:\n",
    "     # 如果起始点在南半球，向南追踪可能立即停止或步数很少\n",
    "    print(\"  -> Trace might have stopped immediately (already near Southern footpoint?).\")\n",
    "\n",
    "\n",
    "# --- 5. 合并和可视化 (仍然在 GSM 坐标系中) ---\n",
    "# 合并两个方向的路径点（南半球的需要反转顺序）\n",
    "# 确保起始点只包含一次\n",
    "x_trace = np.concatenate((x_s[::-1], [x_start_gsm], x_n))\n",
    "y_trace = np.concatenate((y_s[::-1], [y_start_gsm], y_n))\n",
    "z_trace = np.concatenate((z_s[::-1], [z_start_gsm], z_n))\n",
    "\n",
    "# 3D 可视化\n",
    "fig = plt.figure(figsize=(10, 8))\n",
    "ax = fig.add_subplot(111, projection='3d')\n",
    "\n",
    "# 绘制磁力线\n",
    "ax.plot(x_trace, y_trace, z_trace, label='Traced Field Line', color='blue')\n",
    "\n",
    "# 绘制起始点 (GSM 坐标)\n",
    "ax.scatter([x_start_gsm], [y_start_gsm], [z_start_gsm], color='red', s=50, label=f'Start Point (GSM)')\n",
    "\n",
    "# 绘制地球\n",
    "u = np.linspace(0, 2 * np.pi, 100)\n",
    "v = np.linspace(0, np.pi, 100)\n",
    "earth_x = 1 * np.outer(np.cos(u), np.sin(v))\n",
    "earth_y = 1 * np.outer(np.sin(u), np.sin(v))\n",
    "earth_z = 1 * np.outer(np.ones(np.size(u)), np.cos(v))\n",
    "ax.plot_surface(earth_x, earth_y, earth_z, color='lightblue', alpha=0.6, rstride=4, cstride=4)\n",
    "\n",
    "# 设置坐标轴标签和范围 (GSM)\n",
    "ax.set_xlabel('X GSM (RE)')\n",
    "ax.set_ylabel('Y GSM (RE)')\n",
    "ax.set_zlabel('Z GSM (RE)')\n",
    "# 自动调整范围可能更好\n",
    "coords = np.vstack([x_trace, y_trace, z_trace]).T\n",
    "center = coords.mean(axis=0)\n",
    "max_range = np.max(np.sqrt(np.sum((coords - center)**2, axis=1))) * 1.2\n",
    "max_range = max(max_range, 2.5) # 保证最小范围包含地球\n",
    "ax.set_xlim([center[0] - max_range, center[0] + max_range])\n",
    "ax.set_ylim([center[1] - max_range, center[1] + max_range])\n",
    "ax.set_zlim([center[2] - max_range, center[2] + max_range])\n",
    "\n",
    "# 添加标题和图例\n",
    "ax.set_title(f'Magnetic Field Line Trace (T96+IGRF)\\nStart: {lat_start_deg:.1f}N, {lon_start_deg:.1f}E, {alt_start_km:.0f}km\\n{dt} UT')\n",
    "ax.legend()\n",
    "\n",
    "# 调整视角\n",
    "ax.view_init(elev=30., azim=-45)\n",
    "\n",
    "plt.show()"
   ],
   "outputs": [
    {
     "name": "stdout",
     "output_type": "stream",
     "text": [
      "Time: 2005-01-01 00:00:00, Julian Day: 2453371.5, UT Seconds: 0.0\n",
      "Starting point (Geographic): Lat=40.00 deg, Lon=116.00 deg, Alt=500.0 km\n"
     ]
    },
    {
     "ename": "AttributeError",
     "evalue": "module 'geopack' has no attribute 'geodgeo'",
     "output_type": "error",
     "traceback": [
      "\u001B[1;31m---------------------------------------------------------------------------\u001B[0m",
      "\u001B[1;31mAttributeError\u001B[0m                            Traceback (most recent call last)",
      "Cell \u001B[1;32mIn[7], line 29\u001B[0m\n\u001B[0;32m     26\u001B[0m \u001B[38;5;28mprint\u001B[39m(\u001B[38;5;124mf\u001B[39m\u001B[38;5;124m\"\u001B[39m\u001B[38;5;124mStarting point (Geographic): Lat=\u001B[39m\u001B[38;5;132;01m{\u001B[39;00mlat_start_deg\u001B[38;5;132;01m:\u001B[39;00m\u001B[38;5;124m.2f\u001B[39m\u001B[38;5;132;01m}\u001B[39;00m\u001B[38;5;124m deg, Lon=\u001B[39m\u001B[38;5;132;01m{\u001B[39;00mlon_start_deg\u001B[38;5;132;01m:\u001B[39;00m\u001B[38;5;124m.2f\u001B[39m\u001B[38;5;132;01m}\u001B[39;00m\u001B[38;5;124m deg, Alt=\u001B[39m\u001B[38;5;132;01m{\u001B[39;00malt_start_km\u001B[38;5;132;01m:\u001B[39;00m\u001B[38;5;124m.1f\u001B[39m\u001B[38;5;132;01m}\u001B[39;00m\u001B[38;5;124m km\u001B[39m\u001B[38;5;124m\"\u001B[39m)\n\u001B[0;32m     28\u001B[0m \u001B[38;5;66;03m# 步骤 2a: Geographic -> GEO (Cartesian)\u001B[39;00m\n\u001B[1;32m---> 29\u001B[0m xgeo, ygeo, zgeo \u001B[38;5;241m=\u001B[39m \u001B[43mgeopack\u001B[49m\u001B[38;5;241;43m.\u001B[39;49m\u001B[43mgeodgeo\u001B[49m(lat_start_deg, lon_start_deg, alt_start_km)\n\u001B[0;32m     30\u001B[0m \u001B[38;5;28mprint\u001B[39m(\u001B[38;5;124mf\u001B[39m\u001B[38;5;124m\"\u001B[39m\u001B[38;5;124m  -> Intermediate GEO (Cartesian): X=\u001B[39m\u001B[38;5;132;01m{\u001B[39;00mxgeo\u001B[38;5;132;01m:\u001B[39;00m\u001B[38;5;124m.3f\u001B[39m\u001B[38;5;132;01m}\u001B[39;00m\u001B[38;5;124m, Y=\u001B[39m\u001B[38;5;132;01m{\u001B[39;00mygeo\u001B[38;5;132;01m:\u001B[39;00m\u001B[38;5;124m.3f\u001B[39m\u001B[38;5;132;01m}\u001B[39;00m\u001B[38;5;124m, Z=\u001B[39m\u001B[38;5;132;01m{\u001B[39;00mzgeo\u001B[38;5;132;01m:\u001B[39;00m\u001B[38;5;124m.3f\u001B[39m\u001B[38;5;132;01m}\u001B[39;00m\u001B[38;5;124m RE\u001B[39m\u001B[38;5;124m\"\u001B[39m)\n\u001B[0;32m     32\u001B[0m \u001B[38;5;66;03m# 步骤 2b: GEO -> GSM\u001B[39;00m\n",
      "\u001B[1;31mAttributeError\u001B[0m: module 'geopack' has no attribute 'geodgeo'"
     ]
    }
   ],
   "execution_count": 7
  },
  {
   "metadata": {
    "ExecuteTime": {
     "end_time": "2025-03-31T12:36:17.563106Z",
     "start_time": "2025-03-31T12:36:17.559923Z"
    }
   },
   "cell_type": "code",
   "source": [
    "from geopack import geopack\n",
    "import numpy as np"
   ],
   "id": "e6146ed4c1e772cb",
   "outputs": [],
   "execution_count": 8
  },
  {
   "metadata": {
    "ExecuteTime": {
     "end_time": "2025-03-31T12:36:24.225287Z",
     "start_time": "2025-03-31T12:36:24.206413Z"
    }
   },
   "cell_type": "code",
   "source": [
    "# 设置时间\n",
    "t = geopack.recalc(2023, 1, 1, 0, 0)"
   ],
   "id": "fc77b2f435cff8b3",
   "outputs": [
    {
     "ename": "TypeError",
     "evalue": "recalc() takes from 1 to 4 positional arguments but 5 were given",
     "output_type": "error",
     "traceback": [
      "\u001B[1;31m---------------------------------------------------------------------------\u001B[0m",
      "\u001B[1;31mTypeError\u001B[0m                                 Traceback (most recent call last)",
      "Cell \u001B[1;32mIn[9], line 2\u001B[0m\n\u001B[0;32m      1\u001B[0m \u001B[38;5;66;03m# 设置时间\u001B[39;00m\n\u001B[1;32m----> 2\u001B[0m t \u001B[38;5;241m=\u001B[39m \u001B[43mgeopack\u001B[49m\u001B[38;5;241;43m.\u001B[39;49m\u001B[43mrecalc\u001B[49m\u001B[43m(\u001B[49m\u001B[38;5;241;43m2023\u001B[39;49m\u001B[43m,\u001B[49m\u001B[43m \u001B[49m\u001B[38;5;241;43m1\u001B[39;49m\u001B[43m,\u001B[49m\u001B[43m \u001B[49m\u001B[38;5;241;43m1\u001B[39;49m\u001B[43m,\u001B[49m\u001B[43m \u001B[49m\u001B[38;5;241;43m0\u001B[39;49m\u001B[43m,\u001B[49m\u001B[43m \u001B[49m\u001B[38;5;241;43m0\u001B[39;49m\u001B[43m)\u001B[49m\n",
      "\u001B[1;31mTypeError\u001B[0m: recalc() takes from 1 to 4 positional arguments but 5 were given"
     ]
    }
   ],
   "execution_count": 9
  }
 ],
 "metadata": {
  "kernelspec": {
   "display_name": "Python 3",
   "language": "python",
   "name": "python3"
  },
  "language_info": {
   "codemirror_mode": {
    "name": "ipython",
    "version": 2
   },
   "file_extension": ".py",
   "mimetype": "text/x-python",
   "name": "python",
   "nbconvert_exporter": "python",
   "pygments_lexer": "ipython2",
   "version": "2.7.6"
  }
 },
 "nbformat": 4,
 "nbformat_minor": 5
}
