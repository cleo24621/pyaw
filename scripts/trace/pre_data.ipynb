{
 "cells": [
  {
   "cell_type": "code",
   "id": "afbf4d06f3759b3b",
   "metadata": {
    "ExecuteTime": {
     "end_time": "2025-04-04T08:04:12.910406Z",
     "start_time": "2025-04-04T08:04:12.180262Z"
    }
   },
   "source": [
    "import numpy as np\n",
    "import pandas as pd\n",
    "from spacepy import coordinates as coord\n",
    "from spacepy.time import Ticktock"
   ],
   "outputs": [],
   "execution_count": 1
  },
  {
   "metadata": {
    "ExecuteTime": {
     "end_time": "2025-04-04T08:04:12.916839Z",
     "start_time": "2025-04-04T08:04:12.913811Z"
    }
   },
   "cell_type": "code",
   "source": [
    "def geosph2geocar(times:np.ndarray,alts:np.ndarray,lats:np.ndarray,lons:np.ndarray):\n",
    "    \"\"\"\n",
    "    for points\n",
    "    Args:\n",
    "        times: element is np.datetime64\n",
    "        alts: unit is Re\n",
    "        lats: degree\n",
    "        lons: ~\n",
    "\n",
    "    Returns:\n",
    "        'geo,car' Coords instance\n",
    "    \"\"\"\n",
    "    arr_n_3 = np.column_stack((alts, lats, lons))\n",
    "    c = coord.Coords(arr_n_3,\"GEO\", \"sph\", ticks=Ticktock(times, \"ISO\"))\n",
    "    return c.convert(\"GEO\",\"car\")"
   ],
   "id": "a00fb3dfe1e79cfc",
   "outputs": [],
   "execution_count": 2
  },
  {
   "metadata": {
    "collapsed": true,
    "ExecuteTime": {
     "end_time": "2025-04-04T08:09:54.105569Z",
     "start_time": "2025-04-04T08:09:49.865936Z"
    }
   },
   "cell_type": "code",
   "source": [
    "Re = 6371.2\n",
    "\n",
    "# trace\n",
    "file_path = r\"G:\\master\\pyaw\\scripts\\results\\aw_cases\\archive\\trace_points\\end_trace_points_SwarmA_12728_case_20160301T014840_20160301T014900.pkl\"\n",
    "df_trace = pd.read_pickle(file_path)\n",
    "df_trace_np = df_trace.values\n",
    "df_trace_np_alt_re = df_trace_np.copy()\n",
    "df_trace_np_alt_re[:, 0] = df_trace_np_alt_re[:, 0] + Re\n",
    "df_trace_np_alt_re[:, 0] = df_trace_np_alt_re[:, 0] / Re\n",
    "time_trace = np.datetime64(\"2016-03-01T01:49:00\")  # the corresponding trace time\n",
    "times_trace = np.array([str(time_trace) for _ in range(len(df_trace_np_alt_re[:, 0]))])\n",
    "geo_car_trace = geosph2geocar(times_trace,df_trace_np_alt_re[:,0],df_trace_np_alt_re[:,1],df_trace_np_alt_re[:,2])\n",
    "\n",
    "# satellite\n",
    "satellite_path = r\"V:\\aw\\swarm\\vires\\measurements\\SW_EXPT_EFIA_TCT16\\SW_EXPT_EFIA_TCT16_12728_20160301T012924_20160301T030258.pkl\"\n",
    "df_sa = pd.read_pickle(satellite_path)\n",
    "swarm_radius = 6816838.5 * 1e-3  # km\n",
    "swarm_altitude = swarm_radius - Re  # km（初始高度）\n",
    "lats_sa = df_sa[\"Latitude\"].values\n",
    "lons_sa = df_sa[\"Longitude\"].values\n",
    "# km convert to Re\n",
    "alts_sa = np.full(len(lats_sa),swarm_altitude)\n",
    "alts_sa = alts_sa + Re\n",
    "alts_sa = alts_sa / Re\n",
    "times_sa = df_sa.index.values\n",
    "times_sa_str = np.array([str(t) for t in times_sa])\n",
    "geo_car_sa = geosph2geocar(times_sa_str,alts_sa,lats_sa,lons_sa)"
   ],
   "id": "initial_id",
   "outputs": [],
   "execution_count": 6
  },
  {
   "metadata": {
    "ExecuteTime": {
     "end_time": "2025-04-04T08:00:53.947598300Z",
     "start_time": "2025-04-04T07:30:44.437206Z"
    }
   },
   "cell_type": "code",
   "source": "# c = coord.Coords(df_trace_np_alt_re, \"GEO\", \"sph\", ticks=Ticktock([str(time_trace) for _ in range(len(df_trace_np_alt_re[:, 0]))], \"ISO\"))",
   "id": "4f6a6fc17f9d54a3",
   "outputs": [],
   "execution_count": 30
  },
  {
   "metadata": {
    "ExecuteTime": {
     "end_time": "2025-04-04T08:00:53.948601900Z",
     "start_time": "2025-04-04T07:32:06.392570Z"
    }
   },
   "cell_type": "code",
   "source": "# c_geo_car = c.convert(\"GEO\",\"car\")  # the unit is 'Re'",
   "id": "53d747e25134e2f5",
   "outputs": [],
   "execution_count": 31
  },
  {
   "metadata": {},
   "cell_type": "code",
   "outputs": [],
   "execution_count": null,
   "source": [
    "# c = coord.Coords(\n",
    "#     [(alt0 + Re) / Re, lat0, lon0], \"GEO\", \"sph\", ticks=Ticktock(str(time), \"ISO\")\n",
    "# )\n",
    "# # convert geo2gsm\n",
    "# c_gsm = c.convert(\"GSM\", \"car\")\n",
    "# ut = time.astype(\"datetime64[s]\").astype(np.int64)"
   ],
   "id": "7c5f6a16a494b0cf"
  }
 ],
 "metadata": {
  "kernelspec": {
   "display_name": "Python 3",
   "language": "python",
   "name": "python3"
  },
  "language_info": {
   "codemirror_mode": {
    "name": "ipython",
    "version": 2
   },
   "file_extension": ".py",
   "mimetype": "text/x-python",
   "name": "python",
   "nbconvert_exporter": "python",
   "pygments_lexer": "ipython2",
   "version": "2.7.6"
  }
 },
 "nbformat": 4,
 "nbformat_minor": 5
}
