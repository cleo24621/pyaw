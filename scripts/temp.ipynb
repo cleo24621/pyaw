{
 "cells": [
  {
   "metadata": {
    "ExecuteTime": {
     "end_time": "2025-03-25T15:37:24.222376Z",
     "start_time": "2025-03-25T15:37:24.219155Z"
    }
   },
   "cell_type": "code",
   "source": [
    "import os\n",
    "\n",
    "import pandas as pd\n",
    "\n",
    "from core import zh1"
   ],
   "id": "bc4f11168b9a059a",
   "outputs": [],
   "execution_count": 23
  },
  {
   "cell_type": "code",
   "id": "initial_id",
   "metadata": {
    "collapsed": true,
    "ExecuteTime": {
     "end_time": "2025-03-25T15:37:24.317851Z",
     "start_time": "2025-03-25T15:37:24.235383Z"
    }
   },
   "source": [
    "data_dir_path = \"G:\\master\\pyaw\\data\"\n",
    "# file_name = \"CSES_01_SCM_1_L02_A2_096790_20191031_233256_20191101_000821_000.h5\"\n",
    "file_name = \"CSES_01_SCM_1_L02_A2_175381_20210401_012104_20210401_015640_000.h5\"\n",
    "file_path = os.path.join(data_dir_path,file_name)\n",
    "scm = zh1.SCM(file_path)"
   ],
   "outputs": [],
   "execution_count": 24
  },
  {
   "metadata": {
    "ExecuteTime": {
     "end_time": "2025-03-25T15:37:24.334537Z",
     "start_time": "2025-03-25T15:37:24.331277Z"
    }
   },
   "cell_type": "code",
   "source": "datetimes = scm.datetimes",
   "id": "71b083280c4d59b1",
   "outputs": [],
   "execution_count": 25
  },
  {
   "metadata": {
    "ExecuteTime": {
     "end_time": "2025-03-25T15:37:24.356085Z",
     "start_time": "2025-03-25T15:37:24.350815Z"
    }
   },
   "cell_type": "code",
   "source": "dts_diff = datetimes.diff()",
   "id": "b4905a6b380403e5",
   "outputs": [],
   "execution_count": 26
  },
  {
   "metadata": {
    "ExecuteTime": {
     "end_time": "2025-03-25T15:37:24.363336Z",
     "start_time": "2025-03-25T15:37:24.360102Z"
    }
   },
   "cell_type": "code",
   "source": "dts_diff_diff = abs(dts_diff - pd.Timedelta(seconds=4))",
   "id": "874d12af4bcf38f4",
   "outputs": [],
   "execution_count": 27
  },
  {
   "metadata": {
    "ExecuteTime": {
     "end_time": "2025-03-25T15:37:24.374409Z",
     "start_time": "2025-03-25T15:37:24.371396Z"
    }
   },
   "cell_type": "code",
   "source": "tolerance = pd.Timedelta(seconds=0.01)",
   "id": "656f7890338e9dd0",
   "outputs": [],
   "execution_count": 28
  },
  {
   "metadata": {
    "ExecuteTime": {
     "end_time": "2025-03-25T15:37:24.385936Z",
     "start_time": "2025-03-25T15:37:24.382688Z"
    }
   },
   "cell_type": "code",
   "source": "indices = dts_diff_diff[dts_diff_diff>tolerance].index",
   "id": "12380d9886ebc8be",
   "outputs": [],
   "execution_count": 29
  },
  {
   "metadata": {
    "ExecuteTime": {
     "end_time": "2025-03-25T15:37:24.397961Z",
     "start_time": "2025-03-25T15:37:24.394077Z"
    }
   },
   "cell_type": "code",
   "source": "workmode = scm.dfs['WORKMODE']",
   "id": "f7f5ff1b539c5049",
   "outputs": [],
   "execution_count": 30
  },
  {
   "metadata": {
    "ExecuteTime": {
     "end_time": "2025-03-25T15:37:24.411980Z",
     "start_time": "2025-03-25T15:37:24.406167Z"
    }
   },
   "cell_type": "code",
   "source": "workmode.iloc[indices[0]-1],workmode.iloc[indices[0]]",
   "id": "65198417b6e45ac0",
   "outputs": [
    {
     "data": {
      "text/plain": [
       "(0    1\n",
       " Name: 398, dtype: int16,\n",
       " 0    2\n",
       " Name: 399, dtype: int16)"
      ]
     },
     "execution_count": 31,
     "metadata": {},
     "output_type": "execute_result"
    }
   ],
   "execution_count": 31
  },
  {
   "metadata": {
    "ExecuteTime": {
     "end_time": "2025-03-25T15:37:24.424673Z",
     "start_time": "2025-03-25T15:37:24.420201Z"
    }
   },
   "cell_type": "code",
   "source": "workmode.iloc[indices[1]-1],workmode.iloc[indices[1]]",
   "id": "7f670b205943a0e1",
   "outputs": [
    {
     "data": {
      "text/plain": [
       "(0    2\n",
       " Name: 399, dtype: int16,\n",
       " 0    2\n",
       " Name: 400, dtype: int16)"
      ]
     },
     "execution_count": 32,
     "metadata": {},
     "output_type": "execute_result"
    }
   ],
   "execution_count": 32
  },
  {
   "metadata": {
    "ExecuteTime": {
     "end_time": "2025-03-25T15:37:24.444123Z",
     "start_time": "2025-03-25T15:37:24.438970Z"
    }
   },
   "cell_type": "code",
   "source": "workmode.iloc[indices[2]-1],workmode.iloc[indices[2]]",
   "id": "6fe75d3be542b095",
   "outputs": [
    {
     "data": {
      "text/plain": [
       "(0    2\n",
       " Name: 461, dtype: int16,\n",
       " 0    1\n",
       " Name: 462, dtype: int16)"
      ]
     },
     "execution_count": 33,
     "metadata": {},
     "output_type": "execute_result"
    }
   ],
   "execution_count": 33
  },
  {
   "metadata": {
    "ExecuteTime": {
     "end_time": "2025-03-25T15:37:24.463254Z",
     "start_time": "2025-03-25T15:37:24.459081Z"
    }
   },
   "cell_type": "code",
   "source": "workmode.iloc[indices[3]-1],workmode.iloc[indices[3]]",
   "id": "a10f1720d17f364f",
   "outputs": [
    {
     "data": {
      "text/plain": [
       "(0    1\n",
       " Name: 462, dtype: int16,\n",
       " 0    1\n",
       " Name: 463, dtype: int16)"
      ]
     },
     "execution_count": 34,
     "metadata": {},
     "output_type": "execute_result"
    }
   ],
   "execution_count": 34
  }
 ],
 "metadata": {
  "kernelspec": {
   "display_name": "Python 3",
   "language": "python",
   "name": "python3"
  },
  "language_info": {
   "codemirror_mode": {
    "name": "ipython",
    "version": 2
   },
   "file_extension": ".py",
   "mimetype": "text/x-python",
   "name": "python",
   "nbconvert_exporter": "python",
   "pygments_lexer": "ipython2",
   "version": "2.7.6"
  }
 },
 "nbformat": 4,
 "nbformat_minor": 5
}
