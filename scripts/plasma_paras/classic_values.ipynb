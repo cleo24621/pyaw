{
 "cells": [
  {
   "metadata": {
    "ExecuteTime": {
     "end_time": "2025-04-20T10:00:13.610347Z",
     "start_time": "2025-04-20T10:00:13.605349Z"
    }
   },
   "cell_type": "code",
   "source": [
    "\n",
    "\n",
    "from src.pyaw import OXYGEN_ATOMIC_MASS, calculate_electron_inertial_length, LIGHT_SPEED, \\\n",
    "    calculate_electron_plasma_frequency, calculate_ion_thermal_gyroradius, calculate_ion_gyrofrequency, \\\n",
    "    calculate_ion_acoustic_gyroradius, Alfven, calculate_plasma_density, calculate_approx_perpendicular_wavenumber, \\\n",
    "    calculate_inertial_alfven_wave_electric_magnetic_field_ratio, \\\n",
    "    calculate_kinetic_alfven_wave_electric_magnetic_field_ratio"
   ],
   "id": "f38f79e701fe5161",
   "outputs": [],
   "execution_count": 10
  },
  {
   "cell_type": "code",
   "id": "initial_id",
   "metadata": {
    "collapsed": true,
    "ExecuteTime": {
     "end_time": "2025-04-20T10:00:13.643830Z",
     "start_time": "2025-04-20T10:00:13.640831Z"
    }
   },
   "source": [
    "# electron_number_density = 1e5\n",
    "electron_number_density = 1e10\n",
    "# electron_number_density = 1e11\n",
    "# electron_number_density = 1e12\n",
    "\n",
    "electron_temperature = 2000\n",
    "ion_temperature = 1000\n",
    "\n",
    "ion_mass = OXYGEN_ATOMIC_MASS\n",
    "\n",
    "background_magnetic_field = 5e-5"
   ],
   "outputs": [],
   "execution_count": 11
  },
  {
   "metadata": {
    "ExecuteTime": {
     "end_time": "2025-04-20T10:00:13.687187Z",
     "start_time": "2025-04-20T10:00:13.684015Z"
    }
   },
   "cell_type": "code",
   "source": [
    "electron_plasma_frequency = calculate_electron_plasma_frequency(electron_number_density=electron_number_density)\n",
    "\n",
    "electron_inertial_length = calculate_electron_inertial_length(electron_plasma_frequency=electron_plasma_frequency,\n",
    "                                                              light_speed=LIGHT_SPEED)\n",
    "\n",
    "ion_gyrofrequency = calculate_ion_gyrofrequency(background_magnetic_field=background_magnetic_field, ion_mass=ion_mass)\n",
    "\n",
    "ion_thermal_gyroradius = calculate_ion_thermal_gyroradius(ion_temperature=ion_temperature, ion_mass=ion_mass,\n",
    "                                                          ion_gyrofrequency=ion_gyrofrequency)\n",
    "\n",
    "ion_acoustic_gyroradius = calculate_ion_acoustic_gyroradius(electron_temperature=electron_temperature,\n",
    "                                                            ion_mass=ion_mass, ion_gyrofrequency=ion_gyrofrequency)"
   ],
   "id": "28cd1d7fdb7ab662",
   "outputs": [],
   "execution_count": 12
  },
  {
   "metadata": {
    "ExecuteTime": {
     "end_time": "2025-04-20T10:00:13.734709Z",
     "start_time": "2025-04-20T10:00:13.730401Z"
    }
   },
   "cell_type": "code",
   "source": [
    "alfven = Alfven()\n",
    "plasma_density = calculate_plasma_density(hydrogen_ion_number_density=0, helium_ion_number_density=0,\n",
    "                                          oxygen_ion_number_density=electron_number_density)\n",
    "alfven_velocity = alfven.calculate_alfven_velocity(background_magnetic_field=background_magnetic_field,\n",
    "                                                   plasma_density=plasma_density)\n",
    "alfven_impedance = alfven.calculate_alfven_impedance(alfven_velocity=alfven_velocity)\n",
    "alfven_admittance = alfven.calculate_alfven_admittance(alfven_impedance=alfven_impedance)\n",
    "\n",
    "pedersen_conductance = 3\n",
    "\n",
    "lower_boundary = alfven.calculate_lower_boundary(pedersen_conductance=pedersen_conductance)\n",
    "upper_boundary = alfven.calculate_upper_boundary(alfven_velocity=alfven_velocity,\n",
    "                                                 pedersen_conductance=pedersen_conductance)"
   ],
   "id": "a1f5dc5b94883dbe",
   "outputs": [],
   "execution_count": 13
  },
  {
   "metadata": {
    "ExecuteTime": {
     "end_time": "2025-04-20T10:00:13.789406Z",
     "start_time": "2025-04-20T10:00:13.785268Z"
    }
   },
   "cell_type": "code",
   "source": [
    "import numpy as np\n",
    "\n",
    "wave_frequencies = np.arange(0, 8.25, 0.25)\n",
    "satellite_velocity = 7.6e3\n",
    "\n",
    "perpendicular_wavenumber = calculate_approx_perpendicular_wavenumber(wave_frequency=wave_frequencies,\n",
    "                                                                     spacecraft_speed=satellite_velocity)"
   ],
   "id": "bc23611ae27bb51",
   "outputs": [],
   "execution_count": 14
  },
  {
   "metadata": {
    "ExecuteTime": {
     "end_time": "2025-04-20T10:00:13.834463Z",
     "start_time": "2025-04-20T10:00:13.830997Z"
    }
   },
   "cell_type": "code",
   "source": [
    "inertial_alfven_wave_electric_magnetic_field_ratio = calculate_inertial_alfven_wave_electric_magnetic_field_ratio(\n",
    "    alfven_velocity=alfven_velocity, perpendicular_wavenumber=perpendicular_wavenumber,\n",
    "    electron_inertial_length=electron_inertial_length)\n",
    "\n",
    "kinetic_alfven_wave_electric_magnetic_field_ratio = calculate_kinetic_alfven_wave_electric_magnetic_field_ratio(\n",
    "    alfven_velocity=alfven_velocity, perpendicular_wavenumber=perpendicular_wavenumber,\n",
    "    ion_acoustic_gyroradius=ion_acoustic_gyroradius)"
   ],
   "id": "62f21d823a785da1",
   "outputs": [],
   "execution_count": 15
  },
  {
   "metadata": {
    "ExecuteTime": {
     "end_time": "2025-04-20T10:00:13.886097Z",
     "start_time": "2025-04-20T10:00:13.881100Z"
    }
   },
   "cell_type": "code",
   "source": [
    "inertial_alfven_wave_with_larmor_electric_magnetic_field_ratio = calculate_inertial_alfven_wave_electric_magnetic_field_ratio(\n",
    "    alfven_velocity=alfven_velocity, perpendicular_wavenumber=perpendicular_wavenumber,\n",
    "    electron_inertial_length=electron_inertial_length, ion_thermal_gyroradius=ion_thermal_gyroradius)\n",
    "\n",
    "kinetic_alfven_wave_with_larmor_electric_magnetic_field_ratio = calculate_kinetic_alfven_wave_electric_magnetic_field_ratio(\n",
    "    alfven_velocity=alfven_velocity, perpendicular_wavenumber=perpendicular_wavenumber,\n",
    "    ion_acoustic_gyroradius=ion_acoustic_gyroradius, ion_thermal_gyroradius=ion_thermal_gyroradius)"
   ],
   "id": "2123d983f7893651",
   "outputs": [],
   "execution_count": 16
  },
  {
   "metadata": {
    "ExecuteTime": {
     "end_time": "2025-04-20T10:00:14.126232Z",
     "start_time": "2025-04-20T10:00:13.925981Z"
    }
   },
   "cell_type": "code",
   "source": [
    "import matplotlib.pyplot as plt\n",
    "\n",
    "plt.figure(figsize=(10, 8))\n",
    "\n",
    "plt.plot(wave_frequencies, inertial_alfven_wave_electric_magnetic_field_ratio,\n",
    "         label='IAW', color='blue', linestyle='-')\n",
    "plt.plot(wave_frequencies, inertial_alfven_wave_with_larmor_electric_magnetic_field_ratio,\n",
    "         label='IAW+Larmor', color='red', linestyle='--')\n",
    "plt.plot(wave_frequencies, kinetic_alfven_wave_electric_magnetic_field_ratio,\n",
    "         label='KAW', color='green', linestyle=':')\n",
    "plt.plot(wave_frequencies, kinetic_alfven_wave_with_larmor_electric_magnetic_field_ratio,\n",
    "         label='KAW+Larmor', color='purple', linestyle='-.')\n",
    "\n",
    "plt.axhline(alfven_velocity, label='alfven velocity', color='orange', linestyle='-')\n",
    "plt.axhline(lower_boundary, label='lower boundary', color='gray', linestyle='--')\n",
    "plt.axhline(upper_boundary, label='upper boundary', color='black', linestyle=':')\n",
    "\n",
    "plt.yscale('log')\n",
    "plt.legend()\n",
    "plt.show()\n"
   ],
   "id": "bbca2e482675e1c",
   "outputs": [
    {
     "data": {
      "text/plain": [
       "<Figure size 1000x800 with 1 Axes>"
      ],
      "image/png": "[encoded data removed]"
     },
     "metadata": {},
     "output_type": "display_data"
    }
   ],
   "execution_count": 17
  }
 ],
 "metadata": {
  "kernelspec": {
   "display_name": "Python 3",
   "language": "python",
   "name": "python3"
  },
  "language_info": {
   "codemirror_mode": {
    "name": "ipython",
    "version": 2
   },
   "file_extension": ".py",
   "mimetype": "text/x-python",
   "name": "python",
   "nbconvert_exporter": "python",
   "pygments_lexer": "ipython2",
   "version": "2.7.6"
  }
 },
 "nbformat": 4,
 "nbformat_minor": 5
}
