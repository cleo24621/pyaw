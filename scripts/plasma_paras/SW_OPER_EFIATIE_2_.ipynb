{
 "cells": [
  {
   "cell_type": "code",
   "id": "initial_id",
   "metadata": {
    "collapsed": true,
    "ExecuteTime": {
     "end_time": "2025-04-20T02:44:56.040444Z",
     "start_time": "2025-04-20T02:44:53.360713Z"
    }
   },
   "source": [
    "import pandas as pd\n",
    "from pathlib import Path\n",
    "import matplotlib.pyplot as plt"
   ],
   "outputs": [],
   "execution_count": 1
  },
  {
   "metadata": {
    "ExecuteTime": {
     "end_time": "2025-04-20T02:44:56.060115Z",
     "start_time": "2025-04-20T02:44:56.055090Z"
    }
   },
   "cell_type": "code",
   "source": [
    "script_dir = Path.cwd()\n",
    "data_dir = script_dir / \"..\" / \"..\" / \"data\"\n",
    "file_name = \"SW_OPER_EFIATIE_2__12885_20160311T061733_20160311T075106.pkl\"\n",
    "file_path = data_dir / file_name"
   ],
   "id": "4b62f5c7ad87a9d6",
   "outputs": [],
   "execution_count": 2
  },
  {
   "metadata": {
    "ExecuteTime": {
     "end_time": "2025-04-20T02:44:56.095138Z",
     "start_time": "2025-04-20T02:44:56.069124Z"
    }
   },
   "cell_type": "code",
   "source": "df = pd.read_pickle(file_path)",
   "id": "87022e2d933e8649",
   "outputs": [],
   "execution_count": 3
  },
  {
   "metadata": {
    "ExecuteTime": {
     "end_time": "2025-04-20T02:44:56.464641Z",
     "start_time": "2025-04-20T02:44:56.462789Z"
    }
   },
   "cell_type": "code",
   "source": "",
   "id": "abb403ada0e78913",
   "outputs": [],
   "execution_count": null
  }
 ],
 "metadata": {
  "kernelspec": {
   "display_name": "Python 3",
   "language": "python",
   "name": "python3"
  },
  "language_info": {
   "codemirror_mode": {
    "name": "ipython",
    "version": 2
   },
   "file_extension": ".py",
   "mimetype": "text/x-python",
   "name": "python",
   "nbconvert_exporter": "python",
   "pygments_lexer": "ipython2",
   "version": "2.7.6"
  }
 },
 "nbformat": 4,
 "nbformat_minor": 5
}
