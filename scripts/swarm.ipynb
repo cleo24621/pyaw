{
 "cells": [
  {
   "cell_type": "code",
   "id": "initial_id",
   "metadata": {
    "collapsed": true,
    "ExecuteTime": {
     "end_time": "2025-03-27T02:47:21.295800Z",
     "start_time": "2025-03-27T02:47:18.496906Z"
    }
   },
   "source": [
    "import os.path\n",
    "\n",
    "import pandas as pd\n",
    "\n",
    "from src.pyaw import ProjectConfigs\n",
    "\n",
    "data_dir_path = ProjectConfigs.data_dir_path\n",
    "file_name = \"SW_EXPT_EFIA_TCT16_12728_20160301T012924_20160301T030258.pkl\"\n",
    "file_path = os.path.join(data_dir_path, file_name)\n",
    "df_tct = pd.read_pickle(file_path)"
   ],
   "outputs": [],
   "execution_count": 1
  },
  {
   "metadata": {
    "ExecuteTime": {
     "end_time": "2025-03-27T02:59:38.078532Z",
     "start_time": "2025-03-27T02:59:38.034153Z"
    }
   },
   "cell_type": "code",
   "source": [
    "import numpy as np\n",
    "\n",
    "Vsat = np.sqrt(df_tct['VsatN'].values ** 2 + df_tct['VsatE'].values ** 2 + df_tct['VsatN'].values ** 2)"
   ],
   "id": "cfe8184b4033d697",
   "outputs": [],
   "execution_count": 4
  }
 ],
 "metadata": {
  "kernelspec": {
   "display_name": "Python 3",
   "language": "python",
   "name": "python3"
  },
  "language_info": {
   "codemirror_mode": {
    "name": "ipython",
    "version": 2
   },
   "file_extension": ".py",
   "mimetype": "text/x-python",
   "name": "python",
   "nbconvert_exporter": "python",
   "pygments_lexer": "ipython2",
   "version": "2.7.6"
  }
 },
 "nbformat": 4,
 "nbformat_minor": 5
}
