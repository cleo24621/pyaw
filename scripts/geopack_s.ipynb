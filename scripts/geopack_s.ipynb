{
 "cells": [
  {
   "metadata": {},
   "cell_type": "markdown",
   "source": "# 坐标转换",
   "id": "e92f1729d790c2d4"
  },
  {
   "metadata": {
    "ExecuteTime": {
     "end_time": "2025-03-31T15:15:40.253801Z",
     "start_time": "2025-03-31T15:15:40.243640Z"
    }
   },
   "cell_type": "code",
   "source": [
    "import numpy as np\n",
    "from spacepy import coordinates as coord\n",
    "from spacepy.time import Ticktock\n",
    "\n",
    "# 设置时间\n",
    "t = Ticktock('2023-01-01T12:00:00', 'ISO')  # 'ISO'表示该时间字符串遵循ISO 8601标准，这是一种国际通用的日期和时间表示方法。\n",
    "\n",
    "# 输入地理坐标\n",
    "alt = 110   # 高度（km）\n",
    "lat = 45.0  # degree\n",
    "lon = 0.0   # degree\n",
    "\n",
    "c = coord.Coords([alt, lat, lon], 'GDZ', 'sph')\n",
    "c.ticks = t\n",
    "\n",
    "# 转换为GSM坐标\n",
    "c_gsm = c.convert('GSM', 'car')"
   ],
   "id": "b51e7bb4841dd0f3",
   "outputs": [],
   "execution_count": 18
  },
  {
   "metadata": {
    "ExecuteTime": {
     "end_time": "2025-03-31T15:15:44.271740Z",
     "start_time": "2025-03-31T15:15:44.238511Z"
    }
   },
   "cell_type": "code",
   "source": "x0gsm,y0gsm,z0gsm = c_gsm.x[0],c_gsm.y[0],c_gsm.z[0]",
   "id": "2318ad04dbdfae25",
   "outputs": [],
   "execution_count": 19
  },
  {
   "metadata": {
    "ExecuteTime": {
     "end_time": "2025-03-31T15:06:05.088318Z",
     "start_time": "2025-03-31T15:06:05.085162Z"
    }
   },
   "cell_type": "code",
   "source": [
    "# trace\n",
    "from geopack import geopack"
   ],
   "id": "f0447d7f9e15fc3f",
   "outputs": [],
   "execution_count": 5
  },
  {
   "metadata": {
    "ExecuteTime": {
     "end_time": "2025-03-31T15:06:42.314446Z",
     "start_time": "2025-03-31T15:06:42.310160Z"
    }
   },
   "cell_type": "code",
   "source": [
    "import datetime\n",
    "# from dateutil import parser\n",
    "\n",
    "# From date and time\n",
    "t1 = datetime.datetime(2001,1,2,3,4,5)\n",
    "t0 = datetime.datetime(1970,1,1)\n",
    "ut = (t1-t0).total_seconds()\n",
    "\n",
    "# From string, need the package dateutil\n",
    "# t1 = parser.parse('2001-01-02/03:04:05')\n",
    "# ut = (t1-t0).total_seconds()"
   ],
   "id": "4a9f20126bb7eabd",
   "outputs": [],
   "execution_count": 6
  },
  {
   "metadata": {
    "ExecuteTime": {
     "end_time": "2025-03-31T15:15:52.666111Z",
     "start_time": "2025-03-31T15:15:52.662798Z"
    }
   },
   "cell_type": "code",
   "source": "ps = geopack.recalc(ut)",
   "id": "610fc179f9c4d04d",
   "outputs": [],
   "execution_count": 20
  },
  {
   "metadata": {
    "ExecuteTime": {
     "end_time": "2025-03-31T15:15:54.530821Z",
     "start_time": "2025-03-31T15:15:54.390848Z"
    }
   },
   "cell_type": "code",
   "source": "x1gsm,y1gsm,z1gsm,xx,yy,zz = geopack.trace(x0gsm,y0gsm,z0gsm, dir=1)",
   "id": "680a70c9161b10f7",
   "outputs": [],
   "execution_count": 21
  },
  {
   "metadata": {
    "ExecuteTime": {
     "end_time": "2025-03-31T15:16:09.088726Z",
     "start_time": "2025-03-31T15:16:09.082726Z"
    }
   },
   "cell_type": "code",
   "source": "c = coord.Coords([x1gsm,y1gsm,z1gsm], 'GSM', 'car')",
   "id": "25a5756be233b7f",
   "outputs": [],
   "execution_count": 22
  },
  {
   "metadata": {
    "ExecuteTime": {
     "end_time": "2025-03-31T15:16:10.396908Z",
     "start_time": "2025-03-31T15:16:10.393902Z"
    }
   },
   "cell_type": "code",
   "source": "c.ticks = t",
   "id": "5c784dc3c623ad95",
   "outputs": [],
   "execution_count": 23
  },
  {
   "metadata": {
    "ExecuteTime": {
     "end_time": "2025-03-31T15:16:11.564333Z",
     "start_time": "2025-03-31T15:16:11.556904Z"
    }
   },
   "cell_type": "code",
   "source": "c_gdz = c.convert('GDZ','sph')",
   "id": "c2da494339866f15",
   "outputs": [],
   "execution_count": 24
  },
  {
   "metadata": {
    "ExecuteTime": {
     "end_time": "2025-03-31T15:16:16.662201Z",
     "start_time": "2025-03-31T15:16:16.656202Z"
    }
   },
   "cell_type": "code",
   "source": "alt,lat,lon",
   "id": "61e4059ff7914f01",
   "outputs": [
    {
     "data": {
      "text/plain": [
       "(110, 45.0, 0.0)"
      ]
     },
     "execution_count": 25,
     "metadata": {},
     "output_type": "execute_result"
    }
   ],
   "execution_count": 25
  },
  {
   "metadata": {
    "ExecuteTime": {
     "end_time": "2025-03-31T15:16:21.422674Z",
     "start_time": "2025-03-31T15:16:21.417745Z"
    }
   },
   "cell_type": "code",
   "source": "c_gdz.data",
   "id": "ea425687a60853f8",
   "outputs": [
    {
     "data": {
      "text/plain": [
       "array([[ -3.11244238, -24.06631305,  14.24660168]])"
      ]
     },
     "execution_count": 26,
     "metadata": {},
     "output_type": "execute_result"
    }
   ],
   "execution_count": 26
  },
  {
   "metadata": {},
   "cell_type": "code",
   "outputs": [],
   "execution_count": null,
   "source": "",
   "id": "e3a9dfbe76b3dd0e"
  },
  {
   "metadata": {
    "ExecuteTime": {
     "end_time": "2025-03-31T15:23:40.067243Z",
     "start_time": "2025-03-31T15:23:40.062428Z"
    }
   },
   "cell_type": "code",
   "source": [
    "import numpy as np\n",
    "\n",
    "# 设置时间\n",
    "t = Ticktock(np.array(['2023-01-01T12:00:00','2023-01-01T12:00:00','2023-01-01T12:00:00']), 'ISO')  # 'ISO'表示该时间字符串遵循ISO 8601标准，这是一种国际通用的日期和时间表示方法。\n",
    "\n",
    "# 输入地理坐标\n",
    "alt = 110   # 高度（km）\n",
    "lat = 45.0  # degree\n",
    "lon = 0.0   # degree\n",
    "\n",
    "c = coord.Coords([np.array([110,400,800]), [50,50,50], [0,0,0]], 'GDZ', 'sph')\n",
    "c.ticks = t"
   ],
   "id": "de6b896cfd4ff203",
   "outputs": [],
   "execution_count": 32
  },
  {
   "metadata": {
    "ExecuteTime": {
     "end_time": "2025-03-31T15:23:45.938291Z",
     "start_time": "2025-03-31T15:23:45.931251Z"
    }
   },
   "cell_type": "code",
   "source": "c.data",
   "id": "bbe14cb0ef60b1d9",
   "outputs": [
    {
     "data": {
      "text/plain": [
       "array([[110., 400., 800.],\n",
       "       [ 50.,  50.,  50.],\n",
       "       [  0.,   0.,   0.]])"
      ]
     },
     "execution_count": 33,
     "metadata": {},
     "output_type": "execute_result"
    }
   ],
   "execution_count": 33
  },
  {
   "metadata": {
    "ExecuteTime": {
     "end_time": "2025-03-31T15:23:49.937576Z",
     "start_time": "2025-03-31T15:23:49.928575Z"
    }
   },
   "cell_type": "code",
   "source": "c_gsm = c.convert('GSM', 'car')\n",
   "id": "21202edc76c0d3e6",
   "outputs": [],
   "execution_count": 34
  },
  {
   "metadata": {
    "ExecuteTime": {
     "end_time": "2025-03-31T15:23:59.303728Z",
     "start_time": "2025-03-31T15:23:59.299272Z"
    }
   },
   "cell_type": "code",
   "source": "c_gsm.data",
   "id": "3c50330a4e3d0422",
   "outputs": [
    {
     "data": {
      "text/plain": [
       "array([[-0.26000735,  0.5698426 ,  0.89449202],\n",
       "       [ 0.7144055 ,  0.52848679,  0.21932455],\n",
       "       [ 0.60966242,  0.79045265,  0.13060764]])"
      ]
     },
     "execution_count": 35,
     "metadata": {},
     "output_type": "execute_result"
    }
   ],
   "execution_count": 35
  },
  {
   "metadata": {},
   "cell_type": "code",
   "outputs": [],
   "execution_count": null,
   "source": "ps = geopack.recalc(ut)\n",
   "id": "c69ad39e19aa7b68"
  },
  {
   "metadata": {
    "ExecuteTime": {
     "end_time": "2025-03-31T17:29:58.037926Z",
     "start_time": "2025-03-31T17:29:57.018498Z"
    }
   },
   "cell_type": "code",
   "source": "",
   "id": "348574b26f359ba3",
   "outputs": [
    {
     "name": "stdout",
     "output_type": "stream",
     "text": [
      "Spacepy version: 0.7.0\n"
     ]
    },
    {
     "ename": "TypeError",
     "evalue": "unsupported operand type(s) for +: 'datetime.datetime' and 'int'",
     "output_type": "error",
     "traceback": [
      "\u001B[1;31m---------------------------------------------------------------------------\u001B[0m",
      "\u001B[1;31mTypeError\u001B[0m                                 Traceback (most recent call last)",
      "Cell \u001B[1;32mIn[1], line 18\u001B[0m\n\u001B[0;32m     12\u001B[0m \u001B[38;5;66;03m# --- 关键点：确保时间点数量匹配 ---\u001B[39;00m\n\u001B[0;32m     13\u001B[0m \u001B[38;5;66;03m# 错误示例 (如果 len(ticks) != n 且 len(ticks) > 1):\u001B[39;00m\n\u001B[0;32m     14\u001B[0m \u001B[38;5;66;03m# ticks_incorrect = spt.Ticktock(['2001-01-01T00:00:00', '2001-01-01T01:00:00', '2001-01-01T02:00:00'], 'ISO') # 只有 3 个时间点\u001B[39;00m\n\u001B[0;32m     15\u001B[0m \n\u001B[0;32m     16\u001B[0m \u001B[38;5;66;03m# 正确示例: 生成 n 个时间点\u001B[39;00m\n\u001B[0;32m     17\u001B[0m start_time \u001B[38;5;241m=\u001B[39m spt\u001B[38;5;241m.\u001B[39mTicktock(\u001B[38;5;124m'\u001B[39m\u001B[38;5;124m2001-01-01T00:00:00\u001B[39m\u001B[38;5;124m'\u001B[39m, \u001B[38;5;124m'\u001B[39m\u001B[38;5;124mISO\u001B[39m\u001B[38;5;124m'\u001B[39m)\n\u001B[1;32m---> 18\u001B[0m times \u001B[38;5;241m=\u001B[39m \u001B[43m[\u001B[49m\u001B[43mstart_time\u001B[49m\u001B[38;5;241;43m.\u001B[39;49m\u001B[43mUTC\u001B[49m\u001B[43m[\u001B[49m\u001B[38;5;241;43m0\u001B[39;49m\u001B[43m]\u001B[49m\u001B[43m \u001B[49m\u001B[38;5;241;43m+\u001B[39;49m\u001B[43m \u001B[49m\u001B[43mi\u001B[49m\u001B[43m \u001B[49m\u001B[38;5;241;43m*\u001B[39;49m\u001B[43m \u001B[49m\u001B[38;5;241;43m3600\u001B[39;49m\u001B[43m \u001B[49m\u001B[38;5;28;43;01mfor\u001B[39;49;00m\u001B[43m \u001B[49m\u001B[43mi\u001B[49m\u001B[43m \u001B[49m\u001B[38;5;129;43;01min\u001B[39;49;00m\u001B[43m \u001B[49m\u001B[38;5;28;43mrange\u001B[39;49m\u001B[43m(\u001B[49m\u001B[43mn\u001B[49m\u001B[43m)\u001B[49m\u001B[43m]\u001B[49m \u001B[38;5;66;03m# 每隔1小时生成一个时间\u001B[39;00m\n\u001B[0;32m     19\u001B[0m ticks_correct \u001B[38;5;241m=\u001B[39m spt\u001B[38;5;241m.\u001B[39mTicktock(times, \u001B[38;5;124m'\u001B[39m\u001B[38;5;124mUTC\u001B[39m\u001B[38;5;124m'\u001B[39m)\n\u001B[0;32m     21\u001B[0m \u001B[38;5;66;03m# --- 调试打印 ---\u001B[39;00m\n",
      "Cell \u001B[1;32mIn[1], line 18\u001B[0m, in \u001B[0;36m<listcomp>\u001B[1;34m(.0)\u001B[0m\n\u001B[0;32m     12\u001B[0m \u001B[38;5;66;03m# --- 关键点：确保时间点数量匹配 ---\u001B[39;00m\n\u001B[0;32m     13\u001B[0m \u001B[38;5;66;03m# 错误示例 (如果 len(ticks) != n 且 len(ticks) > 1):\u001B[39;00m\n\u001B[0;32m     14\u001B[0m \u001B[38;5;66;03m# ticks_incorrect = spt.Ticktock(['2001-01-01T00:00:00', '2001-01-01T01:00:00', '2001-01-01T02:00:00'], 'ISO') # 只有 3 个时间点\u001B[39;00m\n\u001B[0;32m     15\u001B[0m \n\u001B[0;32m     16\u001B[0m \u001B[38;5;66;03m# 正确示例: 生成 n 个时间点\u001B[39;00m\n\u001B[0;32m     17\u001B[0m start_time \u001B[38;5;241m=\u001B[39m spt\u001B[38;5;241m.\u001B[39mTicktock(\u001B[38;5;124m'\u001B[39m\u001B[38;5;124m2001-01-01T00:00:00\u001B[39m\u001B[38;5;124m'\u001B[39m, \u001B[38;5;124m'\u001B[39m\u001B[38;5;124mISO\u001B[39m\u001B[38;5;124m'\u001B[39m)\n\u001B[1;32m---> 18\u001B[0m times \u001B[38;5;241m=\u001B[39m [\u001B[43mstart_time\u001B[49m\u001B[38;5;241;43m.\u001B[39;49m\u001B[43mUTC\u001B[49m\u001B[43m[\u001B[49m\u001B[38;5;241;43m0\u001B[39;49m\u001B[43m]\u001B[49m\u001B[43m \u001B[49m\u001B[38;5;241;43m+\u001B[39;49m\u001B[43m \u001B[49m\u001B[43mi\u001B[49m\u001B[43m \u001B[49m\u001B[38;5;241;43m*\u001B[39;49m\u001B[43m \u001B[49m\u001B[38;5;241;43m3600\u001B[39;49m \u001B[38;5;28;01mfor\u001B[39;00m i \u001B[38;5;129;01min\u001B[39;00m \u001B[38;5;28mrange\u001B[39m(n)] \u001B[38;5;66;03m# 每隔1小时生成一个时间\u001B[39;00m\n\u001B[0;32m     19\u001B[0m ticks_correct \u001B[38;5;241m=\u001B[39m spt\u001B[38;5;241m.\u001B[39mTicktock(times, \u001B[38;5;124m'\u001B[39m\u001B[38;5;124mUTC\u001B[39m\u001B[38;5;124m'\u001B[39m)\n\u001B[0;32m     21\u001B[0m \u001B[38;5;66;03m# --- 调试打印 ---\u001B[39;00m\n",
      "\u001B[1;31mTypeError\u001B[0m: unsupported operand type(s) for +: 'datetime.datetime' and 'int'"
     ]
    }
   ],
   "execution_count": 1
  }
 ],
 "metadata": {
  "kernelspec": {
   "display_name": "Python 3",
   "language": "python",
   "name": "python3"
  },
  "language_info": {
   "codemirror_mode": {
    "name": "ipython",
    "version": 2
   },
   "file_extension": ".py",
   "mimetype": "text/x-python",
   "name": "python",
   "nbconvert_exporter": "python",
   "pygments_lexer": "ipython2",
   "version": "2.7.6"
  }
 },
 "nbformat": 4,
 "nbformat_minor": 5
}
