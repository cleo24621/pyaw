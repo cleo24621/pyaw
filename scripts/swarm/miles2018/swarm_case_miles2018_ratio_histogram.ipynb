{
 "cells": [
  {
   "metadata": {
    "ExecuteTime": {
     "end_time": "2025-01-12T09:19:35.318586Z",
     "start_time": "2025-01-12T09:19:33.438444Z"
    }
   },
   "cell_type": "code",
   "source": [
    "import matplotlib.pyplot as plt\n",
    "import numpy as np\n",
    "import pandas as pd\n",
    "import utils\n",
    "\n",
    "import pyaw.utils\n",
    "from src.pyaw import rotate_vector_by_quaternion"
   ],
   "id": "a59fa850f15e7bd6",
   "outputs": [],
   "execution_count": 1
  },
  {
   "metadata": {
    "ExecuteTime": {
     "end_time": "2025-01-12T09:19:35.353973Z",
     "start_time": "2025-01-12T09:19:35.350832Z"
    }
   },
   "cell_type": "code",
   "source": [
    "fps = ['./SW_OPER_MAGA_HR_1B_12885_20160311T061733_20160311T075106.pkl',\n",
    "       './aux_SW_OPER_MAGA_HR_1B_12885_20160311T061733_20160311T075106.pkl',\n",
    "       './IGRF_SW_OPER_MAGA_HR_1B_12885_20160311T061733_20160311T075106.pkl',\n",
    "       './SW_EXPT_EFIA_TCT16_12885_20160311T061733_20160311T075106.pkl']"
   ],
   "id": "86472b578f9d729a",
   "outputs": [],
   "execution_count": 2
  },
  {
   "metadata": {
    "ExecuteTime": {
     "end_time": "2025-01-12T09:19:42.066207Z",
     "start_time": "2025-01-12T09:19:35.426385Z"
    }
   },
   "cell_type": "code",
   "source": [
    "df_b = pd.read_pickle(fps[0])\n",
    "# df_b_aux = pd.read_pickle(fps[1])\n",
    "df_b_IGRF = pd.read_pickle(fps[2])\n",
    "df_e = pd.read_pickle(fps[3])"
   ],
   "id": "7e89d5373cdbe676",
   "outputs": [],
   "execution_count": 3
  },
  {
   "metadata": {
    "ExecuteTime": {
     "end_time": "2025-01-12T09:19:42.088447Z",
     "start_time": "2025-01-12T09:19:42.068210Z"
    }
   },
   "cell_type": "code",
   "source": [
    "df_b_clip = df_b[['B_NEC', 'Longitude', 'Latitude', 'Radius', 'q_NEC_CRF']]\n",
    "# df_b_aux_clip = df_b_aux[['QDLat', 'QDLon', 'MLT']]\n",
    "df_b_IGRF_clip = df_b_IGRF[['B_NEC_IGRF']]\n",
    "df_e_clip = df_e[['Longitude', 'Latitude', 'Radius', 'VsatE', 'VsatN', 'Ehy', 'Ehx']]"
   ],
   "id": "49b630049bad62f",
   "outputs": [],
   "execution_count": 4
  },
  {
   "metadata": {
    "ExecuteTime": {
     "end_time": "2025-01-12T09:19:42.133214Z",
     "start_time": "2025-01-12T09:19:42.108195Z"
    }
   },
   "cell_type": "code",
   "source": [
    "st = '20160311T064000'\n",
    "et = '20160311T065000'\n",
    "df_b_clip = df_b_clip.loc[pd.Timestamp(st):pd.Timestamp(et)]\n",
    "# df_b_aux_clip = df_b_aux_clip.loc[pd.Timestamp(st):pd.Timestamp(et)]\n",
    "df_b_IGRF_clip = df_b_IGRF_clip.loc[pd.Timestamp(st):pd.Timestamp(et)]\n",
    "df_e_clip = df_e_clip.loc[pd.Timestamp(st):pd.Timestamp(et)]\n",
    "\n",
    "np.all(np.equal(df_b_clip.index.values, df_b_IGRF_clip.index.values))"
   ],
   "id": "ae166261d18f3b3c",
   "outputs": [
    {
     "data": {
      "text/plain": [
       "True"
      ]
     },
     "execution_count": 5,
     "metadata": {},
     "output_type": "execute_result"
    }
   ],
   "execution_count": 5
  },
  {
   "metadata": {
    "ExecuteTime": {
     "end_time": "2025-01-12T09:19:42.155978Z",
     "start_time": "2025-01-12T09:19:42.152490Z"
    }
   },
   "cell_type": "code",
   "source": "ehx = df_e_clip['Ehx'].values",
   "id": "301c4ae8c4d3f097",
   "outputs": [],
   "execution_count": 6
  },
  {
   "metadata": {
    "ExecuteTime": {
     "end_time": "2025-01-12T09:19:42.776658Z",
     "start_time": "2025-01-12T09:19:42.195623Z"
    }
   },
   "cell_type": "code",
   "source": [
    "from src.pyaw import SwarmPreprocess\n",
    "\n",
    "b_nec2sc = SwarmPreprocess.MagPreprocess.NEC2SCofMAG(df_b_clip['B_NEC'].values, df_b_clip['q_NEC_CRF'].values)\n",
    "b_sc = b_nec2sc.calculate_rotated_vectors()\n",
    "\n",
    "b_igrf_nec2sc = SwarmPreprocess.MagPreprocess.NEC2SCofMAG(df_b_IGRF_clip['B_NEC_IGRF'].values,\n",
    "                                                          df_b_clip['q_NEC_CRF'].values)\n",
    "b_igrf_sc = b_igrf_nec2sc.calculate_rotated_vectors()\n",
    "\n",
    "by1 = b_sc[:, 1] - b_igrf_sc[:, 1]"
   ],
   "id": "f604494c9c602154",
   "outputs": [],
   "execution_count": 7
  },
  {
   "metadata": {
    "ExecuteTime": {
     "end_time": "2025-01-12T09:19:42.783497Z",
     "start_time": "2025-01-12T09:19:42.778662Z"
    }
   },
   "cell_type": "code",
   "source": [
    "datetimes_e = df_e_clip.index.values\n",
    "datetimes_b = df_b_clip.index.values\n",
    "\n",
    "by1 = pyaw.utils.time_align_high2low(by1, datetimes_b, datetimes_e)"
   ],
   "id": "14ce7272ca7ce8bb",
   "outputs": [],
   "execution_count": 8
  },
  {
   "metadata": {},
   "cell_type": "markdown",
   "source": "# dynamic: 06:47:35-06:48:55",
   "id": "e2dcc0b739f5068c"
  },
  {
   "metadata": {
    "ExecuteTime": {
     "end_time": "2025-01-12T09:19:42.820558Z",
     "start_time": "2025-01-12T09:19:42.816429Z"
    }
   },
   "cell_type": "code",
   "source": [
    "st_dy = np.datetime64('2016-03-11T06:47:35')\n",
    "et_dy = np.datetime64('2016-03-11T06:47:55')\n",
    "t_mask = (datetimes_e >= st_dy) & (datetimes_e <= et_dy)\n",
    "datetimes_dy = datetimes_e[t_mask]\n",
    "ehx_dy = ehx[t_mask]\n",
    "by1_dy = by1[t_mask]"
   ],
   "id": "9607cb93426ceb15",
   "outputs": [],
   "execution_count": 9
  },
  {
   "metadata": {
    "ExecuteTime": {
     "end_time": "2025-01-12T09:19:42.860441Z",
     "start_time": "2025-01-12T09:19:42.856726Z"
    }
   },
   "cell_type": "code",
   "source": [
    "from scipy.signal import spectrogram\n",
    "\n",
    "fs = 16\n",
    "window = 'hann'\n",
    "stft_window_seconds = 4\n",
    "nperseg = int(stft_window_seconds * fs)\n",
    "noverlap = nperseg // 2"
   ],
   "id": "257fd2a6be3373a9",
   "outputs": [],
   "execution_count": 10
  },
  {
   "metadata": {
    "ExecuteTime": {
     "end_time": "2025-01-12T09:19:42.901927Z",
     "start_time": "2025-01-12T09:19:42.896562Z"
    }
   },
   "cell_type": "code",
   "source": [
    "freqs_dy, ts_dy, Sxx_e_dy = spectrogram(ehx_dy, fs=fs, window=window, nperseg=nperseg, noverlap=noverlap,\n",
    "                                        mode='complex')\n",
    "_, _, Sxx_b_dy = spectrogram(by1_dy, fs=fs, window=window, nperseg=nperseg, noverlap=noverlap, mode='complex')\n",
    "\n",
    "ts_dt64_dy = datetimes_dy[0] + [np.timedelta64(int(_), 's') for _ in ts_dy]\n",
    "\n",
    "Sxx_e_m_dy = np.abs(Sxx_e_dy)\n",
    "Sxx_b_m_dy = np.abs(Sxx_b_dy)\n",
    "eb_ratio_dy = Sxx_e_m_dy / Sxx_b_m_dy  # todo:: unit??\n",
    "# 研究一下spectrogram中的计算过程？"
   ],
   "id": "1430a386e7e9c6ac",
   "outputs": [],
   "execution_count": 11
  },
  {
   "metadata": {
    "ExecuteTime": {
     "end_time": "2025-01-12T09:20:26.825142Z",
     "start_time": "2025-01-12T09:20:26.819368Z"
    }
   },
   "cell_type": "code",
   "source": "np.max(eb_ratio_dy), np.min(eb_ratio_dy), np.percentile(eb_ratio_dy, 95)",
   "id": "b3c81c0dff707853",
   "outputs": [
    {
     "data": {
      "text/plain": [
       "(1176.681313360599, 0.074127299472619, 54.505773976162025)"
      ]
     },
     "execution_count": 14,
     "metadata": {},
     "output_type": "execute_result"
    }
   ],
   "execution_count": 14
  },
  {
   "metadata": {
    "ExecuteTime": {
     "end_time": "2025-01-12T09:22:16.970195Z",
     "start_time": "2025-01-12T09:22:16.967031Z"
    }
   },
   "cell_type": "code",
   "source": "eb_ratio_bins_dy = np.arange(0, np.percentile(eb_ratio_dy, 95) + 0.2, 0.2)",
   "id": "f928a3e8b9478044",
   "outputs": [],
   "execution_count": 15
  },
  {
   "metadata": {
    "ExecuteTime": {
     "end_time": "2025-01-12T09:23:33.115478Z",
     "start_time": "2025-01-12T09:23:33.110095Z"
    }
   },
   "cell_type": "code",
   "source": "eb_ratio_histogram2d = pyaw.utils.get_ratio_histogram2d(freqs_dy, eb_ratio_dy, eb_ratio_bins_dy)",
   "id": "732507bece5e212e",
   "outputs": [],
   "execution_count": 17
  },
  {
   "metadata": {},
   "cell_type": "code",
   "outputs": [],
   "execution_count": null,
   "source": [
    "from src.pyaw import mu0\n",
    "\n",
    "Sigma_P_dy = 3.0\n",
    "Sigma_P_sta = 0.5\n",
    "\n",
    "va_dy = 1.4e6\n",
    "va_sta = 1.3e6\n",
    "\n",
    "boundary_l_dy = 1 / (mu0 * Sigma_P_dy)\n",
    "boundary_h_dy = mu0 * va_dy ** 2 * Sigma_P_dy\n",
    "\n",
    "boundary_l_sta = 1 / (mu0 * Sigma_P_sta)\n",
    "boundary_h_sta = mu0 * va_sta ** 2 * Sigma_P_sta"
   ],
   "id": "8fe3cafef28f76a6"
  },
  {
   "metadata": {
    "ExecuteTime": {
     "end_time": "2025-01-12T09:23:58.933482Z",
     "start_time": "2025-01-12T09:23:58.787824Z"
    }
   },
   "cell_type": "code",
   "source": [
    "plt.pcolormesh(freqs_dy, (eb_ratio_bins_dy[:-1] + eb_ratio_bins_dy[1:]) / 2, eb_ratio_histogram2d.T)\n",
    "plt.axhline(1.2)\n",
    "plt.colorbar()\n",
    "plt.show()"
   ],
   "id": "2908dfbe2c1092fd",
   "outputs": [
    {
     "data": {
      "text/plain": [
       "<Figure size 640x480 with 2 Axes>"
      ],
      "image/png": "[encoded data removed]"
     },
     "metadata": {},
     "output_type": "display_data"
    }
   ],
   "execution_count": 18
  }
 ],
 "metadata": {
  "kernelspec": {
   "display_name": "Python 3",
   "language": "python",
   "name": "python3"
  },
  "language_info": {
   "codemirror_mode": {
    "name": "ipython",
    "version": 2
   },
   "file_extension": ".py",
   "mimetype": "text/x-python",
   "name": "python",
   "nbconvert_exporter": "python",
   "pygments_lexer": "ipython2",
   "version": "2.7.6"
  }
 },
 "nbformat": 4,
 "nbformat_minor": 5
}
