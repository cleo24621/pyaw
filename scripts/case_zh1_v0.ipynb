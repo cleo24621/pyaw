{
 "cells": [
  {
   "cell_type": "code",
   "id": "be707646f545bd04",
   "metadata": {
    "ExecuteTime": {
     "end_time": "2025-03-30T13:58:36.043655Z",
     "start_time": "2025-03-30T13:58:33.516815Z"
    }
   },
   "source": [
    "import os.path\n",
    "\n",
    "import pandas as pd\n",
    "\n",
    "from configs import ProjectConfigs\n",
    "from core import zh1\n",
    "from src.pyaw import (\n",
    "    PhysicalParameters,\n",
    "    calculate_lower_bound,\n",
    "    calculate_upper_bound,\n",
    "    calculate_R,\n",
    "    calculate_phase_vary_range,\n",
    ")\n",
    "from src.pyaw import plot_multi_panel, plot_gridded_panels"
   ],
   "outputs": [],
   "execution_count": 1
  },
  {
   "metadata": {
    "ExecuteTime": {
     "end_time": "2025-03-30T13:58:36.052057Z",
     "start_time": "2025-03-30T13:58:36.049086Z"
    }
   },
   "cell_type": "code",
   "source": [
    "\n",
    "# %% basic parameters\n",
    "window = \"hann\"\n",
    "save_dir = r\"G:\\note\\毕业论文\\images\""
   ],
   "id": "aced0436e5ebe697",
   "outputs": [],
   "execution_count": 2
  },
  {
   "metadata": {
    "ExecuteTime": {
     "end_time": "2025-03-30T13:58:36.175152Z",
     "start_time": "2025-03-30T13:58:36.126152Z"
    }
   },
   "cell_type": "code",
   "source": [
    "\n",
    "data_dir_path = ProjectConfigs.data_dir_path\n",
    "file_name_scm = \"CSES_01_SCM_1_L02_A2_175371_20210331_234620_20210401_002156_000.h5\"\n",
    "file_name_efd = \"CSES_01_EFD_1_L2A_A1_175371_20210331_234716_20210401_002158_000.h5\"\n",
    "file_path_scm = os.path.join(data_dir_path, file_name_scm)\n",
    "file_path_efd = os.path.join(data_dir_path, file_name_efd)\n",
    "\n",
    "scm = zh1.SCM(file_path_scm)\n",
    "efd = zh1.EFD(file_path_efd)"
   ],
   "id": "c3e9f758b76733e",
   "outputs": [],
   "execution_count": 3
  },
  {
   "metadata": {
    "ExecuteTime": {
     "end_time": "2025-03-30T13:58:36.181572Z",
     "start_time": "2025-03-30T13:58:36.178546Z"
    }
   },
   "cell_type": "code",
   "source": [
    "# from df1c_split_list to choose st,et for SCMEFDUlf\n",
    "# \"2021-03-31 23:47:14.468\",\"2021-03-31 23:51:18.706\"\n",
    "# \"2021-03-31 23:47:16.352\",\"2021-03-31 23:50:26.816\"\n",
    "st = pd.Timestamp(\"2021-03-31 23:47:16.352\")\n",
    "et = pd.Timestamp(\"2021-03-31 23:50:26.816\")"
   ],
   "id": "e8ed48646ea29d0e",
   "outputs": [],
   "execution_count": 4
  },
  {
   "metadata": {
    "ExecuteTime": {
     "end_time": "2025-03-30T13:58:36.447020Z",
     "start_time": "2025-03-30T13:58:36.187733Z"
    }
   },
   "cell_type": "code",
   "source": "scm_efd = zh1.SCMEFDUlf(st=st, et=et, fp_scm=file_path_scm, fp_efd=file_path_efd)",
   "id": "f019db434b2c0c2f",
   "outputs": [],
   "execution_count": 5
  },
  {
   "metadata": {
    "ExecuteTime": {
     "end_time": "2025-03-30T13:58:37.422470Z",
     "start_time": "2025-03-30T13:58:37.415127Z"
    }
   },
   "cell_type": "code",
   "source": "df = scm_efd.preprocess_data()",
   "id": "ae6593af0f7ff3c",
   "outputs": [],
   "execution_count": 6
  },
  {
   "metadata": {
    "jupyter": {
     "is_executing": true
    },
    "ExecuteTime": {
     "start_time": "2025-03-30T13:59:19.905694Z"
    }
   },
   "cell_type": "code",
   "source": "df['b1_enu1'].plot()",
   "id": "2a5f7e4780bb323b",
   "outputs": [],
   "execution_count": null
  },
  {
   "metadata": {
    "ExecuteTime": {
     "end_time": "2025-03-30T12:45:16.254532Z",
     "start_time": "2025-03-30T12:45:16.250546Z"
    }
   },
   "cell_type": "code",
   "source": [
    "\n",
    "df1c_list_scm = scm.df1c_split_list\n",
    "df1c_list_efd = efd.df1c_split_list"
   ],
   "id": "c8f7a074cb4ead9",
   "outputs": [],
   "execution_count": 4
  },
  {
   "metadata": {
    "ExecuteTime": {
     "end_time": "2025-03-30T12:45:22.561721Z",
     "start_time": "2025-03-30T12:45:22.558537Z"
    }
   },
   "cell_type": "code",
   "source": [
    "datetimes_list_scm = scm.datetimes_split_list\n",
    "datetimes_list_efd = efd.datetimes_split_list"
   ],
   "id": "cb0e2db230a9e082",
   "outputs": [],
   "execution_count": 5
  },
  {
   "metadata": {
    "ExecuteTime": {
     "end_time": "2025-03-30T12:45:25.171143Z",
     "start_time": "2025-03-30T12:45:25.159153Z"
    }
   },
   "cell_type": "code",
   "source": [
    "\n",
    "A231_W_df_split_list, A232_W_df_split_list, A233_W_df_split_list = scm.get_wave_data_split_list()\n",
    "A111_W_df_split_list, A112_W_df_split_list, A113_W_df_split_list = efd.get_wave_data_split_list()"
   ],
   "id": "be9aa9a8d655ba75",
   "outputs": [],
   "execution_count": 6
  },
  {
   "metadata": {
    "ExecuteTime": {
     "end_time": "2025-03-30T12:45:38.405249Z",
     "start_time": "2025-03-30T12:45:38.401245Z"
    }
   },
   "cell_type": "code",
   "source": [
    "\n",
    "idx = 0\n",
    "datetimes_scm = datetimes_list_scm[idx].values\n",
    "datetimes_efd = datetimes_list_efd[idx].values\n",
    "\n",
    "Bx = A231_W_df_split_list[idx]  # dataframe\n",
    "By = A232_W_df_split_list[idx]\n",
    "Bz = A233_W_df_split_list[idx]\n",
    "Ex = A111_W_df_split_list[idx]\n",
    "Ey = A112_W_df_split_list[idx]\n",
    "Ez = A113_W_df_split_list[idx]"
   ],
   "id": "e8f907fd99216330",
   "outputs": [],
   "execution_count": 7
  },
  {
   "metadata": {
    "ExecuteTime": {
     "end_time": "2025-03-30T12:45:47.333024Z",
     "start_time": "2025-03-30T12:45:47.326374Z"
    }
   },
   "cell_type": "code",
   "source": [
    "\n",
    "start_time_scm = datetimes_scm[0]\n",
    "end_time_scm = datetimes_scm[-1]\n",
    "\n",
    "start_time_efd = datetimes_efd[0]\n",
    "end_time_efd = datetimes_efd[-1]\n",
    "\n",
    "assert start_time_scm < end_time_efd\n",
    "assert start_time_efd < end_time_scm\n",
    "\n",
    "start_time = max(start_time_scm, start_time_efd)\n",
    "end_time = min(end_time_scm, end_time_efd)"
   ],
   "id": "eb151e25b1ed391c",
   "outputs": [],
   "execution_count": 8
  },
  {
   "metadata": {},
   "cell_type": "code",
   "outputs": [],
   "execution_count": null,
   "source": [
    "\n",
    "Bx_clip = Bx.loc[start_time:end_time]\n",
    "By_clip = By.loc[start_time:end_time]\n",
    "Bz_clip = Bz.loc[start_time:end_time]\n",
    "Ex_clip = Ex.loc[start_time:end_time]\n",
    "Ey_clip = Ey.loc[start_time:end_time]\n",
    "Ez_clip = Ez.loc[start_time:end_time]"
   ],
   "id": "3c58dc8a94d990f2"
  },
  {
   "metadata": {},
   "cell_type": "code",
   "outputs": [],
   "execution_count": null,
   "source": [
    "# resample\n",
    "# b\n",
    "resample_factor = int(scm.fs / scm.target_fs)\n"
   ],
   "id": "ed3c374f9bcc5f58"
  },
  {
   "metadata": {
    "collapsed": true
   },
   "cell_type": "code",
   "outputs": [],
   "execution_count": null,
   "source": [
    "\n",
    "interval_b = pd.Timedelta((scm.row_len + 1) / scm.fs, unit='s')\n",
    "interval_e = pd.Timedelta((efd.row_len + 1) / efd.fs, unit='s')\n",
    "for i in range(len(Bx_clip.index.values)):\n",
    "    _ = pd.date_range(start=Bx_clip.index.values[i], periods=4096 - 1, freq=f\"{1 / scm.fs}s\")\n",
    "\n",
    "# #%% get clip datetimes: 1st preview the former scm,efd to choose use which elements in list. then use lat range to get clip df\n",
    "# mask = scm.df1c_split_list[0]['GEO_LAT'] > -60\n",
    "\n",
    "datetimes = scm.datetimes_split_list[2]\n",
    "\n"
   ],
   "id": "initial_id"
  }
 ],
 "metadata": {
  "kernelspec": {
   "display_name": "Python 3",
   "language": "python",
   "name": "python3"
  },
  "language_info": {
   "codemirror_mode": {
    "name": "ipython",
    "version": 2
   },
   "file_extension": ".py",
   "mimetype": "text/x-python",
   "name": "python",
   "nbconvert_exporter": "python",
   "pygments_lexer": "ipython2",
   "version": "2.7.6"
  }
 },
 "nbformat": 4,
 "nbformat_minor": 5
}
