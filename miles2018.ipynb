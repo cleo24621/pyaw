{
 "cells": [
  {
   "metadata": {
    "ExecuteTime": {
     "end_time": "2024-12-21T09:50:27.973207Z",
     "start_time": "2024-12-21T09:50:27.968748Z"
    }
   },
   "cell_type": "code",
   "source": [
    "from pathlib import Path\n",
    "import numpy as np\n",
    "import pandas as pd\n",
    "from scipy import interpolate\n",
    "import matplotlib.pyplot as plt\n",
    "\n",
    "from pyaw.swarm import save_SW_EFIx_TCT16, save_SW_MAGx_HR_1B"
   ],
   "id": "63d2c0148eff465c",
   "outputs": [],
   "execution_count": 18
  },
  {
   "cell_type": "code",
   "id": "initial_id",
   "metadata": {
    "collapsed": true,
    "ExecuteTime": {
     "end_time": "2024-12-21T09:19:19.735471Z",
     "start_time": "2024-12-21T09:19:19.732462Z"
    }
   },
   "source": [
    "start_time = '20160311T064700'\n",
    "end_time = '20160311T064900'\n",
    "satellite = 'A'\n",
    "sdir = Path(\"D:/cleo/master/pyaw/data/swarm/miles2018\")\n",
    "sfn_efi16 = Path(\"efi16.pkl\")\n",
    "sfn_vfm50 = Path(\"vfm50.pkl\")"
   ],
   "outputs": [],
   "execution_count": 2
  },
  {
   "metadata": {
    "ExecuteTime": {
     "end_time": "2024-12-21T09:19:19.800369Z",
     "start_time": "2024-12-21T09:19:19.796365Z"
    }
   },
   "cell_type": "code",
   "source": [
    "save_SW_EFIx_TCT16(start_time, end_time, satellite, sdir,\n",
    "                   sfn_efi16)\n",
    "save_SW_MAGx_HR_1B(start_time, end_time, satellite, sdir,\n",
    "                   sfn_vfm50)"
   ],
   "id": "a0db7c58a23801f8",
   "outputs": [
    {
     "name": "stdout",
     "output_type": "stream",
     "text": [
      "D:\\cleo\\master\\pyaw\\data\\swarm\\miles2018\\efi16.pkl already exists, skip save.\n",
      "D:\\cleo\\master\\pyaw\\data\\swarm\\miles2018\\vfm50.pkl already exists, skip save.\n"
     ]
    }
   ],
   "execution_count": 3
  },
  {
   "metadata": {
    "ExecuteTime": {
     "end_time": "2024-12-21T09:19:19.942207Z",
     "start_time": "2024-12-21T09:19:19.806402Z"
    }
   },
   "cell_type": "code",
   "source": [
    "df_e = pd.read_pickle(Path(sdir)/Path(sfn_efi16))\n",
    "df_b = pd.read_pickle(Path(sdir)/Path(sfn_vfm50))"
   ],
   "id": "56e715ea3917889f",
   "outputs": [],
   "execution_count": 4
  },
  {
   "metadata": {
    "ExecuteTime": {
     "end_time": "2024-12-21T09:19:19.962328Z",
     "start_time": "2024-12-21T09:19:19.959472Z"
    }
   },
   "cell_type": "code",
   "source": [
    "Timestamp_e = df_e.index.values\n",
    "VsatN = df_e['VsatN'].values\n",
    "VsatE = df_e['VsatE'].values\n",
    "Ehx = df_e['Ehx'].values\n",
    "Ehy = df_e['Ehy'].values"
   ],
   "id": "dca563c234c36717",
   "outputs": [],
   "execution_count": 5
  },
  {
   "metadata": {
    "ExecuteTime": {
     "end_time": "2024-12-21T09:19:19.987024Z",
     "start_time": "2024-12-21T09:19:19.983826Z"
    }
   },
   "cell_type": "code",
   "source": [
    "theta = np.arctan(VsatE/VsatN)\n",
    "cos_theta = np.cos(theta)\n",
    "sin_theta = np.sin(theta)\n",
    "# Stack components to construct the rotation matrices\n",
    "rotation_matrix = np.array([\n",
    "    [cos_theta, sin_theta],\n",
    "    [-sin_theta, cos_theta]\n",
    "])\n",
    "# Transpose axes to create a (3, 2, 2) array\n",
    "rotation_matrix_2d_nec2vfm = np.transpose(rotation_matrix, (2, 0, 1))\n",
    "rotation_matrix_2d_vfm2nec = rotation_matrix_2d_nec2vfm.transpose(0, 2, 1)\n",
    "del rotation_matrix"
   ],
   "id": "4bfac84ab83b9d50",
   "outputs": [],
   "execution_count": 6
  },
  {
   "metadata": {
    "ExecuteTime": {
     "end_time": "2024-12-21T09:19:20.015875Z",
     "start_time": "2024-12-21T09:19:20.012355Z"
    }
   },
   "cell_type": "code",
   "source": [
    "def do_rotation(vectors1,vectors2,rotation_matrix):\n",
    "    vectors12 = np.stack((vectors1,vectors2),axis=1)\n",
    "    vectors12_rotated = np.einsum('nij,nj->ni', rotation_matrix, vectors12)\n",
    "    return vectors12_rotated[:,0],vectors12_rotated[:,1]"
   ],
   "id": "f08f953a038d9ec3",
   "outputs": [],
   "execution_count": 7
  },
  {
   "metadata": {
    "ExecuteTime": {
     "end_time": "2024-12-21T09:19:20.047383Z",
     "start_time": "2024-12-21T09:19:20.042076Z"
    }
   },
   "cell_type": "code",
   "source": [
    "Vsat_vfm_x,Vsat_vfm_y = do_rotation(VsatN,VsatE,rotation_matrix_2d_nec2vfm)\n",
    "np.max(abs(Vsat_vfm_y)),np.all(np.isclose(Vsat_vfm_y,0,atol=1e-3))"
   ],
   "id": "5f864f2ece8691d9",
   "outputs": [
    {
     "data": {
      "text/plain": [
       "(0.00012207031, True)"
      ]
     },
     "execution_count": 8,
     "metadata": {},
     "output_type": "execute_result"
    }
   ],
   "execution_count": 8
  },
  {
   "metadata": {
    "ExecuteTime": {
     "end_time": "2024-12-21T09:19:20.078772Z",
     "start_time": "2024-12-21T09:19:20.074937Z"
    }
   },
   "cell_type": "code",
   "source": [
    "test_vsat_n,test_vsat_e = do_rotation(Vsat_vfm_x,Vsat_vfm_y,rotation_matrix_2d_vfm2nec)\n",
    "np.max(abs(test_vsat_n - VsatN)),np.all(np.isclose(test_vsat_n - VsatN,0,atol=1e-3))"
   ],
   "id": "a2b6564308636e83",
   "outputs": [
    {
     "data": {
      "text/plain": [
       "(0.0009765625, True)"
      ]
     },
     "execution_count": 9,
     "metadata": {},
     "output_type": "execute_result"
    }
   ],
   "execution_count": 9
  },
  {
   "metadata": {
    "ExecuteTime": {
     "end_time": "2024-12-21T09:19:20.349732Z",
     "start_time": "2024-12-21T09:19:20.207536Z"
    }
   },
   "cell_type": "code",
   "source": [
    "plt.plot(Timestamp_e,Ehx)\n",
    "plt.xticks(rotation=45)\n",
    "plt.tight_layout()  # Ensures everything fits within the figure\n",
    "plt.show()"
   ],
   "id": "2e9e54aadc11be5",
   "outputs": [
    {
     "data": {
      "text/plain": [
       "<Figure size 640x480 with 1 Axes>"
      ],
      "image/png": "[encoded data removed]"
     },
     "metadata": {},
     "output_type": "display_data"
    }
   ],
   "execution_count": 10
  },
  {
   "metadata": {
    "ExecuteTime": {
     "end_time": "2024-12-21T09:19:27.942894Z",
     "start_time": "2024-12-21T09:19:27.938661Z"
    }
   },
   "cell_type": "code",
   "source": "np.std(Ehx),np.mean(Ehx),np.max(Ehx),np.min(Ehx)",
   "id": "556fb6034a20eaab",
   "outputs": [
    {
     "data": {
      "text/plain": [
       "(26.03453, 1.4860274, 209.64946, -665.1797)"
      ]
     },
     "execution_count": 13,
     "metadata": {},
     "output_type": "execute_result"
    }
   ],
   "execution_count": 13
  },
  {
   "metadata": {
    "ExecuteTime": {
     "end_time": "2024-12-21T10:01:59.255427Z",
     "start_time": "2024-12-21T10:01:59.250110Z"
    }
   },
   "cell_type": "code",
   "source": [
    "def set_outliers_nan(array,std_times: float = 1.0, print_: bool = True):\n",
    "    array_copy = array.copy()\n",
    "    threshold = std_times * np.std(array_copy)\n",
    "    bursts = np.abs(array_copy - np.mean(array_copy)) > threshold\n",
    "    array_copy[bursts] = np.nan\n",
    "    return array_copy\n",
    "\n",
    "Ehx_set_outliers_nan = set_outliers_nan(Ehx)\n",
    "Ehy_set_outliers_nan = set_outliers_nan(Ehy)"
   ],
   "id": "6ff2d0a7cb8f2284",
   "outputs": [],
   "execution_count": 25
  },
  {
   "metadata": {
    "ExecuteTime": {
     "end_time": "2024-12-21T10:02:00.355855Z",
     "start_time": "2024-12-21T10:02:00.350743Z"
    }
   },
   "cell_type": "code",
   "source": [
    "def get_array_interpolated(x,y):\n",
    "    \"\"\"\n",
    "    :param x: ndarray consisting of np.datetime64. Specifically in this notebook the dtype of the array is np.datetime64[ns]\n",
    "    :param y:\n",
    "    :return:\n",
    "    \"\"\"\n",
    "    y_copy = y\n",
    "    # Mask for missing values\n",
    "    mask = np.isnan(y_copy)\n",
    "    # Interpolate\n",
    "    y_copy[mask] = interpolate.interp1d(x[~mask].astype('int'), y_copy[~mask], kind='linear')(\n",
    "        x[mask].astype('int'))\n",
    "    return y_copy"
   ],
   "id": "66a21e6b9be5bc93",
   "outputs": [],
   "execution_count": 26
  },
  {
   "metadata": {
    "ExecuteTime": {
     "end_time": "2024-12-21T10:02:01.742627Z",
     "start_time": "2024-12-21T10:02:01.737604Z"
    }
   },
   "cell_type": "code",
   "source": [
    "Ehx_set_outliers_nan_interpolated = get_array_interpolated(Timestamp_e,Ehx_set_outliers_nan)\n",
    "Ehy_set_outliers_nan_interpolated = get_array_interpolated(Timestamp_e,Ehy_set_outliers_nan)"
   ],
   "id": "d6360aab33a1e949",
   "outputs": [],
   "execution_count": 27
  }
 ],
 "metadata": {
  "kernelspec": {
   "display_name": "Python 3",
   "language": "python",
   "name": "python3"
  },
  "language_info": {
   "codemirror_mode": {
    "name": "ipython",
    "version": 2
   },
   "file_extension": ".py",
   "mimetype": "text/x-python",
   "name": "python",
   "nbconvert_exporter": "python",
   "pygments_lexer": "ipython2",
   "version": "2.7.6"
  }
 },
 "nbformat": 4,
 "nbformat_minor": 5
}
