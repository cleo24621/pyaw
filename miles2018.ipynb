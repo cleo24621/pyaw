{
 "cells": [
  {
   "metadata": {},
   "cell_type": "markdown",
   "source": "# import libraries",
   "id": "47c8cb14acb8abc2"
  },
  {
   "metadata": {
    "ExecuteTime": {
     "end_time": "2024-12-22T14:17:46.571182Z",
     "start_time": "2024-12-22T14:17:46.567711Z"
    }
   },
   "cell_type": "code",
   "source": [
    "from pathlib import Path\n",
    "import numpy as np\n",
    "import pandas as pd\n",
    "from scipy import interpolate\n",
    "import matplotlib.pyplot as plt\n",
    "\n",
    "from pyaw.swarm import save_SW_EFIx_TCT16, save_SW_MAGx_HR_1B"
   ],
   "id": "63d2c0148eff465c",
   "outputs": [],
   "execution_count": 18
  },
  {
   "metadata": {},
   "cell_type": "markdown",
   "source": "# basic assignment of variables",
   "id": "ed5032416b5ed995"
  },
  {
   "cell_type": "code",
   "id": "initial_id",
   "metadata": {
    "collapsed": true,
    "ExecuteTime": {
     "end_time": "2024-12-22T14:17:46.592811Z",
     "start_time": "2024-12-22T14:17:46.583503Z"
    }
   },
   "source": [
    "start_time = '20160311T064700'\n",
    "end_time = '20160311T064900'\n",
    "satellite = 'A'\n",
    "sdir = Path(\"D:/cleo/master/pyaw/data/swarm/miles2018\")\n",
    "sfn_EFIA_TCT16 = Path(\"EFIA_TCT16.pkl\")\n",
    "sfn_MAGA_HR_1B = Path(\"MAGA_HR_1B.pkl\")"
   ],
   "outputs": [],
   "execution_count": 19
  },
  {
   "metadata": {},
   "cell_type": "markdown",
   "source": "# download data",
   "id": "f33ea3f877ba5ea4"
  },
  {
   "metadata": {
    "ExecuteTime": {
     "end_time": "2024-12-22T14:17:46.650639Z",
     "start_time": "2024-12-22T14:17:46.645796Z"
    }
   },
   "cell_type": "code",
   "source": [
    "save_SW_EFIx_TCT16(start_time, end_time, satellite, sdir,\n",
    "                   sfn_EFIA_TCT16)\n",
    "save_SW_MAGx_HR_1B(start_time, end_time, satellite, sdir,\n",
    "                   sfn_MAGA_HR_1B)"
   ],
   "id": "a0db7c58a23801f8",
   "outputs": [
    {
     "name": "stdout",
     "output_type": "stream",
     "text": [
      "D:\\cleo\\master\\pyaw\\data\\swarm\\miles2018\\EFIA_TCT16.pkl already exists, skip save.\n",
      "D:\\cleo\\master\\pyaw\\data\\swarm\\miles2018\\MAGA_HR_1B.pkl already exists, skip save.\n"
     ]
    }
   ],
   "execution_count": 20
  },
  {
   "metadata": {},
   "cell_type": "markdown",
   "source": "# read data",
   "id": "657ab0b13cde4084"
  },
  {
   "metadata": {
    "ExecuteTime": {
     "end_time": "2024-12-22T14:17:46.803874Z",
     "start_time": "2024-12-22T14:17:46.656758Z"
    }
   },
   "cell_type": "code",
   "source": [
    "df_e = pd.read_pickle(Path(sdir) / Path(sfn_EFIA_TCT16))\n",
    "df_b = pd.read_pickle(Path(sdir) / Path(sfn_MAGA_HR_1B))\n",
    "timestamps_e = df_e.index.values\n",
    "timestamps_b = df_b.index.values"
   ],
   "id": "78ce868966dbbe1",
   "outputs": [],
   "execution_count": 21
  },
  {
   "metadata": {},
   "cell_type": "markdown",
   "source": "# magnetic field in NEC coordinate system",
   "id": "a19848549694e9d7"
  },
  {
   "metadata": {
    "ExecuteTime": {
     "end_time": "2024-12-22T14:17:46.835966Z",
     "start_time": "2024-12-22T14:17:46.828330Z"
    }
   },
   "cell_type": "code",
   "source": [
    "bn=[]\n",
    "be=[]\n",
    "bc=[]\n",
    "for ndarray_ in df_b['B_NEC'].values:\n",
    "    bn.append(ndarray_[0])\n",
    "    be.append(ndarray_[1])\n",
    "    bc.append(ndarray_[2])\n",
    "bn = np.array(bn)\n",
    "be = np.array(be)\n",
    "bc = np.array(bc)"
   ],
   "id": "eab4a9091ea7860e",
   "outputs": [],
   "execution_count": 22
  },
  {
   "metadata": {},
   "cell_type": "markdown",
   "source": "# electric field in NEC coordinate system",
   "id": "c767eedf825ec2e2"
  },
  {
   "metadata": {},
   "cell_type": "markdown",
   "source": "## electric field in satellite-track coordinate system",
   "id": "51ec433bb29feeaf"
  },
  {
   "metadata": {
    "ExecuteTime": {
     "end_time": "2024-12-22T14:17:46.893656Z",
     "start_time": "2024-12-22T14:17:46.889622Z"
    }
   },
   "cell_type": "code",
   "source": [
    "# todo:: i.e. S/C coordinate system (in the later part, I will treat the satellite-track coordinate system as the S/C system) (no it will have a negative difference)?\n",
    "Ehx = df_e['Ehx'].values\n",
    "Ehy = df_e['Ehy'].values\n",
    "Ehz = df_e['Ehz'].values\n",
    "Evx = df_e['Evx'].values\n",
    "Evy = df_e['Evy'].values\n",
    "Evz = df_e['Evz'].values"
   ],
   "id": "5a95d789d591bbcd",
   "outputs": [],
   "execution_count": 23
  },
  {
   "metadata": {},
   "cell_type": "markdown",
   "source": "### coordinate transformation from S/C coordinate system to NEC coordinate system",
   "id": "ca3b54102ff30842"
  },
  {
   "metadata": {},
   "cell_type": "markdown",
   "source": [
    "#### get rotation matrix\n",
    "\n",
    "nec2sc, sc2nec (when deriving the rotation matrix, consider the rotation matrix from NEC to S/C and from S/C to NEC)"
   ],
   "id": "209e55b19672a2d7"
  },
  {
   "metadata": {
    "ExecuteTime": {
     "end_time": "2024-12-22T14:17:46.903077Z",
     "start_time": "2024-12-22T14:17:46.899456Z"
    }
   },
   "cell_type": "code",
   "source": [
    "VsatN = df_e['VsatN'].values\n",
    "VsatE = df_e['VsatE'].values"
   ],
   "id": "d44a311ed5a14cfc",
   "outputs": [],
   "execution_count": 24
  },
  {
   "metadata": {
    "ExecuteTime": {
     "end_time": "2024-12-22T14:17:46.933814Z",
     "start_time": "2024-12-22T14:17:46.928789Z"
    }
   },
   "cell_type": "code",
   "source": [
    "theta = np.arctan(VsatE/VsatN)\n",
    "cos_theta = np.cos(theta)\n",
    "sin_theta = np.sin(theta)\n",
    "# Stack components to construct the rotation matrices\n",
    "rotation_matrix = np.array([\n",
    "    [cos_theta, sin_theta],\n",
    "    [-sin_theta, cos_theta]\n",
    "])\n",
    "# Transpose axes to create a (3, 2, 2) array\n",
    "rotation_matrix_2d_nec2sc = np.transpose(rotation_matrix, (2, 0, 1))\n",
    "rotation_matrix_2d_sc2nec = rotation_matrix_2d_nec2sc.transpose(0, 2, 1)\n",
    "del rotation_matrix"
   ],
   "id": "71ef410c1903a034",
   "outputs": [],
   "execution_count": 25
  },
  {
   "metadata": {
    "ExecuteTime": {
     "end_time": "2024-12-22T14:17:47.005271Z",
     "start_time": "2024-12-22T14:17:47.001987Z"
    }
   },
   "cell_type": "code",
   "source": [
    "def do_rotation(vectors1,vectors2,rotation_matrix):\n",
    "    vectors12 = np.stack((vectors1,vectors2),axis=1)\n",
    "    vectors12_rotated = np.einsum('nij,nj->ni', rotation_matrix, vectors12)\n",
    "    return vectors12_rotated[:,0],vectors12_rotated[:,1]"
   ],
   "id": "4e86bd277191f83a",
   "outputs": [],
   "execution_count": 26
  },
  {
   "metadata": {},
   "cell_type": "markdown",
   "source": "#### preprocess before rotation",
   "id": "2b25ec5c064457b2"
  },
  {
   "metadata": {
    "ExecuteTime": {
     "end_time": "2024-12-22T14:17:47.223718Z",
     "start_time": "2024-12-22T14:17:47.041791Z"
    }
   },
   "cell_type": "code",
   "source": [
    "plt.plot(timestamps_e, Ehx)\n",
    "plt.xticks(rotation=45)\n",
    "plt.tight_layout()  # Ensures everything fits within the figure\n",
    "plt.show()"
   ],
   "id": "fea25a979a5e03b7",
   "outputs": [
    {
     "data": {
      "text/plain": [
       "<Figure size 640x480 with 1 Axes>"
      ],
      "image/png": "[encoded data removed]"
     },
     "metadata": {},
     "output_type": "display_data"
    }
   ],
   "execution_count": 27
  },
  {
   "metadata": {
    "ExecuteTime": {
     "end_time": "2024-12-22T14:17:47.233990Z",
     "start_time": "2024-12-22T14:17:47.225403Z"
    }
   },
   "cell_type": "code",
   "source": "np.std(Ehx),np.mean(Ehx),np.max(Ehx),np.min(Ehx)",
   "id": "bc4f93ce6f1b08f5",
   "outputs": [
    {
     "data": {
      "text/plain": [
       "(26.03453, 1.4860274, 209.64946, -665.1797)"
      ]
     },
     "execution_count": 28,
     "metadata": {},
     "output_type": "execute_result"
    }
   ],
   "execution_count": 28
  },
  {
   "metadata": {
    "ExecuteTime": {
     "end_time": "2024-12-22T14:17:47.298551Z",
     "start_time": "2024-12-22T14:17:47.294156Z"
    }
   },
   "cell_type": "code",
   "source": [
    "def set_outliers_nan(array,std_times: float = 1.0, print_: bool = True):\n",
    "    array_copy = array.copy()\n",
    "    threshold = std_times * np.std(array_copy)\n",
    "    bursts = np.abs(array_copy - np.mean(array_copy)) > threshold\n",
    "    array_copy[bursts] = np.nan\n",
    "    return array_copy\n",
    "\n",
    "Ehx_set_outliers_nan = set_outliers_nan(Ehx)\n",
    "Ehy_set_outliers_nan = set_outliers_nan(Ehy)"
   ],
   "id": "abb13bc31c98abcc",
   "outputs": [],
   "execution_count": 29
  },
  {
   "metadata": {
    "ExecuteTime": {
     "end_time": "2024-12-22T14:17:47.344771Z",
     "start_time": "2024-12-22T14:17:47.340192Z"
    }
   },
   "cell_type": "code",
   "source": [
    "def get_array_interpolated(x,y):\n",
    "    \"\"\"\n",
    "    :param x: ndarray consisting of np.datetime64. Specifically in this notebook the dtype of the array is np.datetime64[ns]\n",
    "    :param y:\n",
    "    :return:\n",
    "    \"\"\"\n",
    "    y_copy = y\n",
    "    # Mask for missing values\n",
    "    mask = np.isnan(y_copy)\n",
    "    # Interpolate\n",
    "    y_copy[mask] = interpolate.interp1d(x[~mask].astype('int'), y_copy[~mask], kind='linear')(\n",
    "        x[mask].astype('int'))\n",
    "    return y_copy"
   ],
   "id": "2b8aefd904ee00f4",
   "outputs": [],
   "execution_count": 30
  },
  {
   "metadata": {
    "ExecuteTime": {
     "end_time": "2024-12-22T14:17:47.356497Z",
     "start_time": "2024-12-22T14:17:47.351488Z"
    }
   },
   "cell_type": "code",
   "source": [
    "Ehx_set_outliers_nan_interpolated = get_array_interpolated(timestamps_e, Ehx_set_outliers_nan)\n",
    "Ehy_set_outliers_nan_interpolated = get_array_interpolated(timestamps_e, Ehy_set_outliers_nan)"
   ],
   "id": "fdabdd3e94b9f8c1",
   "outputs": [],
   "execution_count": 31
  },
  {
   "metadata": {},
   "cell_type": "markdown",
   "source": "#### do rotation",
   "id": "a68fb296b38e030"
  },
  {
   "metadata": {
    "ExecuteTime": {
     "end_time": "2024-12-22T14:17:47.424267Z",
     "start_time": "2024-12-22T14:17:47.419555Z"
    }
   },
   "cell_type": "code",
   "source": [
    "Ehn,Ehe = do_rotation(-Ehx_set_outliers_nan_interpolated, -Ehy_set_outliers_nan_interpolated, rotation_matrix_2d_sc2nec)\n",
    "# todo:: I add the negative sign to the x,y components of the electric field in the satellite-track coordinate system."
   ],
   "id": "3afa6ad0481b30fd",
   "outputs": [],
   "execution_count": 32
  },
  {
   "metadata": {
    "ExecuteTime": {
     "end_time": "2024-12-22T14:17:47.520301Z",
     "start_time": "2024-12-22T14:17:47.430241Z"
    }
   },
   "cell_type": "code",
   "source": [
    "plt.plot(timestamps_e, Ehn)\n",
    "plt.xticks(rotation=45)\n",
    "plt.show()"
   ],
   "id": "f82c5bbe2f15ba5b",
   "outputs": [
    {
     "data": {
      "text/plain": [
       "<Figure size 640x480 with 1 Axes>"
      ],
      "image/png": "[encoded data removed]"
     },
     "metadata": {},
     "output_type": "display_data"
    }
   ],
   "execution_count": 33
  },
  {
   "metadata": {},
   "cell_type": "markdown",
   "source": "# to verify the correlation between the satellite-track coordinate system and the S/C coordinate system",
   "id": "7d8d13f02ba2b09f"
  },
  {
   "metadata": {},
   "cell_type": "markdown",
   "source": [
    "## IGRF13\n",
    "\n",
    "NEC coordinate system"
   ],
   "id": "e1e1da8061710b81"
  },
  {
   "metadata": {
    "ExecuteTime": {
     "end_time": "2024-12-22T14:17:47.557803Z",
     "start_time": "2024-12-22T14:17:47.553169Z"
    }
   },
   "cell_type": "code",
   "source": [
    "latitudes = df_e['Latitude'].values\n",
    "longitudes = df_e['Longitude'].values\n",
    "radiuses = df_e['Radius']/1e3  # km"
   ],
   "id": "2a9a9f3ffbe05cc1",
   "outputs": [],
   "execution_count": 34
  },
  {
   "metadata": {
    "ExecuteTime": {
     "end_time": "2024-12-22T14:17:51.444302Z",
     "start_time": "2024-12-22T14:17:47.627278Z"
    }
   },
   "cell_type": "code",
   "source": [
    "from igrf13 import igrf_utils\n",
    "# from importlib import reload\n",
    "# reload(igrf_utils)\n",
    "\n",
    "igrf_bn,igrf_be,igrf_bc = igrf_utils.get_igrf13_b_nec(timestamps_e, latitudes, longitudes, radiuses, igrf13shc_path=\"./igrf13/IGRF13.shc\")"
   ],
   "id": "4b5bc8b85bd82ff5",
   "outputs": [
    {
     "name": "stdout",
     "output_type": "stream",
     "text": [
      "the whole loop takes time: 3.4414966106414795s\n"
     ]
    }
   ],
   "execution_count": 35
  },
  {
   "metadata": {},
   "cell_type": "markdown",
   "source": [
    "### do rotation\n",
    "\n",
    "from NEC coordinate system to S/C coordinate system"
   ],
   "id": "4f82a448d8d0f55a"
  },
  {
   "metadata": {
    "ExecuteTime": {
     "end_time": "2024-12-22T14:17:51.459540Z",
     "start_time": "2024-12-22T14:17:51.454087Z"
    }
   },
   "cell_type": "code",
   "source": "igrf_b_sc_x,igrf_b_sc_y = do_rotation(igrf_bn, igrf_be, rotation_matrix_2d_nec2sc)",
   "id": "f23587c26a687bef",
   "outputs": [],
   "execution_count": 36
  },
  {
   "metadata": {},
   "cell_type": "markdown",
   "source": "### compare IGRF magnetic field in S/C coordinate system with the magnetic field in the satellite-track coordinate system",
   "id": "670e6dc75c4e3f4f"
  },
  {
   "metadata": {
    "ExecuteTime": {
     "end_time": "2024-12-22T14:17:51.502860Z",
     "start_time": "2024-12-22T14:17:51.498733Z"
    }
   },
   "cell_type": "code",
   "source": [
    "Bx = df_e['Bx'].values\n",
    "By = df_e['By'].values\n",
    "Bz = df_e['Bz'].values"
   ],
   "id": "7af8f3de8512f011",
   "outputs": [],
   "execution_count": 37
  },
  {
   "metadata": {
    "ExecuteTime": {
     "end_time": "2024-12-22T14:17:53.328288Z",
     "start_time": "2024-12-22T14:17:53.324091Z"
    }
   },
   "cell_type": "code",
   "source": "igrf_b_sc_x,Bx",
   "id": "3110014fef670272",
   "outputs": [
    {
     "data": {
      "text/plain": [
       "(array([5985.84738024, 5987.41412578, 5989.00885973, ..., 9248.54053443,\n",
       "        9250.34402662, 9252.11641078]),\n",
       " array([-6025.4023, -6026.9688, -6028.56  , ..., -9247.887 , -9249.308 ,\n",
       "        -9250.706 ], dtype=float32))"
      ]
     },
     "execution_count": 38,
     "metadata": {},
     "output_type": "execute_result"
    }
   ],
   "execution_count": 38
  },
  {
   "metadata": {
    "ExecuteTime": {
     "end_time": "2024-12-22T14:18:21.918937Z",
     "start_time": "2024-12-22T14:18:21.911872Z"
    }
   },
   "cell_type": "code",
   "source": "igrf_b_sc_y,By",
   "id": "441899901cb9e497",
   "outputs": [
    {
     "data": {
      "text/plain": [
       "(array([2528.52554331, 2528.90898771, 2529.29978926, ..., 3181.55301796,\n",
       "        3181.84250689, 3182.12621555]),\n",
       " array([-2509.011 , -2509.4792, -2509.955 , ..., -3216.7092, -3217.0664,\n",
       "        -3217.4177], dtype=float32))"
      ]
     },
     "execution_count": 39,
     "metadata": {},
     "output_type": "execute_result"
    }
   ],
   "execution_count": 39
  },
  {
   "metadata": {
    "ExecuteTime": {
     "end_time": "2024-12-22T14:20:46.379044Z",
     "start_time": "2024-12-22T14:20:46.373889Z"
    }
   },
   "cell_type": "code",
   "source": "np.array(igrf_bc),Bz",
   "id": "2dc6896279083ba7",
   "outputs": [
    {
     "data": {
      "text/plain": [
       "(array([47031.73096736, 47031.36768385, 47030.99772027, ...,\n",
       "        45741.43486415, 45740.41479512, 45739.41210519]),\n",
       " array([47065.215, 47064.84 , 47064.453, ..., 45743.824, 45742.88 ,\n",
       "        45741.934], dtype=float32))"
      ]
     },
     "execution_count": 42,
     "metadata": {},
     "output_type": "execute_result"
    }
   ],
   "execution_count": 42
  },
  {
   "metadata": {},
   "cell_type": "markdown",
   "source": "### compare the Bx,By,Bz of EFIx_TCT16 download from VirES with EFIx_TCT16 download from ESA Swarm http database",
   "id": "70709240623d8d90"
  },
  {
   "metadata": {
    "ExecuteTime": {
     "end_time": "2024-12-22T02:48:44.700425Z",
     "start_time": "2024-12-22T02:48:44.695465Z"
    }
   },
   "cell_type": "code",
   "outputs": [],
   "execution_count": 119,
   "source": [
    "import cdflib\n",
    "\n",
    "fp = r\"D:\\cleo\\master\\pyaw\\data\\Swarm\\miles2018\\SW_EXPT_EFIA_TCT16_20160311T000000_20160311T065505_0302.cdf\"\n",
    "\n",
    "cdf_file = cdflib.CDF(fp)\n",
    "info = cdf_file.cdf_info()"
   ],
   "id": "f85f68393423cf64"
  },
  {
   "metadata": {
    "ExecuteTime": {
     "end_time": "2024-12-22T02:48:44.757890Z",
     "start_time": "2024-12-22T02:48:44.752981Z"
    }
   },
   "cell_type": "code",
   "outputs": [
    {
     "data": {
      "text/plain": [
       "{'FIELDNAM': 'Bx',\n",
       " 'CATDESC': 'Geomagnetic field x component in satellite-track coordinates, derived from the 1 Hz product.',\n",
       " 'Type': 'CDF_FLOAT',\n",
       " 'UNITS': 'nT',\n",
       " 'VAR_TYPE': 'data',\n",
       " 'DEPEND_0': 'Time',\n",
       " 'DISPLAY_TYPE': 'time_series',\n",
       " 'LABLAXIS': 'Bx',\n",
       " 'VALIDMIN': -65000.0,\n",
       " 'VALIDMAX': 65000.0}"
      ]
     },
     "execution_count": 120,
     "metadata": {},
     "output_type": "execute_result"
    }
   ],
   "execution_count": 120,
   "source": "cdf_file.varattsget('Bx')",
   "id": "695e408e2af9b64a"
  },
  {
   "metadata": {
    "ExecuteTime": {
     "end_time": "2024-12-22T02:48:44.818427Z",
     "start_time": "2024-12-22T02:48:44.812195Z"
    }
   },
   "cell_type": "code",
   "outputs": [],
   "execution_count": 121,
   "source": [
    "Bx_local = cdf_file.varget('Bx')\n",
    "timestamps_local = cdf_file.varget('Timestamp')"
   ],
   "id": "14cb8c479ecb7b6d"
  },
  {
   "metadata": {
    "ExecuteTime": {
     "end_time": "2024-12-22T02:48:44.934006Z",
     "start_time": "2024-12-22T02:48:44.927935Z"
    }
   },
   "cell_type": "code",
   "outputs": [
    {
     "name": "stdout",
     "output_type": "stream",
     "text": [
      "['2016-03-11T00:00:00.006' '2016-03-11T00:00:00.068'\n",
      " '2016-03-11T00:00:00.131' '2016-03-11T00:00:00.193'\n",
      " '2016-03-11T00:00:00.256']\n"
     ]
    }
   ],
   "execution_count": 123,
   "source": [
    "import numpy as np\n",
    "\n",
    "# Create a numpy datetime object for Year 0, January 1, and the unit is millisecond\n",
    "ad0_reference = np.datetime64('0000-01-01', 'ms')\n",
    "\n",
    "# Convert the 'Timestamp' to datetime by adding the milliseconds since the epoch_reference\n",
    "# Assuming 'Timestamp' is in milliseconds\n",
    "timestamps_local = ad0_reference + np.array(timestamps_local, dtype='timedelta64[ms]')\n",
    "\n",
    "# Print the first few datetime values\n",
    "print(timestamps_local[:5])"
   ],
   "id": "ca813c65d5f6a80e"
  },
  {
   "metadata": {
    "ExecuteTime": {
     "end_time": "2024-12-22T02:48:44.988865Z",
     "start_time": "2024-12-22T02:48:44.985744Z"
    }
   },
   "cell_type": "code",
   "outputs": [],
   "execution_count": 124,
   "source": [
    "mask = np.where(timestamps_local > np.datetime64('2016-03-11T06:47:00'))\n",
    "Bx_local = Bx_local[mask]\n",
    "Bx_local"
   ],
   "id": "449f2072ba3de27f"
  },
  {
   "metadata": {},
   "cell_type": "markdown",
   "source": [
    "### conclusion\n",
    "\n",
    "(x,y,z) in satellite-track coordinate system, in S/C coordinate system, it will be (-x,-y,z)"
   ],
   "id": "e29ad199b1b1215c"
  },
  {
   "metadata": {},
   "cell_type": "code",
   "outputs": [],
   "execution_count": null,
   "source": "# todo:: according to the doc of tct16, the x axis of the satellite-track coordinate system is in the direction of the satellite velocity that is same to the x axis of the S/C coordinate system??? so why there is a negative sign difference between the x and y components of the magnetic field in the satellite-track coordinate system and the S/C coordinate system?",
   "id": "988e8b98fe2c7dc2"
  },
  {
   "metadata": {},
   "cell_type": "markdown",
   "source": [
    "# down-resample the MAGx_HR_1B data (50hz)\n",
    "\n",
    "- 1b 算法文档中提到 vfm 有截止频率大约 9hz？(Swarm Level 1b Processor Algorithms. pdf, page20). so when down-resampling the MAGx_HR_1B magnetic field data to 16hz, don't firstly filter the data?"
   ],
   "id": "d509496dd52c5d9c"
  }
 ],
 "metadata": {
  "kernelspec": {
   "display_name": "Python 3",
   "language": "python",
   "name": "python3"
  },
  "language_info": {
   "codemirror_mode": {
    "name": "ipython",
    "version": 2
   },
   "file_extension": ".py",
   "mimetype": "text/x-python",
   "name": "python",
   "nbconvert_exporter": "python",
   "pygments_lexer": "ipython2",
   "version": "2.7.6"
  }
 },
 "nbformat": 4,
 "nbformat_minor": 5
}
