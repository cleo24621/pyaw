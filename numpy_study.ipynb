{
 "cells": [
  {
   "cell_type": "code",
   "id": "initial_id",
   "metadata": {
    "collapsed": true,
    "jupyter": {
     "is_executing": true
    }
   },
   "source": "import numpy as np",
   "outputs": [],
   "execution_count": null
  },
  {
   "metadata": {
    "ExecuteTime": {
     "end_time": "2024-12-17T12:34:46.609795Z",
     "start_time": "2024-12-17T12:34:46.605582Z"
    }
   },
   "cell_type": "code",
   "source": "np.__version__",
   "id": "8efc22b7d73ce503",
   "outputs": [
    {
     "data": {
      "text/plain": [
       "'1.25.2'"
      ]
     },
     "execution_count": 4,
     "metadata": {},
     "output_type": "execute_result"
    }
   ],
   "execution_count": 4
  },
  {
   "metadata": {},
   "cell_type": "markdown",
   "source": "#",
   "id": "de95b613c129d652"
  },
  {
   "metadata": {
    "ExecuteTime": {
     "end_time": "2024-12-17T12:35:12.679153Z",
     "start_time": "2024-12-17T12:35:12.675150Z"
    }
   },
   "cell_type": "code",
   "source": [
    "a = np.array([[1, 2], [3, 4]])\n",
    "a"
   ],
   "id": "454d6d260949babf",
   "outputs": [
    {
     "data": {
      "text/plain": [
       "array([[1, 2],\n",
       "       [3, 4]])"
      ]
     },
     "execution_count": 6,
     "metadata": {},
     "output_type": "execute_result"
    }
   ],
   "execution_count": 6
  },
  {
   "metadata": {
    "ExecuteTime": {
     "end_time": "2024-12-17T12:35:25.075068Z",
     "start_time": "2024-12-17T12:35:25.071032Z"
    }
   },
   "cell_type": "code",
   "source": [
    "b = np.array([[5, 6], [7, 8]])\n",
    "a+b\n"
   ],
   "id": "c4f3b796d9f936b3",
   "outputs": [
    {
     "data": {
      "text/plain": [
       "array([[ 6,  8],\n",
       "       [10, 12]])"
      ]
     },
     "execution_count": 7,
     "metadata": {},
     "output_type": "execute_result"
    }
   ],
   "execution_count": 7
  },
  {
   "metadata": {
    "ExecuteTime": {
     "end_time": "2024-12-17T13:27:53.676351Z",
     "start_time": "2024-12-17T13:27:53.671571Z"
    }
   },
   "cell_type": "code",
   "source": [
    "import numpy as np\n",
    "\n",
    "# Example 1D ndarray of theta (angles in degrees)\n",
    "theta = np.array([30, 45, 60])  # Shape: (3,)\n",
    "\n",
    "# Convert theta to radians\n",
    "theta_rad = np.radians(theta)  # Shape: (3,)\n",
    "\n",
    "# Calculate cosine and sine for each angle\n",
    "cos_theta = np.cos(theta_rad)  # Shape: (3,)\n",
    "sin_theta = np.sin(theta_rad)  # Shape: (3,)\n",
    "\n",
    "# Stack components to construct the rotation matrices\n",
    "rotation_matrices = np.array([\n",
    "    [cos_theta, -sin_theta],\n",
    "    [sin_theta,  cos_theta]\n",
    "])\n",
    "rotation_matrices"
   ],
   "id": "c5705ce43c117309",
   "outputs": [
    {
     "data": {
      "text/plain": [
       "array([[[ 0.8660254 ,  0.70710678,  0.5       ],\n",
       "        [-0.5       , -0.70710678, -0.8660254 ]],\n",
       "\n",
       "       [[ 0.5       ,  0.70710678,  0.8660254 ],\n",
       "        [ 0.8660254 ,  0.70710678,  0.5       ]]])"
      ]
     },
     "execution_count": 9,
     "metadata": {},
     "output_type": "execute_result"
    }
   ],
   "execution_count": 9
  },
  {
   "metadata": {
    "ExecuteTime": {
     "end_time": "2024-12-17T13:28:31.182480Z",
     "start_time": "2024-12-17T13:28:31.179152Z"
    }
   },
   "cell_type": "code",
   "source": [
    "\n",
    "# Transpose axes to create a (3, 2, 2) array\n",
    "rotation_matrices = np.transpose(rotation_matrices, (2, 0, 1))\n",
    "\n",
    "print(\"Rotation matrices shape:\", rotation_matrices.shape)\n",
    "print(rotation_matrices)\n"
   ],
   "id": "16710d71a86745f8",
   "outputs": [
    {
     "name": "stdout",
     "output_type": "stream",
     "text": [
      "Rotation matrices shape: (3, 2, 2)\n",
      "[[[ 0.8660254  -0.5       ]\n",
      "  [ 0.5         0.8660254 ]]\n",
      "\n",
      " [[ 0.70710678 -0.70710678]\n",
      "  [ 0.70710678  0.70710678]]\n",
      "\n",
      " [[ 0.5        -0.8660254 ]\n",
      "  [ 0.8660254   0.5       ]]]\n"
     ]
    }
   ],
   "execution_count": 10
  },
  {
   "metadata": {
    "ExecuteTime": {
     "end_time": "2024-12-17T13:37:13.627119Z",
     "start_time": "2024-12-17T13:37:13.623209Z"
    }
   },
   "cell_type": "code",
   "source": "0.70710678 ** 2 + (-0.70710678) ** 2",
   "id": "5c6d40eda4dfae4a",
   "outputs": [
    {
     "data": {
      "text/plain": [
       "0.9999999966439369"
      ]
     },
     "execution_count": 13,
     "metadata": {},
     "output_type": "execute_result"
    }
   ],
   "execution_count": 13
  }
 ],
 "metadata": {
  "kernelspec": {
   "display_name": "Python 3",
   "language": "python",
   "name": "python3"
  },
  "language_info": {
   "codemirror_mode": {
    "name": "ipython",
    "version": 2
   },
   "file_extension": ".py",
   "mimetype": "text/x-python",
   "name": "python",
   "nbconvert_exporter": "python",
   "pygments_lexer": "ipython2",
   "version": "2.7.6"
  }
 },
 "nbformat": 4,
 "nbformat_minor": 5
}
