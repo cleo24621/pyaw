{
 "cells": [
  {
   "cell_type": "code",
   "id": "initial_id",
   "metadata": {
    "collapsed": true,
    "ExecuteTime": {
     "end_time": "2024-11-05T12:06:16.541734Z",
     "start_time": "2024-11-05T12:06:16.539062Z"
    }
   },
   "source": "import zh1",
   "outputs": [],
   "execution_count": 3
  },
  {
   "metadata": {
    "ExecuteTime": {
     "end_time": "2024-11-05T12:06:17.268772Z",
     "start_time": "2024-11-05T12:06:16.543737Z"
    }
   },
   "cell_type": "code",
   "source": [
    "fp = r\"\\\\Diskstation1\\file_three\\aw\\zh1\\efd\\ulf\\201911\\CSES_01_EFD_1_L02_A1_096790_20191031_233350_20191101_000824_000.h5\"\n",
    "efd = zh1.EFDULF(fp)\n",
    "fp = r\"\\\\Diskstation1\\file_three\\aw\\zh1\\scm\\ulf\\201911\\CSES_01_SCM_1_L02_A2_096790_20191031_233256_20191101_000821_000.h5\"\n",
    "scm = zh1.SCMULF(fp)"
   ],
   "id": "170644337a55c485",
   "outputs": [],
   "execution_count": 4
  },
  {
   "metadata": {
    "ExecuteTime": {
     "end_time": "2024-11-05T12:11:26.406364Z",
     "start_time": "2024-11-05T12:11:26.403106Z"
    }
   },
   "cell_type": "code",
   "source": [
    "start_time = efd.datetime_[0]\n",
    "end_time = efd.datetime_[37]"
   ],
   "id": "cb028543bce48458",
   "outputs": [],
   "execution_count": 5
  },
  {
   "metadata": {
    "ExecuteTime": {
     "end_time": "2024-11-05T12:12:18.871183Z",
     "start_time": "2024-11-05T12:12:18.859353Z"
    }
   },
   "cell_type": "code",
   "source": [
    "A111_W = efd.dfs['A111_W'].set_index(efd.datetime_)\n",
    "A231_W = scm.dfs['A231_W'].set_index(scm.datetime_)"
   ],
   "id": "f5247f93eff9d112",
   "outputs": [],
   "execution_count": 8
  },
  {
   "metadata": {
    "ExecuteTime": {
     "end_time": "2024-11-05T12:13:55.458109Z",
     "start_time": "2024-11-05T12:13:55.454105Z"
    }
   },
   "cell_type": "code",
   "source": [
    "A111_W_clip = A111_W.loc[start_time:end_time]\n",
    "A231_W_clip = A231_W.loc[start_time:end_time]"
   ],
   "id": "6110bf4743406466",
   "outputs": [],
   "execution_count": 11
  },
  {
   "metadata": {
    "ExecuteTime": {
     "end_time": "2024-11-05T12:34:23.098187Z",
     "start_time": "2024-11-05T12:34:23.092530Z"
    }
   },
   "cell_type": "code",
   "source": "A111_W_clip.mean()",
   "id": "37e8abbf196257a2",
   "outputs": [
    {
     "data": {
      "text/plain": [
       "0     -133.09046704518167\n",
       "1     -133.09446134065328\n",
       "2     -133.09875346328081\n",
       "3     -133.10305440896437\n",
       "4     -133.10694851373373\n",
       "              ...        \n",
       "251   -132.91690380949723\n",
       "252   -132.91697596248827\n",
       "253    -132.9166312751017\n",
       "254     -132.916818912092\n",
       "255   -132.91813727272185\n",
       "Length: 256, dtype: float64"
      ]
     },
     "execution_count": 13,
     "metadata": {},
     "output_type": "execute_result"
    }
   ],
   "execution_count": 13
  },
  {
   "metadata": {
    "ExecuteTime": {
     "end_time": "2024-11-05T12:16:23.487639Z",
     "start_time": "2024-11-05T12:16:23.481489Z"
    }
   },
   "cell_type": "code",
   "source": "A111_W_clip.index.diff()",
   "id": "2f53138a8c98ec2f",
   "outputs": [
    {
     "data": {
      "text/plain": [
       "TimedeltaIndex([                     NaT, '0 days 00:00:02.049000',\n",
       "                '0 days 00:00:02.047000', '0 days 00:00:02.049000',\n",
       "                '0 days 00:00:02.048000', '0 days 00:00:02.047000',\n",
       "                '0 days 00:00:02.049000', '0 days 00:00:06.135000',\n",
       "                '0 days 00:00:02.048000', '0 days 00:00:02.049000',\n",
       "                '0 days 00:00:02.047000', '0 days 00:00:02.049000',\n",
       "                '0 days 00:00:02.048000', '0 days 00:00:02.047000',\n",
       "                '0 days 00:00:02.049000', '0 days 00:00:02.048000',\n",
       "                '0 days 00:00:02.047000', '0 days 00:00:02.049000',\n",
       "                '0 days 00:00:02.047000', '0 days 00:00:02.048000',\n",
       "                '0 days 00:00:02.049000', '0 days 00:00:02.047000',\n",
       "                '0 days 00:00:02.049000', '0 days 00:00:02.048000',\n",
       "                '0 days 00:00:02.047000', '0 days 00:00:02.049000',\n",
       "                '0 days 00:00:02.047000', '0 days 00:00:02.048000',\n",
       "                '0 days 00:00:02.049000', '0 days 00:00:02.047000',\n",
       "                '0 days 00:00:02.049000', '0 days 00:00:02.048000',\n",
       "                '0 days 00:00:02.047000', '0 days 00:00:02.049000',\n",
       "                '0 days 00:00:02.048000', '0 days 00:00:02.047000',\n",
       "                '0 days 00:00:02.049000', '0 days 00:00:02.047000'],\n",
       "               dtype='timedelta64[ns]', name=0, freq=None)"
      ]
     },
     "execution_count": 12,
     "metadata": {},
     "output_type": "execute_result"
    }
   ],
   "execution_count": 12
  }
 ],
 "metadata": {
  "kernelspec": {
   "display_name": "Python 3",
   "language": "python",
   "name": "python3"
  },
  "language_info": {
   "codemirror_mode": {
    "name": "ipython",
    "version": 2
   },
   "file_extension": ".py",
   "mimetype": "text/x-python",
   "name": "python",
   "nbconvert_exporter": "python",
   "pygments_lexer": "ipython2",
   "version": "2.7.6"
  }
 },
 "nbformat": 4,
 "nbformat_minor": 5
}
