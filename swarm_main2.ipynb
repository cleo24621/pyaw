{
 "cells": [
  {
   "cell_type": "code",
   "id": "initial_id",
   "metadata": {
    "collapsed": true,
    "ExecuteTime": {
     "end_time": "2024-12-02T12:09:14.479020Z",
     "start_time": "2024-12-02T12:09:12.637172Z"
    }
   },
   "source": [
    "import numpy as np\n",
    "import pandas as pd\n",
    "import matplotlib.pyplot as plt\n",
    "from matplotlib.gridspec import GridSpec\n",
    "\n",
    "from pyaw import swarm, utils_spectral,utils_preprocess\n",
    "from pyaw.swarm import Swarm\n",
    "plt.rcParams['figure.figsize'] = [25,10]\n",
    "\n",
    "import importlib\n",
    "\n",
    "importlib.reload(swarm)\n",
    "importlib.reload(utils_spectral)\n",
    "importlib.reload(utils_preprocess)"
   ],
   "outputs": [
    {
     "data": {
      "text/plain": [
       "<module 'pyaw.utils_preprocess' from 'D:\\\\cleo\\\\master\\\\pyaw\\\\pyaw\\\\utils_preprocess.py'>"
      ]
     },
     "execution_count": 1,
     "metadata": {},
     "output_type": "execute_result"
    }
   ],
   "execution_count": 1
  },
  {
   "metadata": {},
   "cell_type": "code",
   "outputs": [],
   "execution_count": null,
   "source": "",
   "id": "c38f4384ecff455b"
  }
 ],
 "metadata": {
  "kernelspec": {
   "display_name": "Python 3",
   "language": "python",
   "name": "python3"
  },
  "language_info": {
   "codemirror_mode": {
    "name": "ipython",
    "version": 2
   },
   "file_extension": ".py",
   "mimetype": "text/x-python",
   "name": "python",
   "nbconvert_exporter": "python",
   "pygments_lexer": "ipython2",
   "version": "2.7.6"
  }
 },
 "nbformat": 4,
 "nbformat_minor": 5
}
