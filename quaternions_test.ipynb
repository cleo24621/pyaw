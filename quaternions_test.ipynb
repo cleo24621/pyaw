{
 "cells": [
  {
   "cell_type": "code",
   "id": "initial_id",
   "metadata": {
    "collapsed": true,
    "ExecuteTime": {
     "end_time": "2025-01-10T08:58:41.862210Z",
     "start_time": "2025-01-10T08:58:41.760411Z"
    }
   },
   "source": [
    "import numpy as np\n",
    "\n",
    "# Define quaternion multiplication\n",
    "def quaternion_multiply(p, q):\n",
    "    p1,p2,p3,p4 = p\n",
    "    q1,q2,q3,q4 = q\n",
    "    return np.array([\n",
    "        p1*q4+p2*q3-p3*q2+p4*q1,\n",
    "        -p1*q3+p2*q4+p3*q1+p4*q2,\n",
    "        p1*q2-p2*q1+p3*q4+p4*q3,\n",
    "        -p1*q1-p2*q2-p3*q3+p4*q4\n",
    "    ])"
   ],
   "outputs": [],
   "execution_count": 1
  },
  {
   "metadata": {
    "ExecuteTime": {
     "end_time": "2025-01-10T08:58:42.801980Z",
     "start_time": "2025-01-10T08:58:42.797976Z"
    }
   },
   "cell_type": "code",
   "source": [
    "# Rotate vector using quaternion\n",
    "def rotate_vector_by_quaternion(vector, quaternion):\n",
    "    vector_quat = np.array([*vector, 0])  # Convert vector to quaternion form\n",
    "    quaternion_conj = np.array([-quaternion[0], -quaternion[1], -quaternion[2], quaternion[3]])\n",
    "    rotated_quat = quaternion_multiply(\n",
    "        quaternion_multiply(quaternion_conj, vector_quat),\n",
    "        quaternion\n",
    "    )\n",
    "    return rotated_quat[:3]  # Return only the vector part"
   ],
   "id": "63947c54cde08b75",
   "outputs": [],
   "execution_count": 2
  },
  {
   "metadata": {
    "ExecuteTime": {
     "end_time": "2025-01-10T08:58:44.015778Z",
     "start_time": "2025-01-10T08:58:44.009933Z"
    }
   },
   "cell_type": "code",
   "source": "rotate_vector_by_quaternion(np.array([0,0,1]),np.array([0.183, 0.183, 0, 0.966]))",
   "id": "e05f7a939ba1ab43",
   "outputs": [
    {
     "data": {
      "text/plain": [
       "array([-0.353556,  0.353556,  0.866178])"
      ]
     },
     "execution_count": 3,
     "metadata": {},
     "output_type": "execute_result"
    }
   ],
   "execution_count": 3
  }
 ],
 "metadata": {
  "kernelspec": {
   "display_name": "Python 3",
   "language": "python",
   "name": "python3"
  },
  "language_info": {
   "codemirror_mode": {
    "name": "ipython",
    "version": 2
   },
   "file_extension": ".py",
   "mimetype": "text/x-python",
   "name": "python",
   "nbconvert_exporter": "python",
   "pygments_lexer": "ipython2",
   "version": "2.7.6"
  }
 },
 "nbformat": 4,
 "nbformat_minor": 5
}
