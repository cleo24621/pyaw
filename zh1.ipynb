{
 "cells": [
  {
   "cell_type": "code",
   "id": "initial_id",
   "metadata": {
    "collapsed": true,
    "ExecuteTime": {
     "end_time": "2024-11-01T12:20:00.007704Z",
     "start_time": "2024-11-01T12:19:59.187152Z"
    }
   },
   "source": [
    "import h5py\n",
    "import pandas as pd\n",
    "import matplotlib.pyplot as plt"
   ],
   "outputs": [],
   "execution_count": 1
  },
  {
   "metadata": {},
   "cell_type": "markdown",
   "source": "# hpm fgm",
   "id": "635f308b62b02014"
  },
  {
   "metadata": {
    "ExecuteTime": {
     "end_time": "2024-11-01T04:45:29.326705Z",
     "start_time": "2024-11-01T04:45:29.324423Z"
    }
   },
   "cell_type": "code",
   "source": "fp = r\"\\\\Diskstation1\\file_three\\aw\\zh1\\hpm\\fgm\\1111pkl\\fgm_20191111_0.pkl\"",
   "id": "ae637f935517a40c",
   "outputs": [],
   "execution_count": 12
  },
  {
   "metadata": {
    "ExecuteTime": {
     "end_time": "2024-11-01T04:45:29.406384Z",
     "start_time": "2024-11-01T04:45:29.385174Z"
    }
   },
   "cell_type": "code",
   "source": "df = pd.read_pickle(fp)",
   "id": "20e9da8310e1a92d",
   "outputs": [],
   "execution_count": 13
  },
  {
   "metadata": {},
   "cell_type": "markdown",
   "source": "# scm",
   "id": "13caf55abe189d87"
  },
  {
   "metadata": {
    "ExecuteTime": {
     "end_time": "2024-11-01T12:20:02.698036Z",
     "start_time": "2024-11-01T12:20:02.695655Z"
    }
   },
   "cell_type": "code",
   "source": "fp = r\"\\\\Diskstation1\\file_three\\aw\\zh1\\scm\\ulf\\201911\\CSES_01_SCM_1_L02_A2_096790_20191031_233256_20191101_000821_000.h5\"",
   "id": "6491f803ea405afe",
   "outputs": [],
   "execution_count": 4
  },
  {
   "metadata": {
    "ExecuteTime": {
     "end_time": "2024-11-01T12:20:03.456743Z",
     "start_time": "2024-11-01T12:20:03.435734Z"
    }
   },
   "cell_type": "code",
   "source": "print_name(fp)",
   "id": "8092c40e8da3216a",
   "outputs": [
    {
     "name": "stdout",
     "output_type": "stream",
     "text": [
      "A231_P\n",
      "A231_W\n",
      "A232_P\n",
      "A232_W\n",
      "A233_P\n",
      "A233_W\n",
      "ALTITUDE\n",
      "FLAG\n",
      "FREQ\n",
      "GEO_LAT\n",
      "GEO_LON\n",
      "MAG_LAT\n",
      "MAG_LON\n",
      "PhaseX\n",
      "PhaseY\n",
      "PhaseZ\n",
      "UTC_TIME\n",
      "VERSE_TIME\n",
      "WORKMODE\n"
     ]
    }
   ],
   "execution_count": 5
  },
  {
   "metadata": {
    "ExecuteTime": {
     "end_time": "2024-11-01T12:20:05.509729Z",
     "start_time": "2024-11-01T12:20:04.888008Z"
    }
   },
   "cell_type": "code",
   "source": "dfs_scm_ulf = get_dfs(fp)",
   "id": "3b3f173f7c2fb2fe",
   "outputs": [],
   "execution_count": 6
  },
  {
   "metadata": {
    "ExecuteTime": {
     "end_time": "2024-11-01T12:39:03.807386Z",
     "start_time": "2024-11-01T12:39:03.803429Z"
    }
   },
   "cell_type": "code",
   "source": [
    "verse_time = dfs_scm_ulf['VERSE_TIME'].squeeze()\n",
    "datetime_ = pd.to_datetime(verse_time, origin='2009-01-01', unit='ms')\n",
    "start_time = datetime_.iloc[0]"
   ],
   "id": "3721edcd0b3ab854",
   "outputs": [],
   "execution_count": 27
  },
  {
   "metadata": {
    "ExecuteTime": {
     "end_time": "2024-11-01T12:20:56.680696Z",
     "start_time": "2024-11-01T12:20:56.677708Z"
    }
   },
   "cell_type": "code",
   "outputs": [],
   "execution_count": 7,
   "source": "df_A231_W = dfs_scm_ulf['A231_W']",
   "id": "4d66f66e8cabcb05"
  },
  {
   "metadata": {
    "ExecuteTime": {
     "end_time": "2024-11-01T13:34:51.060127Z",
     "start_time": "2024-11-01T13:34:51.031084Z"
    }
   },
   "cell_type": "code",
   "outputs": [
    {
     "data": {
      "text/plain": [
       "2019-10-31 23:33:49.630000      -0.6775233745574951\n",
       "2019-10-31 23:33:49.692500      -0.8249660730361938\n",
       "2019-10-31 23:33:49.755000      -0.9568426609039307\n",
       "2019-10-31 23:33:49.817500      -1.1198070049285889\n",
       "2019-10-31 23:33:49.880000      -1.7610533237457275\n",
       "                                      ...          \n",
       "2019-11-01 00:08:13.317500     0.020880503579974174\n",
       "2019-11-01 00:08:13.380000     0.022948123514652252\n",
       "2019-11-01 00:08:13.442500   -0.0013918267795816064\n",
       "2019-11-01 00:08:13.505000    -0.019318439066410065\n",
       "2019-11-01 00:08:13.567500    -0.019383206963539124\n",
       "Freq: 62500us, Length: 33024, dtype: float64"
      ]
     },
     "execution_count": 36,
     "metadata": {},
     "output_type": "execute_result"
    }
   ],
   "execution_count": 36,
   "source": [
    "def get_resample_signal(df,start_time,original_freq:int=1024,target_freq:int=16):\n",
    "    assert original_freq % target_freq == 0, \"Original frequency must be divisible by target frequency\"\n",
    "    series_ = df.stack().reset_index(drop=True)\n",
    "    resample_factor = int(original_freq / target_freq)\n",
    "    series_resample = series_.iloc[::resample_factor]\n",
    "    interval_s = 1/target_freq  # second\n",
    "    time_index = pd.date_range(start=start_time, periods=len(series_resample), freq=f'{interval_s}s')\n",
    "    series_resample.index = time_index\n",
    "    return series_resample"
   ],
   "id": "5b131dd1cebe3e25"
  },
  {
   "metadata": {},
   "cell_type": "markdown",
   "source": "# efd",
   "id": "536bc9baf88abe36"
  },
  {
   "metadata": {
    "ExecuteTime": {
     "end_time": "2024-11-01T14:03:55.730681Z",
     "start_time": "2024-11-01T14:03:55.727735Z"
    }
   },
   "cell_type": "code",
   "source": "fp = r\"\\\\Diskstation1\\file_three\\aw\\zh1\\efd\\ulf\\201911\\CSES_01_EFD_1_L02_A1_096790_20191031_233350_20191101_000824_000.h5\"",
   "id": "c58bb14b3848abcd",
   "outputs": [],
   "execution_count": 37
  },
  {
   "metadata": {
    "ExecuteTime": {
     "end_time": "2024-11-01T14:03:56.879291Z",
     "start_time": "2024-11-01T14:03:56.864341Z"
    }
   },
   "cell_type": "code",
   "source": "print_name(fp)",
   "id": "67565cf37ddc5f8a",
   "outputs": [
    {
     "name": "stdout",
     "output_type": "stream",
     "text": [
      "A111_P\n",
      "A111_W\n",
      "A112_P\n",
      "A112_W\n",
      "A113_P\n",
      "A113_W\n",
      "ALTITUDE\n",
      "FREQ\n",
      "GEO_LAT\n",
      "GEO_LON\n",
      "MAG_LAT\n",
      "MAG_LON\n",
      "UTC_TIME\n",
      "VERSE_TIME\n",
      "WORKMODE\n"
     ]
    }
   ],
   "execution_count": 38
  },
  {
   "metadata": {
    "ExecuteTime": {
     "end_time": "2024-11-01T14:04:07.120868Z",
     "start_time": "2024-11-01T14:04:07.048284Z"
    }
   },
   "cell_type": "code",
   "source": [
    "dfs_efd_ulf = get_dfs(fp)\n",
    "# utc_time, convert int64 into pd.Timestamp, first convert into str, then convert into pd.Timestamp using 'format' systax. But get an error, it seems not all element convert well, the utc_time may include irregular element."
   ],
   "id": "481b0c7b9e96771c",
   "outputs": [],
   "execution_count": 39
  },
  {
   "metadata": {
    "ExecuteTime": {
     "end_time": "2024-11-01T14:04:11.392649Z",
     "start_time": "2024-11-01T14:04:11.388809Z"
    }
   },
   "cell_type": "code",
   "source": [
    "# Convert 'VERSE_TIME' to pandas Timestamps\n",
    "verse_time = dfs_efd_ulf['VERSE_TIME'].squeeze()\n",
    "datetime_ = pd.to_datetime(verse_time, origin='2009-01-01', unit='ms')"
   ],
   "id": "61d66e3ff866c13f",
   "outputs": [],
   "execution_count": 40
  },
  {
   "metadata": {
    "ExecuteTime": {
     "end_time": "2024-11-01T14:07:08.671382Z",
     "start_time": "2024-11-01T14:07:08.663772Z"
    }
   },
   "cell_type": "code",
   "source": "a11 = get_resample_signal(dfs_efd_ulf['A111_W'],datetime_.iloc[0],original_freq=125,target_freq=25)",
   "id": "2ab015544e8698fd",
   "outputs": [],
   "execution_count": 44
  },
  {
   "metadata": {
    "ExecuteTime": {
     "end_time": "2024-11-01T14:09:41.302489Z",
     "start_time": "2024-11-01T14:09:38.364330Z"
    }
   },
   "cell_type": "code",
   "source": "a11.iloc[-1000:].plot()",
   "id": "a3394fb671835a14",
   "outputs": [
    {
     "data": {
      "text/plain": [
       "<Axes: >"
      ]
     },
     "execution_count": 54,
     "metadata": {},
     "output_type": "execute_result"
    },
    {
     "data": {
      "text/plain": [
       "<Figure size 640x480 with 1 Axes>"
      ],
      "image/png": "[encoded data removed]"
     },
     "metadata": {},
     "output_type": "display_data"
    }
   ],
   "execution_count": 54
  },
  {
   "metadata": {},
   "cell_type": "markdown",
   "source": "# lap",
   "id": "cb66904c090855a0"
  },
  {
   "metadata": {
    "ExecuteTime": {
     "end_time": "2024-11-01T05:47:44.762450Z",
     "start_time": "2024-11-01T05:47:44.759905Z"
    }
   },
   "cell_type": "code",
   "source": "fp = r\"\\\\Diskstation1\\file_three\\aw\\zh1\\lap\\201911\\CSES_01_LAP_1_L02_A3_096790_20191031_233232_20191101_000948_000.h5\"",
   "id": "dcc7ba35d4694d07",
   "outputs": [],
   "execution_count": 61
  },
  {
   "metadata": {
    "ExecuteTime": {
     "end_time": "2024-11-01T05:47:49.392217Z",
     "start_time": "2024-11-01T05:47:49.351987Z"
    }
   },
   "cell_type": "code",
   "source": "print_name(fp)",
   "id": "f86ba779766c6499",
   "outputs": [
    {
     "name": "stdout",
     "output_type": "stream",
     "text": [
      "A311\n",
      "A321\n",
      "ALTITUDE\n",
      "GEO_LAT\n",
      "GEO_LON\n",
      "MAG_LAT\n",
      "MAG_LON\n",
      "UF\n",
      "UP\n",
      "UTC_TIME\n",
      "VERSE_TIME\n",
      "WORKMODE\n"
     ]
    }
   ],
   "execution_count": 62
  },
  {
   "metadata": {
    "ExecuteTime": {
     "end_time": "2024-11-01T05:49:30.285978Z",
     "start_time": "2024-11-01T05:49:30.271503Z"
    }
   },
   "cell_type": "code",
   "source": "dfs_lap = get_dfs(fp)",
   "id": "a3f92077d5b12adf",
   "outputs": [],
   "execution_count": 63
  }
 ],
 "metadata": {
  "kernelspec": {
   "display_name": "Python 3",
   "language": "python",
   "name": "python3"
  },
  "language_info": {
   "codemirror_mode": {
    "name": "ipython",
    "version": 2
   },
   "file_extension": ".py",
   "mimetype": "text/x-python",
   "name": "python",
   "nbconvert_exporter": "python",
   "pygments_lexer": "ipython2",
   "version": "2.7.6"
  }
 },
 "nbformat": 4,
 "nbformat_minor": 5
}
