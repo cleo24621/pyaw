{
 "cells": [
  {
   "metadata": {
    "ExecuteTime": {
     "end_time": "2025-01-01T11:39:38.177248Z",
     "start_time": "2025-01-01T11:39:36.449385Z"
    }
   },
   "cell_type": "code",
   "source": [
    "from pathlib import Path\n",
    "\n",
    "import numpy as np\n",
    "import pandas as pd\n",
    "\n",
    "from pyaw import utils_preprocess\n",
    "from pyaw.swarm import save_SW_EFIx_TCT16, save_SW_MAGx_HR_1B"
   ],
   "id": "9749372537506dfc",
   "outputs": [],
   "execution_count": 1
  },
  {
   "cell_type": "code",
   "id": "initial_id",
   "metadata": {
    "collapsed": true,
    "ExecuteTime": {
     "end_time": "2025-01-01T11:39:38.184307Z",
     "start_time": "2025-01-01T11:39:38.181317Z"
    }
   },
   "source": [
    "start_time = '20160311T064640'\n",
    "end_time = '20160311T064920'\n",
    "satellite = 'A'\n",
    "sdir = Path(\"./data\")\n",
    "sfn_EFIA_TCT16 = Path(\"EFIA_TCT16_20160311T064640_20160311T064920.pkl\")\n",
    "sfn_MAGA_HR_1B = Path(\"MAGA_HR_1B_20160311T064640_20160311T064920.pkl\")"
   ],
   "outputs": [],
   "execution_count": 2
  },
  {
   "metadata": {
    "ExecuteTime": {
     "end_time": "2025-01-01T11:39:38.250495Z",
     "start_time": "2025-01-01T11:39:38.246437Z"
    }
   },
   "cell_type": "code",
   "source": [
    "save_SW_EFIx_TCT16(start_time, end_time, satellite, sdir,\n",
    "                   sfn_EFIA_TCT16)\n",
    "save_SW_MAGx_HR_1B(start_time, end_time, satellite, sdir,\n",
    "                   sfn_MAGA_HR_1B)"
   ],
   "id": "deb5b86e6474e020",
   "outputs": [
    {
     "name": "stdout",
     "output_type": "stream",
     "text": [
      "data\\EFIA_TCT16_20160311T064640_20160311T064920.pkl already exists, skip save.\n",
      "data\\MAGA_HR_1B_20160311T064640_20160311T064920.pkl already exists, skip save.\n"
     ]
    }
   ],
   "execution_count": 3
  },
  {
   "metadata": {},
   "cell_type": "markdown",
   "source": "# read data",
   "id": "1b0f4edff2761413"
  },
  {
   "metadata": {
    "ExecuteTime": {
     "end_time": "2025-01-01T11:39:38.475638Z",
     "start_time": "2025-01-01T11:39:38.255897Z"
    }
   },
   "cell_type": "code",
   "source": [
    "df_e = pd.read_pickle(Path(sdir) / Path(sfn_EFIA_TCT16))\n",
    "df_b = pd.read_pickle(Path(sdir) / Path(sfn_MAGA_HR_1B))\n",
    "timestamps_e = df_e.index.values\n",
    "timestamps_b = df_b.index.values\n",
    "del sdir,sfn_EFIA_TCT16,sfn_MAGA_HR_1B"
   ],
   "id": "357614e7dc7dec3f",
   "outputs": [],
   "execution_count": 4
  },
  {
   "metadata": {},
   "cell_type": "markdown",
   "source": "# to verify the correlation between the satellite-track coordinate system and the S/C coordinate system",
   "id": "9d1a69464e92ee2a"
  },
  {
   "metadata": {},
   "cell_type": "markdown",
   "source": [
    "## IGRF13\n",
    "\n",
    "NEC coordinate system"
   ],
   "id": "3e0e0eb24e2c8c04"
  },
  {
   "metadata": {
    "ExecuteTime": {
     "end_time": "2025-01-01T11:39:38.500523Z",
     "start_time": "2025-01-01T11:39:38.497732Z"
    }
   },
   "cell_type": "code",
   "source": [
    "latitudes = df_e['Latitude'].values\n",
    "longitudes = df_e['Longitude'].values\n",
    "radiuses = df_e['Radius'] / 1e3  # km"
   ],
   "id": "1b673d742213e99d",
   "outputs": [],
   "execution_count": 5
  },
  {
   "metadata": {
    "ExecuteTime": {
     "end_time": "2025-01-01T11:39:46.191301Z",
     "start_time": "2025-01-01T11:39:38.523196Z"
    }
   },
   "cell_type": "code",
   "source": [
    "from igrf13 import igrf_utils\n",
    "# from importlib import reload\n",
    "# reload(igrf_utils)\n",
    "\n",
    "igrf_bn,igrf_be,igrf_bc = igrf_utils.get_igrf13_b_nec(timestamps_e, latitudes, longitudes, radiuses, igrf13shc_path=\"../igrf13/IGRF13.shc\")"
   ],
   "id": "872d24cead655600",
   "outputs": [
    {
     "name": "stdout",
     "output_type": "stream",
     "text": [
      "the whole loop takes time: 7.070488691329956s\n"
     ]
    }
   ],
   "execution_count": 6
  },
  {
   "metadata": {},
   "cell_type": "markdown",
   "source": [
    "### do rotation\n",
    "\n",
    "from NEC coordinate system to S/C coordinate system"
   ],
   "id": "e482ea54d0c1b4c"
  },
  {
   "metadata": {
    "ExecuteTime": {
     "end_time": "2025-01-01T11:39:46.218860Z",
     "start_time": "2025-01-01T11:39:46.215036Z"
    }
   },
   "cell_type": "code",
   "source": [
    "VsatN = df_e['VsatN'].values\n",
    "VsatE = df_e['VsatE'].values\n",
    "rotation_matrix_2d_nec2sc,rotation_matrix_2d_sc2nec = utils_preprocess.get_rotation_matrices_nec2sc_sc2nec(VsatN,VsatE)\n",
    "igrf_b_sc_x,igrf_b_sc_y = utils_preprocess.do_rotation(igrf_bn, igrf_be, rotation_matrix_2d_nec2sc)"
   ],
   "id": "e5c6dde41b2bb06a",
   "outputs": [],
   "execution_count": 7
  },
  {
   "metadata": {},
   "cell_type": "markdown",
   "source": "### compare IGRF magnetic field in S/C coordinate system with the magnetic field in the satellite-track coordinate system",
   "id": "36b560869766e400"
  },
  {
   "metadata": {
    "ExecuteTime": {
     "end_time": "2025-01-01T11:39:46.249614Z",
     "start_time": "2025-01-01T11:39:46.246588Z"
    }
   },
   "cell_type": "code",
   "source": [
    "Bx = df_e['Bx'].values\n",
    "By = df_e['By'].values\n",
    "Bz = df_e['Bz'].values"
   ],
   "id": "bd5918a14faa78eb",
   "outputs": [],
   "execution_count": 8
  },
  {
   "metadata": {
    "ExecuteTime": {
     "end_time": "2025-01-01T11:39:46.285500Z",
     "start_time": "2025-01-01T11:39:46.280323Z"
    }
   },
   "cell_type": "code",
   "source": "igrf_b_sc_x,Bx",
   "id": "c9345f406aa22d24",
   "outputs": [
    {
     "data": {
      "text/plain": [
       "(array([5488.84597893, 5490.36120071, 5491.89705865, ..., 9822.42766948,\n",
       "        9824.24009966, 9826.02530818]),\n",
       " array([-5522.3447, -5523.882 , -5525.445 , ..., -9703.592 , -9704.914 ,\n",
       "        -9706.217 ], dtype=float32))"
      ]
     },
     "execution_count": 9,
     "metadata": {},
     "output_type": "execute_result"
    }
   ],
   "execution_count": 9
  },
  {
   "metadata": {
    "ExecuteTime": {
     "end_time": "2025-01-01T11:39:46.321091Z",
     "start_time": "2025-01-01T11:39:46.317140Z"
    }
   },
   "cell_type": "code",
   "source": "igrf_b_sc_y,By",
   "id": "202bd30a66bb182a",
   "outputs": [
    {
     "data": {
      "text/plain": [
       "(array([2402.89668432, 2403.29288557, 2403.69322004, ..., 3269.95250741,\n",
       "        3270.22039535, 3270.48448059]),\n",
       " array([-2376.3591, -2376.8003, -2377.2485, ..., -3364.922 , -3365.4243,\n",
       "        -3365.9182], dtype=float32))"
      ]
     },
     "execution_count": 10,
     "metadata": {},
     "output_type": "execute_result"
    }
   ],
   "execution_count": 10
  },
  {
   "metadata": {
    "ExecuteTime": {
     "end_time": "2025-01-01T11:39:46.355808Z",
     "start_time": "2025-01-01T11:39:46.351623Z"
    }
   },
   "cell_type": "code",
   "source": "np.array(igrf_bc),Bz",
   "id": "e5e0995211572de7",
   "outputs": [
    {
     "data": {
      "text/plain": [
       "(array([47135.03779735, 47134.75750318, 47134.47364147, ...,\n",
       "        45397.81913387, 45396.67775593, 45395.55296498]),\n",
       " array([47170.96 , 47170.67 , 47170.383, ..., 45423.27 , 45422.24 ,\n",
       "        45421.223], dtype=float32))"
      ]
     },
     "execution_count": 11,
     "metadata": {},
     "output_type": "execute_result"
    }
   ],
   "execution_count": 11
  },
  {
   "metadata": {},
   "cell_type": "markdown",
   "source": "### compare the Bx,By,Bz of EFIx_TCT16 download from VirES with EFIx_TCT16 download from ESA Swarm http database",
   "id": "a91e749aeecf6380"
  },
  {
   "metadata": {
    "ExecuteTime": {
     "end_time": "2025-01-01T11:39:46.396946Z",
     "start_time": "2025-01-01T11:39:46.387342Z"
    }
   },
   "cell_type": "code",
   "source": [
    "import cdflib\n",
    "\n",
    "fp = \"./data/SW_EXPT_EFIA_TCT16_20160311T000000_20160311T065505_0302.cdf\"\n",
    "\n",
    "cdf_file = cdflib.CDF(fp)\n",
    "info = cdf_file.cdf_info()"
   ],
   "id": "85af3599353f50be",
   "outputs": [],
   "execution_count": 12
  },
  {
   "metadata": {
    "ExecuteTime": {
     "end_time": "2025-01-01T11:39:46.433178Z",
     "start_time": "2025-01-01T11:39:46.428173Z"
    }
   },
   "cell_type": "code",
   "source": "cdf_file.varattsget('Bx')",
   "id": "777fa5aee765c576",
   "outputs": [
    {
     "data": {
      "text/plain": [
       "{'FIELDNAM': 'Bx',\n",
       " 'CATDESC': 'Geomagnetic field x component in satellite-track coordinates, derived from the 1 Hz product.',\n",
       " 'Type': 'CDF_FLOAT',\n",
       " 'UNITS': 'nT',\n",
       " 'VAR_TYPE': 'data',\n",
       " 'DEPEND_0': 'Time',\n",
       " 'DISPLAY_TYPE': 'time_series',\n",
       " 'LABLAXIS': 'Bx',\n",
       " 'VALIDMIN': -65000.0,\n",
       " 'VALIDMAX': 65000.0}"
      ]
     },
     "execution_count": 13,
     "metadata": {},
     "output_type": "execute_result"
    }
   ],
   "execution_count": 13
  },
  {
   "metadata": {
    "ExecuteTime": {
     "end_time": "2025-01-01T11:39:46.474551Z",
     "start_time": "2025-01-01T11:39:46.464557Z"
    }
   },
   "cell_type": "code",
   "source": [
    "Bx_local = cdf_file.varget('Bx')\n",
    "timestamps_local = cdf_file.varget('Timestamp')"
   ],
   "id": "985af100caf8b400",
   "outputs": [],
   "execution_count": 14
  },
  {
   "metadata": {
    "ExecuteTime": {
     "end_time": "2025-01-01T11:39:46.513066Z",
     "start_time": "2025-01-01T11:39:46.507629Z"
    }
   },
   "cell_type": "code",
   "source": [
    "import numpy as np\n",
    "\n",
    "# Create a numpy datetime object for Year 0, January 1, and the unit is millisecond\n",
    "ad0_reference = np.datetime64('0000-01-01', 'ms')\n",
    "\n",
    "# Convert the 'Timestamp' to datetime by adding the milliseconds since the epoch_reference\n",
    "# Assuming 'Timestamp' is in milliseconds\n",
    "timestamps_local = ad0_reference + np.array(timestamps_local, dtype='timedelta64[ms]')\n",
    "\n",
    "# Print the first few datetime values\n",
    "print(timestamps_local[:5])"
   ],
   "id": "c2375244eb2164b",
   "outputs": [
    {
     "name": "stdout",
     "output_type": "stream",
     "text": [
      "['2016-03-11T00:00:00.006' '2016-03-11T00:00:00.068'\n",
      " '2016-03-11T00:00:00.131' '2016-03-11T00:00:00.193'\n",
      " '2016-03-11T00:00:00.256']\n"
     ]
    }
   ],
   "execution_count": 15
  },
  {
   "metadata": {
    "ExecuteTime": {
     "end_time": "2025-01-01T11:39:46.553681Z",
     "start_time": "2025-01-01T11:39:46.549677Z"
    }
   },
   "cell_type": "code",
   "source": [
    "mask = np.where(timestamps_local > np.datetime64('2016-03-11T06:47:00'))\n",
    "Bx_local = Bx_local[mask]\n",
    "Bx_local"
   ],
   "id": "143dec8af9c5e8c9",
   "outputs": [
    {
     "data": {
      "text/plain": [
       "array([ -6025.4023,  -6026.9688,  -6028.56  , ..., -18554.49  ,\n",
       "       -18555.754 , -18556.998 ], dtype=float32)"
      ]
     },
     "execution_count": 16,
     "metadata": {},
     "output_type": "execute_result"
    }
   ],
   "execution_count": 16
  },
  {
   "metadata": {},
   "cell_type": "markdown",
   "source": [
    "### conclusion\n",
    "\n",
    "(x,y,z) in satellite-track coordinate system, in S/C coordinate system, it will be (-x,-y,z)"
   ],
   "id": "309dd6aa5689d4be"
  },
  {
   "metadata": {
    "ExecuteTime": {
     "end_time": "2025-01-01T11:39:46.591740Z",
     "start_time": "2025-01-01T11:39:46.589250Z"
    }
   },
   "cell_type": "code",
   "source": "# todo:: according to the doc of tct16, the x axis of the satellite-track coordinate system is in the direction of the satellite velocity that is same to the x axis of the S/C coordinate system??? so why there is a negative sign difference between the x and y components of the magnetic field in the satellite-track coordinate system and the S/C coordinate system?",
   "id": "b9b7def66082bc88",
   "outputs": [],
   "execution_count": 17
  }
 ],
 "metadata": {
  "kernelspec": {
   "display_name": "Python 3",
   "language": "python",
   "name": "python3"
  },
  "language_info": {
   "codemirror_mode": {
    "name": "ipython",
    "version": 2
   },
   "file_extension": ".py",
   "mimetype": "text/x-python",
   "name": "python",
   "nbconvert_exporter": "python",
   "pygments_lexer": "ipython2",
   "version": "2.7.6"
  }
 },
 "nbformat": 4,
 "nbformat_minor": 5
}
