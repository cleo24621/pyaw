{
 "cells": [
  {
   "metadata": {
    "ExecuteTime": {
     "end_time": "2025-01-11T01:21:33.216491Z",
     "start_time": "2025-01-11T01:21:28.718230Z"
    }
   },
   "cell_type": "code",
   "source": [
    "import numpy as np\n",
    "import pandas as pd\n",
    "\n",
    "from pyaw.swarm import rotate_vector_by_quaternion"
   ],
   "id": "8c303006ce30e80b",
   "outputs": [],
   "execution_count": 1
  },
  {
   "metadata": {
    "ExecuteTime": {
     "end_time": "2025-01-11T01:21:39.711059Z",
     "start_time": "2025-01-11T01:21:33.223574Z"
    }
   },
   "cell_type": "code",
   "source": [
    "fps = ['./SW_OPER_MAGB_HR_1B_1349_20140219T020540_20140219T034014.pkl',\n",
    "       './IGRF_SW_OPER_MAGB_HR_1B_1349_20140219T020540_20140219T034014.pkl',\n",
    "       './SW_EXPT_EFIB_TCT16_1349_20140219T020540_20140219T034014.pkl'\n",
    "       ]\n",
    "df_b = pd.read_pickle(fps[0])\n",
    "df_b_igrf = pd.read_pickle(fps[1])\n",
    "df_e = pd.read_pickle(fps[2])"
   ],
   "id": "407dec179823144e",
   "outputs": [],
   "execution_count": 2
  },
  {
   "metadata": {
    "ExecuteTime": {
     "end_time": "2025-01-11T01:21:40.000374Z",
     "start_time": "2025-01-11T01:21:39.983876Z"
    }
   },
   "cell_type": "code",
   "source": [
    "df_b_clip = df_b[['B_NEC','q_NEC_CRF']].iloc[:600]\n",
    "df_b_igrf_clip = df_b_igrf[['B_NEC_IGRF']].iloc[:600]\n",
    "df_e_clip = df_e[['Bx','By','Bz']].iloc[:160]"
   ],
   "id": "17674b183e99bec1",
   "outputs": [],
   "execution_count": 3
  },
  {
   "metadata": {
    "ExecuteTime": {
     "end_time": "2025-01-11T01:21:40.052626Z",
     "start_time": "2025-01-11T01:21:40.035798Z"
    }
   },
   "cell_type": "code",
   "source": [
    "b_sc = []  # b in S/C\n",
    "b_igrf_sc = []  # igrf b in S/C\n",
    "for b_nec,b_nec_igrf,q_NEC_CRF in zip(df_b_clip['B_NEC'].values,df_b_igrf_clip['B_NEC_IGRF'].values,df_b_clip['q_NEC_CRF'].values):\n",
    "    q_CRF_NEC = np.array([-q_NEC_CRF[0],-q_NEC_CRF[1],-q_NEC_CRF[2],q_NEC_CRF[3]])\n",
    "    b_sc.append(rotate_vector_by_quaternion(b_nec, q_CRF_NEC))\n",
    "    b_igrf_sc.append(rotate_vector_by_quaternion(b_nec_igrf, q_CRF_NEC))\n",
    "b_sc = np.array(b_sc)\n",
    "b_igrf_sc = np.array(b_igrf_sc)\n",
    "\n",
    "# b_sc 和 df_e Bx,y,z 有区别，x,z区别达到1e2，y区别达到1e3\n",
    "# b_igrf_sc 和 df_e Bx,y,z 的区别类似\n",
    "# 不看单个分量，而是3个分量求得的模（假设都为直角坐标系），区别依旧明显。\n",
    "# tct 16 (02) 中的bx,y,z是通过1hz产品推导出来的。这个1hz产品是？上述的区别是否是推导产生的？"
   ],
   "id": "3522da178ffdee26",
   "outputs": [],
   "execution_count": 4
  }
 ],
 "metadata": {
  "kernelspec": {
   "display_name": "Python 3",
   "language": "python",
   "name": "python3"
  },
  "language_info": {
   "codemirror_mode": {
    "name": "ipython",
    "version": 2
   },
   "file_extension": ".py",
   "mimetype": "text/x-python",
   "name": "python",
   "nbconvert_exporter": "python",
   "pygments_lexer": "ipython2",
   "version": "2.7.6"
  }
 },
 "nbformat": 4,
 "nbformat_minor": 5
}
