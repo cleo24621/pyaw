{
 "cells": [
  {
   "metadata": {
    "ExecuteTime": {
     "end_time": "2025-01-10T16:00:42.082384Z",
     "start_time": "2025-01-10T16:00:42.078328Z"
    }
   },
   "cell_type": "code",
   "source": [
    "import numpy as np\n",
    "import pandas as pd\n",
    "\n",
    "from pyaw.swarm import rotate_vector_by_quaternion"
   ],
   "id": "8c303006ce30e80b",
   "outputs": [],
   "execution_count": 7
  },
  {
   "metadata": {
    "ExecuteTime": {
     "end_time": "2025-01-10T16:00:49.330563Z",
     "start_time": "2025-01-10T16:00:43.150328Z"
    }
   },
   "cell_type": "code",
   "source": [
    "fps = ['./SW_OPER_MAGB_HR_1B_1349_20140219T020540_20140219T034014.pkl',\n",
    "       './IGRF_SW_OPER_MAGB_HR_1B_1349_20140219T020540_20140219T034014.pkl',\n",
    "       './SW_EXPT_EFIB_TCT16_1349_20140219T020540_20140219T034014.pkl'\n",
    "       ]\n",
    "df_b = pd.read_pickle(fps[0])\n",
    "df_b_igrf = pd.read_pickle(fps[1])\n",
    "df_e = pd.read_pickle(fps[2])"
   ],
   "id": "407dec179823144e",
   "outputs": [],
   "execution_count": 8
  },
  {
   "metadata": {
    "ExecuteTime": {
     "end_time": "2025-01-10T16:01:23.044789Z",
     "start_time": "2025-01-10T16:01:23.013950Z"
    }
   },
   "cell_type": "code",
   "source": [
    "df_b_clip = df_b[['B_NEC','q_NEC_CRF']].iloc[:600]\n",
    "df_b_igrf_clip = df_b_igrf[['B_NEC_IGRF']].iloc[:600]\n",
    "df_e_clip = df_e[['Bx','By','Bz']].iloc[:160]"
   ],
   "id": "17674b183e99bec1",
   "outputs": [],
   "execution_count": 10
  },
  {
   "metadata": {
    "ExecuteTime": {
     "end_time": "2025-01-10T16:02:06.160440Z",
     "start_time": "2025-01-10T16:02:06.144320Z"
    }
   },
   "cell_type": "code",
   "source": [
    "b_sc = []  # b in S/C\n",
    "b_igrf_sc = []  # igrf b in S/C\n",
    "for b_nec,b_nec_igrf,q_NEC_CRF in zip(df_b_clip['B_NEC'].values,df_b_igrf_clip['B_NEC_IGRF'].values,df_b_clip['q_NEC_CRF'].values):\n",
    "    q_CRF_NEC = np.array([-q_NEC_CRF[0],-q_NEC_CRF[1],-q_NEC_CRF[2],q_NEC_CRF[3]])\n",
    "    b_sc.append(rotate_vector_by_quaternion(b_nec, q_CRF_NEC))\n",
    "    b_igrf_sc.append(rotate_vector_by_quaternion(b_nec_igrf, q_CRF_NEC))\n",
    "b_sc = np.array(b_sc)\n",
    "b_igrf_sc = np.array(b_igrf_sc)\n",
    "\n",
    "# b_sc 和 df_e Bx,y,z 有区别，x,z区别达到1e2，y区别达到1e3\n",
    "# b_igrf_sc 和 df_e Bx,y,z 的区别类似"
   ],
   "id": "3522da178ffdee26",
   "outputs": [],
   "execution_count": 11
  }
 ],
 "metadata": {
  "kernelspec": {
   "display_name": "Python 3",
   "language": "python",
   "name": "python3"
  },
  "language_info": {
   "codemirror_mode": {
    "name": "ipython",
    "version": 2
   },
   "file_extension": ".py",
   "mimetype": "text/x-python",
   "name": "python",
   "nbconvert_exporter": "python",
   "pygments_lexer": "ipython2",
   "version": "2.7.6"
  }
 },
 "nbformat": 4,
 "nbformat_minor": 5
}
