{
 "cells": [
  {
   "cell_type": "code",
   "id": "initial_id",
   "metadata": {
    "collapsed": true,
    "ExecuteTime": {
     "end_time": "2025-03-06T15:32:08.359650Z",
     "start_time": "2025-03-06T15:32:06.217646Z"
    }
   },
   "source": [
    "import matplotlib.pyplot as plt\n",
    "import matplotlib.dates as mdates\n",
    "import numpy as np\n",
    "import pandas as pd\n",
    "\n",
    "from pyaw import utils\n",
    "from pyaw.swarm import rotate_vector_by_quaternion"
   ],
   "outputs": [],
   "execution_count": 1
  },
  {
   "metadata": {
    "ExecuteTime": {
     "end_time": "2025-03-06T15:32:08.371478Z",
     "start_time": "2025-03-06T15:32:08.367664Z"
    }
   },
   "cell_type": "code",
   "source": [
    "fps_b = [\n",
    "    r\"\\\\Diskstation1\\file_three\\aw\\swarm\\vires\\SW_OPER_MAGA_HR_1B\\SW_OPER_MAGA_HR_1B_12728_20160301T012924_20160301T030258.pkl\",\n",
    "    r\"\\\\Diskstation1\\file_three\\aw\\swarm\\vires\\SW_OPER_MAGA_HR_1B\\SW_OPER_MAGA_HR_1B_12729_20160301T030258_20160301T043631.pkl\",\n",
    "    r\"\\\\Diskstation1\\file_three\\aw\\swarm\\vires\\SW_OPER_MAGA_HR_1B\\SW_OPER_MAGA_HR_1B_12730_20160301T043631_20160301T061005.pkl\",\n",
    "    r\"\\\\Diskstation1\\file_three\\aw\\swarm\\vires\\SW_OPER_MAGA_HR_1B\\SW_OPER_MAGA_HR_1B_12731_20160301T061005_20160301T074338.pkl\",\n",
    "    r\"\\\\Diskstation1\\file_three\\aw\\swarm\\vires\\SW_OPER_MAGA_HR_1B\\SW_OPER_MAGA_HR_1B_12732_20160301T074338_20160301T091712.pkl\",\n",
    "]\n",
    "\n",
    "fps_igrf = [\n",
    "    r\"\\\\Diskstation1\\file_three\\aw\\swarm\\vires\\IGRF\\SW_OPER_MAGA_HR_1B\\IGRF_SW_OPER_MAGA_HR_1B_12728_20160301T012924_20160301T030258.pkl\",\n",
    "    r\"\\\\Diskstation1\\file_three\\aw\\swarm\\vires\\IGRF\\SW_OPER_MAGA_HR_1B\\IGRF_SW_OPER_MAGA_HR_1B_12729_20160301T030258_20160301T043631.pkl\",\n",
    "    r\"\\\\Diskstation1\\file_three\\aw\\swarm\\vires\\IGRF\\SW_OPER_MAGA_HR_1B\\IGRF_SW_OPER_MAGA_HR_1B_12730_20160301T043631_20160301T061005.pkl\",\n",
    "    r\"\\\\Diskstation1\\file_three\\aw\\swarm\\vires\\IGRF\\SW_OPER_MAGA_HR_1B\\IGRF_SW_OPER_MAGA_HR_1B_12731_20160301T061005_20160301T074338.pkl\",\n",
    "    r\"\\\\Diskstation1\\file_three\\aw\\swarm\\vires\\IGRF\\SW_OPER_MAGA_HR_1B\\IGRF_SW_OPER_MAGA_HR_1B_12732_20160301T074338_20160301T091712.pkl\",\n",
    "]"
   ],
   "id": "b1f86374f0241035",
   "outputs": [],
   "execution_count": 2
  },
  {
   "metadata": {
    "ExecuteTime": {
     "end_time": "2025-03-06T15:35:03.000744Z",
     "start_time": "2025-03-06T15:34:33.945154Z"
    }
   },
   "cell_type": "code",
   "source": [
    "df_b_0 = pd.read_pickle(fps_b[0])\n",
    "df_b_1 = pd.read_pickle(fps_b[1])\n",
    "df_b_2 = pd.read_pickle(fps_b[2])\n",
    "df_b_3 = pd.read_pickle(fps_b[3])\n",
    "df_b_4 = pd.read_pickle(fps_b[4])\n",
    "\n",
    "df_igrf_0 = pd.read_pickle(fps_igrf[0])\n",
    "df_igrf_1 = pd.read_pickle(fps_igrf[1])\n",
    "df_igrf_2 = pd.read_pickle(fps_igrf[2])\n",
    "df_igrf_3 = pd.read_pickle(fps_igrf[3])\n",
    "df_igrf_4 = pd.read_pickle(fps_igrf[4])"
   ],
   "id": "7d95b57753062edc",
   "outputs": [],
   "execution_count": 4
  },
  {
   "metadata": {
    "ExecuteTime": {
     "end_time": "2025-03-06T15:37:12.325275Z",
     "start_time": "2025-03-06T15:37:12.232200Z"
    }
   },
   "cell_type": "code",
   "source": [
    "df_b_0_clip = df_b_0[['B_NEC', 'Longitude', 'Latitude', 'Radius', 'q_NEC_CRF']]\n",
    "df_b_1_clip = df_b_1[['B_NEC', 'Longitude', 'Latitude', 'Radius', 'q_NEC_CRF']]\n",
    "df_b_2_clip = df_b_2[['B_NEC', 'Longitude', 'Latitude', 'Radius', 'q_NEC_CRF']]\n",
    "df_b_3_clip = df_b_3[['B_NEC', 'Longitude', 'Latitude', 'Radius', 'q_NEC_CRF']]\n",
    "df_b_4_clip = df_b_4[['B_NEC', 'Longitude', 'Latitude', 'Radius', 'q_NEC_CRF']]\n",
    "\n",
    "df_igrf_0_clip = df_igrf_0[['B_NEC_IGRF']]\n",
    "df_igrf_1_clip = df_igrf_1[['B_NEC_IGRF']]\n",
    "df_igrf_2_clip = df_igrf_2[['B_NEC_IGRF']]\n",
    "df_igrf_3_clip = df_igrf_3[['B_NEC_IGRF']]\n",
    "df_igrf_4_clip = df_igrf_4[['B_NEC_IGRF']]"
   ],
   "id": "32e06113a0b9e7d3",
   "outputs": [],
   "execution_count": 5
  },
  {
   "metadata": {
    "ExecuteTime": {
     "end_time": "2025-03-06T15:40:01.104982Z",
     "start_time": "2025-03-06T15:39:55.722111Z"
    }
   },
   "cell_type": "code",
   "source": [
    "from swarm import calculate_rotated_vectors\n",
    "\n",
    "b_sc_0,b_igrf_sc_0 = calculate_rotated_vectors(df_b_0_clip['B_NEC'].values, df_igrf_0_clip['B_NEC_IGRF'].values, df_b_0_clip['q_NEC_CRF'].values)\n",
    "\n",
    "by1_0 = b_sc_0[:, 1] - b_igrf_sc_0[:, 1]"
   ],
   "id": "b7a26a25098d1cc4",
   "outputs": [],
   "execution_count": 6
  },
  {
   "metadata": {
    "ExecuteTime": {
     "end_time": "2025-03-06T15:40:40.788861Z",
     "start_time": "2025-03-06T15:40:35.364457Z"
    }
   },
   "cell_type": "code",
   "source": [
    "b_sc_1,b_igrf_sc_1 = calculate_rotated_vectors(df_b_1_clip['B_NEC'].values, df_igrf_1_clip['B_NEC_IGRF'].values, df_b_1_clip['q_NEC_CRF'].values)\n",
    "\n",
    "by1_1 = b_sc_1[:, 1] - b_igrf_sc_1[:, 1]"
   ],
   "id": "b84ccbd15f6dcf5b",
   "outputs": [],
   "execution_count": 7
  },
  {
   "metadata": {
    "ExecuteTime": {
     "end_time": "2025-03-06T15:41:04.196768Z",
     "start_time": "2025-03-06T15:40:58.730617Z"
    }
   },
   "cell_type": "code",
   "source": [
    "b_sc_2,b_igrf_sc_2 = calculate_rotated_vectors(df_b_2_clip['B_NEC'].values, df_igrf_2_clip['B_NEC_IGRF'].values, df_b_2_clip['q_NEC_CRF'].values)\n",
    "\n",
    "by1_2 = b_sc_2[:, 1] - b_igrf_sc_2[:, 1]"
   ],
   "id": "5146a10413ca0f94",
   "outputs": [],
   "execution_count": 8
  },
  {
   "metadata": {
    "ExecuteTime": {
     "end_time": "2025-03-06T15:41:25.413889Z",
     "start_time": "2025-03-06T15:41:19.923394Z"
    }
   },
   "cell_type": "code",
   "source": [
    "b_sc_3,b_igrf_sc_3 = calculate_rotated_vectors(df_b_3_clip['B_NEC'].values, df_igrf_3_clip['B_NEC_IGRF'].values, df_b_3_clip['q_NEC_CRF'].values)\n",
    "\n",
    "by1_3 = b_sc_3[:, 1] - b_igrf_sc_3[:, 1]"
   ],
   "id": "35f6cbf46c76f195",
   "outputs": [],
   "execution_count": 9
  },
  {
   "metadata": {
    "ExecuteTime": {
     "end_time": "2025-03-06T15:41:39.173762Z",
     "start_time": "2025-03-06T15:41:33.680448Z"
    }
   },
   "cell_type": "code",
   "source": [
    "b_sc_4,b_igrf_sc_4 = calculate_rotated_vectors(df_b_4_clip['B_NEC'].values, df_igrf_4_clip['B_NEC_IGRF'].values, df_b_4_clip['q_NEC_CRF'].values)\n",
    "\n",
    "by1_4 = b_sc_4[:, 1] - b_igrf_sc_4[:, 1]"
   ],
   "id": "aa38240dcd31a0ab",
   "outputs": [],
   "execution_count": 10
  },
  {
   "metadata": {},
   "cell_type": "code",
   "outputs": [],
   "execution_count": null,
   "source": "",
   "id": "133958cfd8ec1286"
  }
 ],
 "metadata": {
  "kernelspec": {
   "display_name": "Python 3",
   "language": "python",
   "name": "python3"
  },
  "language_info": {
   "codemirror_mode": {
    "name": "ipython",
    "version": 2
   },
   "file_extension": ".py",
   "mimetype": "text/x-python",
   "name": "python",
   "nbconvert_exporter": "python",
   "pygments_lexer": "ipython2",
   "version": "2.7.6"
  }
 },
 "nbformat": 4,
 "nbformat_minor": 5
}
