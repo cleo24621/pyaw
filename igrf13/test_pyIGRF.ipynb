{
 "cells": [
  {
   "metadata": {
    "ExecuteTime": {
     "end_time": "2024-12-21T02:39:10.237820Z",
     "start_time": "2024-12-21T02:39:05.922569Z"
    }
   },
   "cell_type": "code",
   "source": [
    "import numpy as np\n",
    "import cdflib\n",
    "import pandas as pd\n",
    "\n",
    "fp = r\"D:\\cleo\\master\\pyaw\\data\\Swarm\\SW_EFIx_TCT16\\B\\SW_EXPT_EFIB_TCT16_20140219T000000_20140219T235959_0302.cdf\"\n",
    "cdf_file = cdflib.CDF(fp)\n",
    "info = cdf_file.cdf_info()\n",
    "\n",
    "Timestamp = cdf_file.varget('Timestamp')\n",
    "# Create a numpy datetime object for Year 0, January 1, and the unit is millisecond\n",
    "ad0_reference = np.datetime64('0000-01-01', 'ms')\n",
    "# Convert the 'Timestamp' to datetime by adding the milliseconds since the epoch_reference\n",
    "# Assuming 'Timestamp' is in milliseconds\n",
    "datetime_values = ad0_reference + np.array(Timestamp, dtype='timedelta64[ms]')\n",
    "Timestamp_pd = np.array([pd.Timestamp(datetime_value) for datetime_value in datetime_values])\n",
    "\n",
    "Latitude = cdf_file.varget('Latitude')\n",
    "Longitude = cdf_file.varget('Longitude')\n",
    "Radius = cdf_file.varget('Radius')"
   ],
   "id": "d92893a14219e552",
   "outputs": [],
   "execution_count": 1
  },
  {
   "metadata": {
    "ExecuteTime": {
     "end_time": "2024-12-21T02:40:09.224092Z",
     "start_time": "2024-12-21T02:40:07.251188Z"
    }
   },
   "cell_type": "code",
   "source": [
    "\n",
    "from igrf13 import igrf\n",
    "\n",
    "Bn,Be,Bc = igrf.get_B_IGRF_NEC(Timestamp_pd[:10], Latitude[:10], Longitude[:10], Radius[:10] / 1e3, print_=True)\n",
    "df = pd.DataFrame(data={'IGRF_B_N': Bn, 'IGRF_B_E': Be, 'IGRF_B_C': Bc})\n",
    "# save_path = \"igrf_test.pkl\"\n",
    "# if os.path.exists(save_path):\n",
    "#     print(\"File exists\")\n",
    "# else:\n",
    "#     df.to_pickle(save_path)"
   ],
   "id": "353eb259c4ac592c",
   "outputs": [
    {
     "name": "stdout",
     "output_type": "stream",
     "text": [
      "North component (X)     :  15302.7 nT\n",
      "East component (Y)      :  5122.5 nT\n",
      "Vertical component (Z)  : -26146.8 nT\n",
      "North component (X)     :  15302.3 nT\n",
      "East component (Y)      :  5123.0 nT\n",
      "Vertical component (Z)  : -26149.1 nT\n",
      "North component (X)     :  15302.0 nT\n",
      "East component (Y)      :  5123.4 nT\n",
      "Vertical component (Z)  : -26151.5 nT\n",
      "North component (X)     :  15301.7 nT\n",
      "East component (Y)      :  5123.9 nT\n",
      "Vertical component (Z)  : -26153.8 nT\n",
      "North component (X)     :  15301.3 nT\n",
      "East component (Y)      :  5124.3 nT\n",
      "Vertical component (Z)  : -26156.1 nT\n",
      "North component (X)     :  15301.0 nT\n",
      "East component (Y)      :  5124.8 nT\n",
      "Vertical component (Z)  : -26158.4 nT\n",
      "North component (X)     :  15300.6 nT\n",
      "East component (Y)      :  5125.2 nT\n",
      "Vertical component (Z)  : -26160.7 nT\n",
      "North component (X)     :  15300.3 nT\n",
      "East component (Y)      :  5125.7 nT\n",
      "Vertical component (Z)  : -26163.1 nT\n",
      "North component (X)     :  15300.0 nT\n",
      "East component (Y)      :  5126.1 nT\n",
      "Vertical component (Z)  : -26165.4 nT\n",
      "North component (X)     :  15299.6 nT\n",
      "East component (Y)      :  5126.5 nT\n",
      "Vertical component (Z)  : -26167.7 nT\n"
     ]
    }
   ],
   "execution_count": 3
  }
 ],
 "metadata": {
  "kernelspec": {
   "display_name": "Python 3",
   "language": "python",
   "name": "python3"
  },
  "language_info": {
   "codemirror_mode": {
    "name": "ipython",
    "version": 2
   },
   "file_extension": ".py",
   "mimetype": "text/x-python",
   "name": "python",
   "nbconvert_exporter": "python",
   "pygments_lexer": "ipython2",
   "version": "2.7.6"
  }
 },
 "nbformat": 4,
 "nbformat_minor": 5
}
