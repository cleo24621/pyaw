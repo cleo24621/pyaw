{
 "cells": [
  {
   "cell_type": "code",
   "id": "initial_id",
   "metadata": {
    "collapsed": true,
    "ExecuteTime": {
     "end_time": "2024-12-22T00:09:24.325031Z",
     "start_time": "2024-12-22T00:09:24.319023Z"
    }
   },
   "source": "fp = r\"D:\\cleo\\master\\pyaw\\data\\Swarm\\SW_MAGx_HR_1B\\B\\SW_OPER_MAGB_HR_1B_20140219T000000_20140219T235959_0602_MDR_MAG_HR.cdf\"",
   "outputs": [],
   "execution_count": 1
  },
  {
   "metadata": {
    "ExecuteTime": {
     "end_time": "2024-12-22T00:09:24.438560Z",
     "start_time": "2024-12-22T00:09:24.333544Z"
    }
   },
   "cell_type": "code",
   "source": [
    "import cdflib\n",
    "\n",
    "cdf_file = cdflib.CDF(fp)\n",
    "info = cdf_file.cdf_info()"
   ],
   "id": "fed33ae25fbb371b",
   "outputs": [],
   "execution_count": 2
  },
  {
   "metadata": {},
   "cell_type": "markdown",
   "source": "# b vfm",
   "id": "2590ac30f39e3fe4"
  },
  {
   "metadata": {
    "ExecuteTime": {
     "end_time": "2024-12-22T00:10:25.688316Z",
     "start_time": "2024-12-22T00:10:25.681657Z"
    }
   },
   "cell_type": "code",
   "source": "cdf_file.varattsget('B_VFM')",
   "id": "efead914fd385917",
   "outputs": [
    {
     "data": {
      "text/plain": [
       "{'DESCRIPTION': 'Magnetic field vector, VFM frame', 'UNITS': 'nT'}"
      ]
     },
     "execution_count": 4,
     "metadata": {},
     "output_type": "execute_result"
    }
   ],
   "execution_count": 4
  },
  {
   "metadata": {
    "ExecuteTime": {
     "end_time": "2024-12-22T00:10:58.710566Z",
     "start_time": "2024-12-22T00:10:58.260934Z"
    }
   },
   "cell_type": "code",
   "source": "B_VFM = cdf_file.varget('B_VFM')",
   "id": "1a777a2c53248e44",
   "outputs": [],
   "execution_count": 5
  },
  {
   "metadata": {},
   "cell_type": "markdown",
   "source": "# b nec",
   "id": "f3286f1f0530955c"
  },
  {
   "metadata": {
    "ExecuteTime": {
     "end_time": "2024-12-22T00:11:31.670002Z",
     "start_time": "2024-12-22T00:11:31.664814Z"
    }
   },
   "cell_type": "code",
   "source": "cdf_file.varattsget('B_NEC')",
   "id": "fca2fab7492bdf6a",
   "outputs": [
    {
     "data": {
      "text/plain": [
       "{'DESCRIPTION': 'Magnetic field vector, NEC frame', 'UNITS': 'nT'}"
      ]
     },
     "execution_count": 6,
     "metadata": {},
     "output_type": "execute_result"
    }
   ],
   "execution_count": 6
  },
  {
   "metadata": {
    "ExecuteTime": {
     "end_time": "2024-12-22T00:11:36.390402Z",
     "start_time": "2024-12-22T00:11:35.936752Z"
    }
   },
   "cell_type": "code",
   "source": "B_NEC = cdf_file.varget('B_NEC')",
   "id": "b38cd6c95803c122",
   "outputs": [],
   "execution_count": 7
  },
  {
   "metadata": {},
   "cell_type": "markdown",
   "source": "# timestamps",
   "id": "fe9f75660d4e7aaa"
  },
  {
   "metadata": {
    "ExecuteTime": {
     "end_time": "2024-12-22T00:12:03.303736Z",
     "start_time": "2024-12-22T00:12:03.297730Z"
    }
   },
   "cell_type": "code",
   "source": "cdf_file.varattsget('Timestamp')",
   "id": "61b557baf39bc7b2",
   "outputs": [
    {
     "data": {
      "text/plain": [
       "{'DESCRIPTION': 'Time stamp', 'UNITS': '-'}"
      ]
     },
     "execution_count": 8,
     "metadata": {},
     "output_type": "execute_result"
    }
   ],
   "execution_count": 8
  },
  {
   "metadata": {
    "ExecuteTime": {
     "end_time": "2024-12-22T00:12:46.213528Z",
     "start_time": "2024-12-22T00:12:46.122358Z"
    }
   },
   "cell_type": "code",
   "source": "Timestamp = cdf_file.varget('Timestamp')",
   "id": "d8248319623c2b94",
   "outputs": [],
   "execution_count": 10
  },
  {
   "metadata": {
    "ExecuteTime": {
     "end_time": "2024-12-22T00:13:05.623275Z",
     "start_time": "2024-12-22T00:13:05.600424Z"
    }
   },
   "cell_type": "code",
   "source": [
    "import numpy as np\n",
    "\n",
    "# Create a numpy datetime object for Year 0, January 1, and the unit is millisecond\n",
    "ad0_reference = np.datetime64('0000-01-01', 'ms')\n",
    "\n",
    "# Convert the 'Timestamp' to datetime by adding the milliseconds since the epoch_reference\n",
    "# Assuming 'Timestamp' is in milliseconds\n",
    "timestamps = ad0_reference + np.array(Timestamp, dtype='timedelta64[ms]')\n",
    "\n",
    "# Print the first few datetime values\n",
    "print(timestamps[:5])"
   ],
   "id": "918472d516d1bb",
   "outputs": [
    {
     "name": "stdout",
     "output_type": "stream",
     "text": [
      "['2014-02-19T00:00:00.012' '2014-02-19T00:00:00.032'\n",
      " '2014-02-19T00:00:00.052' '2014-02-19T00:00:00.072'\n",
      " '2014-02-19T00:00:00.092']\n"
     ]
    }
   ],
   "execution_count": 11
  }
 ],
 "metadata": {
  "kernelspec": {
   "display_name": "Python 3",
   "language": "python",
   "name": "python3"
  },
  "language_info": {
   "codemirror_mode": {
    "name": "ipython",
    "version": 2
   },
   "file_extension": ".py",
   "mimetype": "text/x-python",
   "name": "python",
   "nbconvert_exporter": "python",
   "pygments_lexer": "ipython2",
   "version": "2.7.6"
  }
 },
 "nbformat": 4,
 "nbformat_minor": 5
}
