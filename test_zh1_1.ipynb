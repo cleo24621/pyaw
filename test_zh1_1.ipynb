{
 "cells": [
  {
   "metadata": {
    "collapsed": true,
    "ExecuteTime": {
     "end_time": "2024-11-05T11:29:18.812499Z",
     "start_time": "2024-11-05T11:29:18.425461Z"
    }
   },
   "cell_type": "code",
   "source": [
    "import matplotlib.pyplot as plt\n",
    "import numpy as np\n",
    "from pandas import Timedelta\n",
    "from scipy.signal import resample\n",
    "\n",
    "import pyaw.zh1\n",
    "import zh1"
   ],
   "id": "24a71a47dddc7427",
   "outputs": [],
   "execution_count": 4
  },
  {
   "metadata": {
    "ExecuteTime": {
     "end_time": "2024-11-05T11:29:18.912479Z",
     "start_time": "2024-11-05T11:29:18.826078Z"
    }
   },
   "cell_type": "code",
   "source": [
    "fp = r\"\\\\Diskstation1\\file_three\\aw\\zh1\\efd\\ulf\\201911\\CSES_01_EFD_1_L02_A1_097081_20191102_220838_20191102_224323_000.h5\"\n",
    "efd = pyaw.zh1.EFDULF(fp)"
   ],
   "id": "814fb01a35a09b39",
   "outputs": [],
   "execution_count": 5
  },
  {
   "metadata": {
    "ExecuteTime": {
     "end_time": "2024-11-05T11:29:18.924777Z",
     "start_time": "2024-11-05T11:29:18.922033Z"
    }
   },
   "cell_type": "code",
   "source": "A111_W = efd.dfs['A111_W'].iloc[0,:]",
   "id": "10f980e6651d7594",
   "outputs": [],
   "execution_count": 6
  },
  {
   "metadata": {
    "ExecuteTime": {
     "end_time": "2024-11-05T11:29:18.956889Z",
     "start_time": "2024-11-05T11:29:18.953805Z"
    }
   },
   "cell_type": "code",
   "source": [
    "# Example original signal: a 5-second sine wave at 1024 Hz sampling rate\n",
    "original_sampling_rate = 125  # Hz\n",
    "original_signal = A111_W"
   ],
   "id": "88c735d756b0b52",
   "outputs": [],
   "execution_count": 7
  },
  {
   "metadata": {
    "ExecuteTime": {
     "end_time": "2024-11-05T11:29:18.972389Z",
     "start_time": "2024-11-05T11:29:18.970042Z"
    }
   },
   "cell_type": "code",
   "source": [
    "# New sampling rate\n",
    "new_sampling_rate = 25  # Hz"
   ],
   "id": "fa270fcc1ef86162",
   "outputs": [],
   "execution_count": 8
  },
  {
   "metadata": {
    "ExecuteTime": {
     "end_time": "2024-11-05T11:29:18.997220Z",
     "start_time": "2024-11-05T11:29:18.994294Z"
    }
   },
   "cell_type": "code",
   "source": [
    "# Calculate the duration of the signal\n",
    "duration = len(original_signal) / original_sampling_rate  # in seconds"
   ],
   "id": "56ac2613254a9e76",
   "outputs": [],
   "execution_count": 9
  },
  {
   "metadata": {
    "ExecuteTime": {
     "end_time": "2024-11-05T11:29:19.021648Z",
     "start_time": "2024-11-05T11:29:19.019180Z"
    }
   },
   "cell_type": "code",
   "source": [
    "# Calculate the number of samples for the new sampling rate\n",
    "num_samples = int(duration * new_sampling_rate)"
   ],
   "id": "6b9e30e0707d78f8",
   "outputs": [],
   "execution_count": 10
  },
  {
   "metadata": {
    "ExecuteTime": {
     "end_time": "2024-11-05T11:29:19.046199Z",
     "start_time": "2024-11-05T11:29:19.043047Z"
    }
   },
   "cell_type": "code",
   "source": [
    "# Resample the signal\n",
    "downsampled_signal = resample(original_signal, num_samples)"
   ],
   "id": "c8c999d1b01c03ca",
   "outputs": [],
   "execution_count": 11
  },
  {
   "metadata": {
    "ExecuteTime": {
     "end_time": "2024-11-05T11:29:19.774346Z",
     "start_time": "2024-11-05T11:29:19.086683Z"
    }
   },
   "cell_type": "code",
   "source": [
    "# Verify the new sampling rate\n",
    "new_duration = len(downsampled_signal) / new_sampling_rate\n",
    "assert np.isclose(duration, new_duration), \"Duration mismatch after resampling.\""
   ],
   "id": "6ecbe184b756a443",
   "outputs": [
    {
     "ename": "AssertionError",
     "evalue": "Duration mismatch after resampling.",
     "output_type": "error",
     "traceback": [
      "\u001B[1;31m---------------------------------------------------------------------------\u001B[0m",
      "\u001B[1;31mAssertionError\u001B[0m                            Traceback (most recent call last)",
      "Cell \u001B[1;32mIn[12], line 3\u001B[0m\n\u001B[0;32m      1\u001B[0m \u001B[38;5;66;03m# Verify the new sampling rate\u001B[39;00m\n\u001B[0;32m      2\u001B[0m new_duration \u001B[38;5;241m=\u001B[39m \u001B[38;5;28mlen\u001B[39m(downsampled_signal) \u001B[38;5;241m/\u001B[39m new_sampling_rate\n\u001B[1;32m----> 3\u001B[0m \u001B[38;5;28;01massert\u001B[39;00m np\u001B[38;5;241m.\u001B[39misclose(duration, new_duration), \u001B[38;5;124m\"\u001B[39m\u001B[38;5;124mDuration mismatch after resampling.\u001B[39m\u001B[38;5;124m\"\u001B[39m\n",
      "\u001B[1;31mAssertionError\u001B[0m: Duration mismatch after resampling."
     ]
    }
   ],
   "execution_count": 12
  },
  {
   "metadata": {},
   "cell_type": "code",
   "outputs": [],
   "execution_count": null,
   "source": [
    "print(f\"Original signal length: {len(original_signal)} samples\")\n",
    "print(f\"Downsampled signal length: {len(downsampled_signal)} samples\")"
   ],
   "id": "20f858ae19beb2b8"
  }
 ],
 "metadata": {
  "kernelspec": {
   "display_name": "Python 3",
   "language": "python",
   "name": "python3"
  },
  "language_info": {
   "codemirror_mode": {
    "name": "ipython",
    "version": 2
   },
   "file_extension": ".py",
   "mimetype": "text/x-python",
   "name": "python",
   "nbconvert_exporter": "python",
   "pygments_lexer": "ipython2",
   "version": "2.7.6"
  }
 },
 "nbformat": 4,
 "nbformat_minor": 5
}
