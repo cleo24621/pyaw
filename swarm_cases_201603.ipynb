{
 "cells": [
  {
   "metadata": {
    "ExecuteTime": {
     "end_time": "2025-02-26T06:57:28.003803Z",
     "start_time": "2025-02-26T06:57:26.140233Z"
    }
   },
   "cell_type": "code",
   "source": [
    "import matplotlib.pyplot as plt\n",
    "import numpy as np\n",
    "import pandas as pd\n",
    "from scipy.signal import spectrogram\n",
    "\n",
    "from pyaw import utils\n",
    "from pyaw.swarm import rotate_vector_by_quaternion\n",
    "\n",
    "%load_ext watermark\n",
    "%watermark -i -v -p matplotlib,numpy,pandas,scipy"
   ],
   "id": "bfc86fef03b4b926",
   "outputs": [
    {
     "name": "stdout",
     "output_type": "stream",
     "text": [
      "Python implementation: CPython\n",
      "Python version       : 3.11.4\n",
      "IPython version      : 8.27.0\n",
      "\n",
      "matplotlib: 3.8.0\n",
      "numpy     : 1.25.2\n",
      "pandas    : 2.2.2\n",
      "scipy     : 1.13.1\n",
      "\n"
     ]
    }
   ],
   "execution_count": 1
  },
  {
   "cell_type": "code",
   "id": "initial_id",
   "metadata": {
    "collapsed": true,
    "ExecuteTime": {
     "end_time": "2025-02-26T07:01:16.752561Z",
     "start_time": "2025-02-26T07:01:16.748558Z"
    }
   },
   "source": [
    "fps = [r'D:\\cleo\\master\\pyaw\\data\\Swarm\\vires\\SW_OPER_MAGA_HR_1B\\SW_OPER_MAGA_HR_1B_12728_20160301T012924_20160301T030258.pkl',\n",
    "       r\"\\\\Diskstation1\\file_three\\aw\\swarm\\vires\\AHY9U3~9\\SW_OPER_MAGA_HR_1B\\aux_SW_OPER_MAGA_HR_1B_12728_20160301T012924_20160301T030258.pkl\",\n",
    "       r\"\\\\Diskstation1\\file_three\\aw\\swarm\\vires\\IGRF\\SW_OPER_MAGA_HR_1B\\IGRF_SW_OPER_MAGA_HR_1B_12728_20160301T012924_20160301T030258.pkl\",\n",
    "       r\"\\\\Diskstation1\\file_three\\aw\\swarm\\vires\\SW_EXPT_EFIA_TCT16\\SW_EXPT_EFIA_TCT16_12728_20160301T012924_20160301T030258.pkl\"]"
   ],
   "outputs": [],
   "execution_count": 2
  },
  {
   "metadata": {
    "ExecuteTime": {
     "end_time": "2025-02-26T07:01:24.036484Z",
     "start_time": "2025-02-26T07:01:16.796174Z"
    }
   },
   "cell_type": "code",
   "source": [
    "df_b = pd.read_pickle(fps[0])\n",
    "# df_b_aux = pd.read_pickle(fps[1])\n",
    "df_b_IGRF = pd.read_pickle(fps[2])\n",
    "df_e = pd.read_pickle(fps[3])"
   ],
   "id": "9bcf3b2c182ff9ed",
   "outputs": [],
   "execution_count": 3
  },
  {
   "metadata": {
    "ExecuteTime": {
     "end_time": "2025-02-26T07:01:24.061583Z",
     "start_time": "2025-02-26T07:01:24.039499Z"
    }
   },
   "cell_type": "code",
   "source": [
    "df_b_clip = df_b[['B_NEC', 'Longitude', 'Latitude', 'Radius', 'q_NEC_CRF']]\n",
    "# df_b_aux_clip = df_b_aux[['QDLat', 'QDLon', 'MLT']]\n",
    "df_b_IGRF_clip = df_b_IGRF[['B_NEC_IGRF']]\n",
    "df_e_clip = df_e[['Longitude', 'Latitude', 'Radius', 'VsatE', 'VsatN', 'Ehy', 'Ehx']]"
   ],
   "id": "8239addba2861431",
   "outputs": [],
   "execution_count": 4
  },
  {
   "metadata": {
    "ExecuteTime": {
     "end_time": "2025-02-26T07:01:24.114754Z",
     "start_time": "2025-02-26T07:01:24.085406Z"
    }
   },
   "cell_type": "code",
   "source": [
    "st = '20160311T064000'\n",
    "et = '20160311T065000'\n",
    "df_b_clip = df_b_clip.loc[pd.Timestamp(st):pd.Timestamp(et)]\n",
    "# df_b_aux_clip = df_b_aux_clip.loc[pd.Timestamp(st):pd.Timestamp(et)]\n",
    "df_b_IGRF_clip = df_b_IGRF_clip.loc[pd.Timestamp(st):pd.Timestamp(et)]\n",
    "df_e_clip = df_e_clip.loc[pd.Timestamp(st):pd.Timestamp(et)]\n",
    "\n",
    "np.all(np.equal(df_b_clip.index.values, df_b_IGRF_clip.index.values))"
   ],
   "id": "6606436a9468ff12",
   "outputs": [
    {
     "data": {
      "text/plain": [
       "True"
      ]
     },
     "execution_count": 5,
     "metadata": {},
     "output_type": "execute_result"
    }
   ],
   "execution_count": 5
  },
  {
   "metadata": {
    "ExecuteTime": {
     "end_time": "2025-02-26T07:01:24.262549Z",
     "start_time": "2025-02-26T07:01:24.134802Z"
    }
   },
   "cell_type": "code",
   "source": [
    "ehx = df_e_clip['Ehx'].values\n",
    "\n",
    "plt.plot(df_e_clip.index.values, ehx)\n",
    "plt.show()"
   ],
   "id": "c94eab02a314d858",
   "outputs": [
    {
     "data": {
      "text/plain": [
       "<Figure size 640x480 with 1 Axes>"
      ],
      "image/png": "[encoded data removed]"
     },
     "metadata": {},
     "output_type": "display_data"
    }
   ],
   "execution_count": 6
  }
 ],
 "metadata": {
  "kernelspec": {
   "display_name": "Python 3",
   "language": "python",
   "name": "python3"
  },
  "language_info": {
   "codemirror_mode": {
    "name": "ipython",
    "version": 2
   },
   "file_extension": ".py",
   "mimetype": "text/x-python",
   "name": "python",
   "nbconvert_exporter": "python",
   "pygments_lexer": "ipython2",
   "version": "2.7.6"
  }
 },
 "nbformat": 4,
 "nbformat_minor": 5
}
