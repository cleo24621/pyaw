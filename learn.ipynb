{
 "cells": [
  {
   "cell_type": "code",
   "id": "initial_id",
   "metadata": {
    "collapsed": true,
    "ExecuteTime": {
     "end_time": "2024-12-11T15:35:42.429235Z",
     "start_time": "2024-12-11T15:35:42.345725Z"
    }
   },
   "source": "import numpy as np",
   "outputs": [],
   "execution_count": 1
  },
  {
   "metadata": {
    "ExecuteTime": {
     "end_time": "2024-12-11T15:35:53.351315Z",
     "start_time": "2024-12-11T15:35:53.344980Z"
    }
   },
   "cell_type": "code",
   "source": "np.arange(4)",
   "id": "28f1eb13c37f9570",
   "outputs": [
    {
     "data": {
      "text/plain": [
       "array([0, 1, 2, 3])"
      ]
     },
     "execution_count": 2,
     "metadata": {},
     "output_type": "execute_result"
    }
   ],
   "execution_count": 2
  },
  {
   "metadata": {
    "ExecuteTime": {
     "end_time": "2024-12-11T15:45:36.524833Z",
     "start_time": "2024-12-11T15:45:36.520797Z"
    }
   },
   "cell_type": "code",
   "source": "np.linspace(0,51,5)",
   "id": "b493fa3079ec05d4",
   "outputs": [
    {
     "data": {
      "text/plain": [
       "array([ 0.  , 12.75, 25.5 , 38.25, 51.  ])"
      ]
     },
     "execution_count": 4,
     "metadata": {},
     "output_type": "execute_result"
    }
   ],
   "execution_count": 4
  }
 ],
 "metadata": {
  "kernelspec": {
   "display_name": "Python 3",
   "language": "python",
   "name": "python3"
  },
  "language_info": {
   "codemirror_mode": {
    "name": "ipython",
    "version": 2
   },
   "file_extension": ".py",
   "mimetype": "text/x-python",
   "name": "python",
   "nbconvert_exporter": "python",
   "pygments_lexer": "ipython2",
   "version": "2.7.6"
  }
 },
 "nbformat": 4,
 "nbformat_minor": 5
}
