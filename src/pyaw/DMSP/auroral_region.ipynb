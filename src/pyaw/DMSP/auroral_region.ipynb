{
 "cells": [
  {
   "metadata": {},
   "cell_type": "code",
   "outputs": [],
   "execution_count": null,
   "source": [
    "import os\n",
    "import importlib\n",
    "\n",
    "from DMSP import funcs\n",
    "\n",
    "importlib.reload(funcs)"
   ],
   "id": "c9f8ceb7ac2569d2"
  },
  {
   "metadata": {},
   "cell_type": "code",
   "outputs": [],
   "execution_count": null,
   "source": [
    "dir = r\"G:\\master\\DMSP\\data\\2014\\f16\\ssm\"\n",
    "fn = \"dmsp-f16_ssm_magnetometer_20140101_v1.0.4.cdf\"\n",
    "fp = os.path.join(dir,fn)\n",
    "ssm_data = funcs.process_ssm_data(fp)"
   ],
   "id": "8a06d4bb4758345c"
  },
  {
   "metadata": {},
   "cell_type": "code",
   "outputs": [],
   "execution_count": null,
   "source": [
    "dir = r\"G:\\master\\DMSP\\data\\2014\\f16\\ssies3\"\n",
    "fn = \"dmsp-f16_ssies-3_thermal-plasma_201401011006_v01.cdf\"\n",
    "fp = os.path.join(dir,fn)\n",
    "ssies3_data = funcs.process_ssies3_data(fp)"
   ],
   "id": "5b274a319e87c292"
  },
  {
   "metadata": {},
   "cell_type": "code",
   "outputs": [],
   "execution_count": null,
   "source": "ssm_data = funcs.clip_ssm_by_ssies3(ssies3_data, ssm_data)",
   "id": "c2051ff5b8974cf8"
  },
  {
   "metadata": {},
   "cell_type": "code",
   "outputs": [],
   "execution_count": null,
   "source": "ssm_data['AURORAL_REGION'].plot()",
   "id": "4b3d994589d3ff06"
  }
 ],
 "metadata": {
  "kernelspec": {
   "display_name": "Python 3",
   "language": "python",
   "name": "python3"
  },
  "language_info": {
   "codemirror_mode": {
    "name": "ipython",
    "version": 2
   },
   "file_extension": ".py",
   "mimetype": "text/x-python",
   "name": "python",
   "nbconvert_exporter": "python",
   "pygments_lexer": "ipython2",
   "version": "2.7.6"
  }
 },
 "nbformat": 4,
 "nbformat_minor": 5
}
