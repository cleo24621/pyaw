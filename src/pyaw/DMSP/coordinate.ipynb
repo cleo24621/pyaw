{
 "cells": [
  {
   "cell_type": "code",
   "execution_count": null,
   "id": "initial_id",
   "metadata": {
    "collapsed": true
   },
   "outputs": [],
   "source": [
    ""
   ]
  },
  {
   "metadata": {},
   "cell_type": "markdown",
   "source": "# ENU",
   "id": "5fc8a719ccbb2bc7"
  },
  {
   "metadata": {
    "ExecuteTime": {
     "end_time": "2024-09-19T11:49:21.741188Z",
     "start_time": "2024-09-19T11:49:21.738235Z"
    }
   },
   "cell_type": "code",
   "outputs": [],
   "execution_count": 3,
   "source": [
    "# data = funcs.ssm_sc_to_ssies_sc(ssm_data_clip['B_SC_OBS_ORIG_x'],ssm_data_clip['B_SC_OBS_ORIG_y'],ssm_data_clip['B_SC_OBS_ORIG_z'])\n",
    "# B = funcs.ssies_sc_to_ENU(data['1'],data['2'],data['3'],ssm_data_clip)"
   ],
   "id": "bb1245d3db19f2b1"
  },
  {
   "metadata": {
    "ExecuteTime": {
     "end_time": "2024-09-19T11:49:21.773331Z",
     "start_time": "2024-09-19T11:49:21.770655Z"
    }
   },
   "cell_type": "code",
   "outputs": [],
   "execution_count": 4,
   "source": [
    "# _ = {'E':B['E']-ssies3_data['by'], 'N':B['N']-ssies3_data['bx'], 'U':B['U']+ssies3_data['bz']}\n",
    "# b = pd.DataFrame(_)"
   ],
   "id": "3437c96234e73547"
  },
  {
   "metadata": {
    "ExecuteTime": {
     "end_time": "2024-09-19T11:49:21.803733Z",
     "start_time": "2024-09-19T11:49:21.799972Z"
    }
   },
   "cell_type": "code",
   "outputs": [],
   "execution_count": 5,
   "source": "# v = funcs.ssies_sc_to_ENU(ssies3_data['vx'],ssies3_data['vy'],ssies3_data['vz'],ssm_data_clip)",
   "id": "78f962fa2938a1e6"
  },
  {
   "metadata": {
    "ExecuteTime": {
     "end_time": "2024-09-19T11:49:21.834616Z",
     "start_time": "2024-09-19T11:49:21.830862Z"
    }
   },
   "cell_type": "code",
   "outputs": [],
   "execution_count": 6,
   "source": "# E = pd.DataFrame(np.cross(v.values, B.values) * 1e-6 * -1, columns=['E', 'N', 'U'], index=b.index)",
   "id": "3cd2ec7dd066b84b"
  }
 ],
 "metadata": {
  "kernelspec": {
   "display_name": "Python 3",
   "language": "python",
   "name": "python3"
  },
  "language_info": {
   "codemirror_mode": {
    "name": "ipython",
    "version": 2
   },
   "file_extension": ".py",
   "mimetype": "text/x-python",
   "name": "python",
   "nbconvert_exporter": "python",
   "pygments_lexer": "ipython2",
   "version": "2.7.6"
  }
 },
 "nbformat": 4,
 "nbformat_minor": 5
}
