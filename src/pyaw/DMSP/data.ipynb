{
 "cells": [
  {
   "cell_type": "code",
   "execution_count": null,
   "id": "initial_id",
   "metadata": {
    "collapsed": true
   },
   "outputs": [],
   "source": [
    "import os\n",
    "import importlib\n",
    "\n",
    "from DMSP import funcs\n",
    "\n",
    "importlib.reload(funcs)"
   ]
  },
  {
   "metadata": {},
   "cell_type": "markdown",
   "source": "## ssm data",
   "id": "d2d35e67646ae324"
  },
  {
   "metadata": {},
   "cell_type": "code",
   "outputs": [],
   "execution_count": null,
   "source": [
    "dir = r\"G:\\master\\DMSP\\data\\2014\\f16\\ssm\"\n",
    "fn = \"dmsp-f16_ssm_magnetometer_20140101_v1.0.4.cdf\"\n",
    "fp = os.path.join(dir,fn)\n",
    "ssm_data = funcs.process_ssm_data(fp)\n",
    "# funcs.ssm(fp)  # 原始数据"
   ],
   "id": "f7b20a32a20a97f2"
  },
  {
   "metadata": {},
   "cell_type": "markdown",
   "source": "## ssies3 data",
   "id": "624a57965a73899d"
  },
  {
   "metadata": {},
   "cell_type": "code",
   "outputs": [],
   "execution_count": null,
   "source": [
    "dir = r\"G:\\master\\DMSP\\data\\2014\\f16\\ssies3\"\n",
    "fn = \"dmsp-f16_ssies-3_thermal-plasma_201401011654_v01.cdf\"\n",
    "fp = os.path.join(dir,fn)\n",
    "ssies3_data = funcs.process_ssies3_data(fp)\n",
    "# funcs.ssies3(fp) # 原始数据"
   ],
   "id": "4b2c5063c2ee25f1"
  },
  {
   "metadata": {},
   "cell_type": "markdown",
   "source": "## ssm数据切片，保证ssm和ssies3数据的所有的时间点一致",
   "id": "24f10a064db31da7"
  },
  {
   "metadata": {},
   "cell_type": "code",
   "outputs": [],
   "execution_count": null,
   "source": "ssm_data_clip = funcs.clip_ssm_by_ssies3(ssies3_data, ssm_data)",
   "id": "8ec163be96f2bf0c"
  },
  {
   "metadata": {},
   "cell_type": "markdown",
   "source": "",
   "id": "282072b4cf271962"
  }
 ],
 "metadata": {
  "kernelspec": {
   "display_name": "Python 3",
   "language": "python",
   "name": "python3"
  },
  "language_info": {
   "codemirror_mode": {
    "name": "ipython",
    "version": 2
   },
   "file_extension": ".py",
   "mimetype": "text/x-python",
   "name": "python",
   "nbconvert_exporter": "python",
   "pygments_lexer": "ipython2",
   "version": "2.7.6"
  }
 },
 "nbformat": 4,
 "nbformat_minor": 5
}
