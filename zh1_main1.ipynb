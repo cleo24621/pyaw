{
 "cells": [
  {
   "metadata": {},
   "cell_type": "markdown",
   "source": "有区别，但是按照我的计算扰动电场的方法得到的扰动电场的3分量，最小的分量不在U坐标上 -> 检验坐标转换方法 or 通过同时段的Swarm，使用同样的坐标变换进行检验。",
   "id": "446648f40e9ccc83"
  },
  {
   "metadata": {
    "ExecuteTime": {
     "end_time": "2024-12-03T08:33:59.922516Z",
     "start_time": "2024-12-03T08:33:57.043879Z"
    }
   },
   "cell_type": "code",
   "source": [
    "import pandas as pd\n",
    "from importlib import reload\n",
    "\n",
    "from zh1 import zh1\n",
    "\n",
    "reload(zh1)"
   ],
   "id": "21ab86ce1ec09b01",
   "outputs": [
    {
     "data": {
      "text/plain": [
       "<module 'pyaw.zh1' from 'D:\\\\cleo\\\\master\\\\pyaw\\\\pyaw\\\\zh1.py'>"
      ]
     },
     "execution_count": 1,
     "metadata": {},
     "output_type": "execute_result"
    }
   ],
   "execution_count": 1
  },
  {
   "metadata": {
    "ExecuteTime": {
     "end_time": "2024-12-03T08:34:00.014017Z",
     "start_time": "2024-12-03T08:33:59.924019Z"
    }
   },
   "cell_type": "code",
   "source": [
    "fp_efd_2 = r\"D:\\cleo\\master\\pyaw\\data\\zh1\\CSES_01_EFD_1_L02_A1_178261_20210420_000718_20210420_004159_000.h5\"\n",
    "fp_efd_2a = r\"D:\\cleo\\master\\pyaw\\data\\zh1\\CSES_01_EFD_1_L2A_A1_178261_20210420_000718_20210420_004159_000.h5\"\n",
    "fp_scm = r\"D:\\cleo\\master\\pyaw\\data\\zh1\\CSES_01_SCM_1_L02_A2_178261_20210420_000623_20210420_004156_000.h5\"\n",
    "efdulf2 = zh1.EFDULF(fp_efd_2)\n",
    "efdulf2a = zh1.EFDULF(fp_efd_2a)\n",
    "scmulf = zh1.SCMULF(fp_scm)"
   ],
   "id": "ed0e892d9789e9c2",
   "outputs": [],
   "execution_count": 2
  },
  {
   "metadata": {
    "ExecuteTime": {
     "end_time": "2024-12-03T08:34:00.346017Z",
     "start_time": "2024-12-03T08:34:00.073217Z"
    }
   },
   "cell_type": "code",
   "source": "efdscm2a = zh1.EFDSCMClip(pd.Timestamp(\"2021-04-20 00:07:18.751\"), pd.Timestamp(\"2021-04-20 00:10:27.167\"), fp_efd_2a, fp_scm)",
   "id": "2e5f47ced102ee23",
   "outputs": [],
   "execution_count": 3
  },
  {
   "metadata": {
    "ExecuteTime": {
     "end_time": "2024-12-03T08:34:00.559656Z",
     "start_time": "2024-12-03T08:34:00.350718Z"
    }
   },
   "cell_type": "code",
   "source": "efdscm2 = zh1.EFDSCMClip(pd.Timestamp(\"2021-04-20 00:07:18.751\"), pd.Timestamp(\"2021-04-20 00:10:27.167\"), fp_efd_2, fp_scm)",
   "id": "7246ef7fe2b392b6",
   "outputs": [],
   "execution_count": 4
  }
 ],
 "metadata": {
  "kernelspec": {
   "display_name": "Python 3",
   "language": "python",
   "name": "python3"
  },
  "language_info": {
   "codemirror_mode": {
    "name": "ipython",
    "version": 2
   },
   "file_extension": ".py",
   "mimetype": "text/x-python",
   "name": "python",
   "nbconvert_exporter": "python",
   "pygments_lexer": "ipython2",
   "version": "2.7.6"
  }
 },
 "nbformat": 4,
 "nbformat_minor": 5
}
